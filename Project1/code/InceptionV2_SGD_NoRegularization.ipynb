{
 "cells": [
  {
   "cell_type": "code",
   "execution_count": 1,
   "metadata": {
    "id": "Q2Kfxt726PWs"
   },
   "outputs": [],
   "source": [
    "import numpy as np\n",
    "from keras.models import Sequential\n",
    "from keras.datasets import cifar100\n",
    "from keras.utils import to_categorical\n",
    "from keras.models import Sequential, Model\n",
    "from keras.layers import Conv2D, MaxPool2D, Flatten, Dense, Activation, Input, concatenate, GlobalAveragePooling2D\n",
    "from keras.optimizers import Adam, SGD\n",
    "import keras\n",
    "from keras.preprocessing.image import ImageDataGenerator\n",
    "from keras.callbacks import ModelCheckpoint, EarlyStopping\n",
    "from sklearn.metrics import accuracy_score, precision_score, recall_score\n",
    "import matplotlib.pyplot as plt"
   ]
  },
  {
   "cell_type": "code",
   "execution_count": 15,
   "metadata": {
    "colab": {
     "base_uri": "https://localhost:8080/",
     "height": 34
    },
    "id": "NYkVYnY67czA",
    "outputId": "f41bf4cb-de60-4ac6-b004-532c78287ce6"
   },
   "outputs": [
    {
     "name": "stdout",
     "output_type": "stream",
     "text": [
      "Mounted at /content/gdrive\n"
     ]
    }
   ],
   "source": [
    "from google.colab import drive\n",
    "drive.mount('/content/gdrive', force_remount=True)"
   ]
  },
  {
   "cell_type": "code",
   "execution_count": 3,
   "metadata": {
    "id": "-Zn0MBmuVDQA"
   },
   "outputs": [],
   "source": [
    "NUMBER_OF_CLASSES = 100\n",
    "epochs = 200\n",
    "batch_size = 100\n",
    "path_best = \"gdrive/My Drive/Colab Notebooks/InceptionV2_SGD_NoRegularization.h5\"\n",
    "# path_best = \"../weights/InceptionV2_SGD_NoRegularization.h5\"\n",
    "path_train = \"gdrive/My Drive/Colab Notebooks/InceptionV2_SGD_NoRegularization_2.h5\" "
   ]
  },
  {
   "cell_type": "code",
   "execution_count": 4,
   "metadata": {
    "colab": {
     "base_uri": "https://localhost:8080/",
     "height": 50
    },
    "id": "6OSeM4U57me7",
    "outputId": "52f8aac2-8161-493d-8240-37f31e531703"
   },
   "outputs": [
    {
     "name": "stdout",
     "output_type": "stream",
     "text": [
      "Downloading data from https://www.cs.toronto.edu/~kriz/cifar-100-python.tar.gz\n",
      "169009152/169001437 [==============================] - 4s 0us/step\n"
     ]
    }
   ],
   "source": [
    "(x_train,y_train), (x_test, y_test) = cifar100.load_data()\n",
    "\n",
    "y_train_norm = to_categorical(y_train, NUMBER_OF_CLASSES)\n",
    "y_test_norm = to_categorical(y_test, NUMBER_OF_CLASSES)\n",
    "\n",
    "y_test = y_test.flatten()\n",
    "\n",
    "x_train = x_train.astype('float32')/255\n",
    "x_test = x_test.astype('float32')/255\n",
    "\n",
    "mean = np.mean(x_train, axis=(0,1,2,3))\n",
    "std = np.std(x_train, axis=(0,1,2,3))\n",
    "\n",
    "x_train_norm = (x_train-mean)/(std+1e-7)\n",
    "x_test_norm = (x_test-mean)/(std+1e-7)"
   ]
  },
  {
   "cell_type": "code",
   "execution_count": 5,
   "metadata": {
    "id": "RyqX8XRmVJJe"
   },
   "outputs": [],
   "source": [
    "datagen = ImageDataGenerator(\n",
    "    featurewise_center=False,\n",
    "    samplewise_center=False,\n",
    "    featurewise_std_normalization=False,\n",
    "    samplewise_std_normalization=False,\n",
    "    zca_whitening=False,\n",
    "    zca_epsilon=1e-06,\n",
    "    rotation_range=10,\n",
    "    width_shift_range=0.1,\n",
    "    height_shift_range=0.1,\n",
    "    horizontal_flip=True,\n",
    "    vertical_flip=False)\n",
    "\n",
    "datagen.fit(x_train_norm)"
   ]
  },
  {
   "cell_type": "code",
   "execution_count": 6,
   "metadata": {
    "id": "cnZJet_TtUck"
   },
   "outputs": [],
   "source": [
    "def inceptionBuilder(l, f_1x1, f_3x3_r, f_3x3, f_5x5_r, f_5x5, f_p):\n",
    "    l_1 = Conv2D(filters=f_1x1, kernel_size=(1,1), padding='same', activation='relu')(l)\n",
    "\n",
    "    l_3 = Conv2D(filters=f_3x3_r, kernel_size=(1,1), padding='same', activation='relu')(l)\n",
    "    l_3 = Conv2D(filters=f_3x3, kernel_size=(3,3), padding='same', activation='relu')(l_3)\n",
    "\n",
    "    l_5 = Conv2D(filters=f_5x5_r, kernel_size=(1,1), padding='same', activation='relu')(l)\n",
    "    l_5 = Conv2D(filters=f_5x5, kernel_size=(5,5), padding='same', activation='relu')(l_5)\n",
    "\n",
    "    l_p = MaxPool2D(pool_size=(3,3), strides=(1,1), padding='same')(l)\n",
    "    l_p = Conv2D(filters=f_p, kernel_size=(1,1), padding='same', activation='relu')(l_p)\n",
    "\n",
    "    ret = concatenate([l_1, l_3, l_5, l_p], axis=3)\n",
    "\n",
    "    return ret"
   ]
  },
  {
   "cell_type": "code",
   "execution_count": 7,
   "metadata": {
    "id": "N6E_EDd-n2s5"
   },
   "outputs": [],
   "source": [
    "def create_InceptionV2Model():\n",
    "    input = Input(shape=(32,32,3))\n",
    "    l = Conv2D(filters=64, kernel_size=(7,7), padding=\"same\")(input)\n",
    "    l = Activation('relu')(l)\n",
    "    \n",
    "    l = MaxPool2D(pool_size=(3,3), padding='same', strides=(2,2))(l)\n",
    "    l = Conv2D(filters=64, kernel_size=(1,1), activation='relu')(l)\n",
    "    l = Conv2D(filters=192, kernel_size=(3,3), activation='relu')(l)\n",
    "    l = MaxPool2D(pool_size=(3,3), padding='same', strides=(2,2))(l)\n",
    "\n",
    "    l = inceptionBuilder(l, 64, 96, 128, 16, 32, 32)\n",
    "    l = inceptionBuilder(l, 128, 128, 192, 32, 96, 64)\n",
    "\n",
    "    l = MaxPool2D(pool_size=(3,3,), strides=(2,2), padding='same')(l)\n",
    "\n",
    "    l = inceptionBuilder(l, 192, 96, 208, 16, 48, 64)\n",
    "\n",
    "    l = GlobalAveragePooling2D()(l)\n",
    "    l = Dense(NUMBER_OF_CLASSES, activation='softmax')(l)\n",
    "\n",
    "    model = Model(inputs = input, outputs = l)\n",
    "    return model"
   ]
  },
  {
   "cell_type": "code",
   "execution_count": 8,
   "metadata": {
    "colab": {
     "base_uri": "https://localhost:8080/",
     "height": 1000
    },
    "id": "YBCWuynkGmZN",
    "outputId": "666e8874-9d11-4f91-8e83-4091b3439746"
   },
   "outputs": [
    {
     "name": "stdout",
     "output_type": "stream",
     "text": [
      "Model: \"functional_1\"\n",
      "__________________________________________________________________________________________________\n",
      "Layer (type)                    Output Shape         Param #     Connected to                     \n",
      "==================================================================================================\n",
      "input_1 (InputLayer)            [(None, 32, 32, 3)]  0                                            \n",
      "__________________________________________________________________________________________________\n",
      "conv2d (Conv2D)                 (None, 32, 32, 64)   9472        input_1[0][0]                    \n",
      "__________________________________________________________________________________________________\n",
      "activation (Activation)         (None, 32, 32, 64)   0           conv2d[0][0]                     \n",
      "__________________________________________________________________________________________________\n",
      "max_pooling2d (MaxPooling2D)    (None, 16, 16, 64)   0           activation[0][0]                 \n",
      "__________________________________________________________________________________________________\n",
      "conv2d_1 (Conv2D)               (None, 16, 16, 64)   4160        max_pooling2d[0][0]              \n",
      "__________________________________________________________________________________________________\n",
      "conv2d_2 (Conv2D)               (None, 14, 14, 192)  110784      conv2d_1[0][0]                   \n",
      "__________________________________________________________________________________________________\n",
      "max_pooling2d_1 (MaxPooling2D)  (None, 7, 7, 192)    0           conv2d_2[0][0]                   \n",
      "__________________________________________________________________________________________________\n",
      "conv2d_4 (Conv2D)               (None, 7, 7, 96)     18528       max_pooling2d_1[0][0]            \n",
      "__________________________________________________________________________________________________\n",
      "conv2d_6 (Conv2D)               (None, 7, 7, 16)     3088        max_pooling2d_1[0][0]            \n",
      "__________________________________________________________________________________________________\n",
      "max_pooling2d_2 (MaxPooling2D)  (None, 7, 7, 192)    0           max_pooling2d_1[0][0]            \n",
      "__________________________________________________________________________________________________\n",
      "conv2d_3 (Conv2D)               (None, 7, 7, 64)     12352       max_pooling2d_1[0][0]            \n",
      "__________________________________________________________________________________________________\n",
      "conv2d_5 (Conv2D)               (None, 7, 7, 128)    110720      conv2d_4[0][0]                   \n",
      "__________________________________________________________________________________________________\n",
      "conv2d_7 (Conv2D)               (None, 7, 7, 32)     12832       conv2d_6[0][0]                   \n",
      "__________________________________________________________________________________________________\n",
      "conv2d_8 (Conv2D)               (None, 7, 7, 32)     6176        max_pooling2d_2[0][0]            \n",
      "__________________________________________________________________________________________________\n",
      "concatenate (Concatenate)       (None, 7, 7, 256)    0           conv2d_3[0][0]                   \n",
      "                                                                 conv2d_5[0][0]                   \n",
      "                                                                 conv2d_7[0][0]                   \n",
      "                                                                 conv2d_8[0][0]                   \n",
      "__________________________________________________________________________________________________\n",
      "conv2d_10 (Conv2D)              (None, 7, 7, 128)    32896       concatenate[0][0]                \n",
      "__________________________________________________________________________________________________\n",
      "conv2d_12 (Conv2D)              (None, 7, 7, 32)     8224        concatenate[0][0]                \n",
      "__________________________________________________________________________________________________\n",
      "max_pooling2d_3 (MaxPooling2D)  (None, 7, 7, 256)    0           concatenate[0][0]                \n",
      "__________________________________________________________________________________________________\n",
      "conv2d_9 (Conv2D)               (None, 7, 7, 128)    32896       concatenate[0][0]                \n",
      "__________________________________________________________________________________________________\n",
      "conv2d_11 (Conv2D)              (None, 7, 7, 192)    221376      conv2d_10[0][0]                  \n",
      "__________________________________________________________________________________________________\n",
      "conv2d_13 (Conv2D)              (None, 7, 7, 96)     76896       conv2d_12[0][0]                  \n",
      "__________________________________________________________________________________________________\n",
      "conv2d_14 (Conv2D)              (None, 7, 7, 64)     16448       max_pooling2d_3[0][0]            \n",
      "__________________________________________________________________________________________________\n",
      "concatenate_1 (Concatenate)     (None, 7, 7, 480)    0           conv2d_9[0][0]                   \n",
      "                                                                 conv2d_11[0][0]                  \n",
      "                                                                 conv2d_13[0][0]                  \n",
      "                                                                 conv2d_14[0][0]                  \n",
      "__________________________________________________________________________________________________\n",
      "max_pooling2d_4 (MaxPooling2D)  (None, 4, 4, 480)    0           concatenate_1[0][0]              \n",
      "__________________________________________________________________________________________________\n",
      "conv2d_16 (Conv2D)              (None, 4, 4, 96)     46176       max_pooling2d_4[0][0]            \n",
      "__________________________________________________________________________________________________\n",
      "conv2d_18 (Conv2D)              (None, 4, 4, 16)     7696        max_pooling2d_4[0][0]            \n",
      "__________________________________________________________________________________________________\n",
      "max_pooling2d_5 (MaxPooling2D)  (None, 4, 4, 480)    0           max_pooling2d_4[0][0]            \n",
      "__________________________________________________________________________________________________\n",
      "conv2d_15 (Conv2D)              (None, 4, 4, 192)    92352       max_pooling2d_4[0][0]            \n",
      "__________________________________________________________________________________________________\n",
      "conv2d_17 (Conv2D)              (None, 4, 4, 208)    179920      conv2d_16[0][0]                  \n",
      "__________________________________________________________________________________________________\n",
      "conv2d_19 (Conv2D)              (None, 4, 4, 48)     19248       conv2d_18[0][0]                  \n",
      "__________________________________________________________________________________________________\n",
      "conv2d_20 (Conv2D)              (None, 4, 4, 64)     30784       max_pooling2d_5[0][0]            \n",
      "__________________________________________________________________________________________________\n",
      "concatenate_2 (Concatenate)     (None, 4, 4, 512)    0           conv2d_15[0][0]                  \n",
      "                                                                 conv2d_17[0][0]                  \n",
      "                                                                 conv2d_19[0][0]                  \n",
      "                                                                 conv2d_20[0][0]                  \n",
      "__________________________________________________________________________________________________\n",
      "global_average_pooling2d (Globa (None, 512)          0           concatenate_2[0][0]              \n",
      "__________________________________________________________________________________________________\n",
      "dense (Dense)                   (None, 100)          51300       global_average_pooling2d[0][0]   \n",
      "==================================================================================================\n",
      "Total params: 1,104,324\n",
      "Trainable params: 1,104,324\n",
      "Non-trainable params: 0\n",
      "__________________________________________________________________________________________________\n"
     ]
    }
   ],
   "source": [
    "model = create_InceptionV2Model()\n",
    "model.summary()"
   ]
  },
  {
   "cell_type": "code",
   "execution_count": 9,
   "metadata": {
    "id": "WcAf2mgXDvLy"
   },
   "outputs": [],
   "source": [
    "sgd = SGD(lr=0.01, decay=1e-6, momentum=0.9, nesterov=True)\n",
    "model.compile(loss='categorical_crossentropy', optimizer=sgd,metrics=['accuracy'])"
   ]
  },
  {
   "cell_type": "markdown",
   "metadata": {
    "id": "9ggQTjnJVVw9"
   },
   "source": [
    "**Training**"
   ]
  },
  {
   "cell_type": "code",
   "execution_count": 10,
   "metadata": {
    "colab": {
     "base_uri": "https://localhost:8080/",
     "height": 34
    },
    "id": "t94CVXZFOOTE",
    "outputId": "5a576ac2-2837-447b-d30b-0feb8dc38c34"
   },
   "outputs": [
    {
     "name": "stdout",
     "output_type": "stream",
     "text": [
      "WARNING:tensorflow:`period` argument is deprecated. Please use `save_freq` to specify the frequency in number of batches seen.\n"
     ]
    }
   ],
   "source": [
    "checkpoint = ModelCheckpoint(path_train, monitor='val_accuracy', verbose=1, save_best_only=True, save_weights_only=False, mode='auto',period=1)\n",
    "early = EarlyStopping(monitor='val_accuracy', min_delta=0, patience=20, verbose=1, mode='auto')"
   ]
  },
  {
   "cell_type": "code",
   "execution_count": 11,
   "metadata": {
    "colab": {
     "base_uri": "https://localhost:8080/",
     "height": 1000
    },
    "id": "sB19ilBkJ2r7",
    "outputId": "f9304e5b-8840-4ccc-c97b-ee3352c5abf6"
   },
   "outputs": [
    {
     "name": "stdout",
     "output_type": "stream",
     "text": [
      "Epoch 1/200\n",
      "\n",
      "Epoch 00001: val_accuracy improved from -inf to 0.11560, saving model to gdrive/My Drive/Colab Notebooks/InceptionV2_SGD_NoRegularization_2.h5\n",
      "500/500 - 23s - loss: 4.2439 - accuracy: 0.0561 - val_loss: 3.8101 - val_accuracy: 0.1156\n",
      "Epoch 2/200\n",
      "\n",
      "Epoch 00002: val_accuracy improved from 0.11560 to 0.19870, saving model to gdrive/My Drive/Colab Notebooks/InceptionV2_SGD_NoRegularization_2.h5\n",
      "500/500 - 23s - loss: 3.5710 - accuracy: 0.1526 - val_loss: 3.3460 - val_accuracy: 0.1987\n",
      "Epoch 3/200\n",
      "\n",
      "Epoch 00003: val_accuracy improved from 0.19870 to 0.26620, saving model to gdrive/My Drive/Colab Notebooks/InceptionV2_SGD_NoRegularization_2.h5\n",
      "500/500 - 23s - loss: 3.1587 - accuracy: 0.2222 - val_loss: 2.9397 - val_accuracy: 0.2662\n",
      "Epoch 4/200\n",
      "\n",
      "Epoch 00004: val_accuracy improved from 0.26620 to 0.30360, saving model to gdrive/My Drive/Colab Notebooks/InceptionV2_SGD_NoRegularization_2.h5\n",
      "500/500 - 23s - loss: 2.8430 - accuracy: 0.2818 - val_loss: 2.7255 - val_accuracy: 0.3036\n",
      "Epoch 5/200\n",
      "\n",
      "Epoch 00005: val_accuracy improved from 0.30360 to 0.36410, saving model to gdrive/My Drive/Colab Notebooks/InceptionV2_SGD_NoRegularization_2.h5\n",
      "500/500 - 23s - loss: 2.5888 - accuracy: 0.3321 - val_loss: 2.4703 - val_accuracy: 0.3641\n",
      "Epoch 6/200\n",
      "\n",
      "Epoch 00006: val_accuracy improved from 0.36410 to 0.38760, saving model to gdrive/My Drive/Colab Notebooks/InceptionV2_SGD_NoRegularization_2.h5\n",
      "500/500 - 23s - loss: 2.4042 - accuracy: 0.3701 - val_loss: 2.3247 - val_accuracy: 0.3876\n",
      "Epoch 7/200\n",
      "\n",
      "Epoch 00007: val_accuracy improved from 0.38760 to 0.40570, saving model to gdrive/My Drive/Colab Notebooks/InceptionV2_SGD_NoRegularization_2.h5\n",
      "500/500 - 23s - loss: 2.2463 - accuracy: 0.4054 - val_loss: 2.2593 - val_accuracy: 0.4057\n",
      "Epoch 8/200\n",
      "\n",
      "Epoch 00008: val_accuracy improved from 0.40570 to 0.42630, saving model to gdrive/My Drive/Colab Notebooks/InceptionV2_SGD_NoRegularization_2.h5\n",
      "500/500 - 23s - loss: 2.1169 - accuracy: 0.4345 - val_loss: 2.1809 - val_accuracy: 0.4263\n",
      "Epoch 9/200\n",
      "\n",
      "Epoch 00009: val_accuracy improved from 0.42630 to 0.45590, saving model to gdrive/My Drive/Colab Notebooks/InceptionV2_SGD_NoRegularization_2.h5\n",
      "500/500 - 23s - loss: 2.0066 - accuracy: 0.4572 - val_loss: 2.0518 - val_accuracy: 0.4559\n",
      "Epoch 10/200\n",
      "\n",
      "Epoch 00010: val_accuracy improved from 0.45590 to 0.45930, saving model to gdrive/My Drive/Colab Notebooks/InceptionV2_SGD_NoRegularization_2.h5\n",
      "500/500 - 23s - loss: 1.9055 - accuracy: 0.4813 - val_loss: 2.0501 - val_accuracy: 0.4593\n",
      "Epoch 11/200\n",
      "\n",
      "Epoch 00011: val_accuracy improved from 0.45930 to 0.47400, saving model to gdrive/My Drive/Colab Notebooks/InceptionV2_SGD_NoRegularization_2.h5\n",
      "500/500 - 23s - loss: 1.8172 - accuracy: 0.5005 - val_loss: 1.9737 - val_accuracy: 0.4740\n",
      "Epoch 12/200\n",
      "\n",
      "Epoch 00012: val_accuracy improved from 0.47400 to 0.49830, saving model to gdrive/My Drive/Colab Notebooks/InceptionV2_SGD_NoRegularization_2.h5\n",
      "500/500 - 23s - loss: 1.7511 - accuracy: 0.5172 - val_loss: 1.8603 - val_accuracy: 0.4983\n",
      "Epoch 13/200\n",
      "\n",
      "Epoch 00013: val_accuracy did not improve from 0.49830\n",
      "500/500 - 22s - loss: 1.6784 - accuracy: 0.5349 - val_loss: 1.9303 - val_accuracy: 0.4952\n",
      "Epoch 14/200\n",
      "\n",
      "Epoch 00014: val_accuracy improved from 0.49830 to 0.50480, saving model to gdrive/My Drive/Colab Notebooks/InceptionV2_SGD_NoRegularization_2.h5\n",
      "500/500 - 23s - loss: 1.6136 - accuracy: 0.5504 - val_loss: 1.8847 - val_accuracy: 0.5048\n",
      "Epoch 15/200\n",
      "\n",
      "Epoch 00015: val_accuracy did not improve from 0.50480\n",
      "500/500 - 22s - loss: 1.5547 - accuracy: 0.5626 - val_loss: 2.0029 - val_accuracy: 0.4952\n",
      "Epoch 16/200\n",
      "\n",
      "Epoch 00016: val_accuracy improved from 0.50480 to 0.52050, saving model to gdrive/My Drive/Colab Notebooks/InceptionV2_SGD_NoRegularization_2.h5\n",
      "500/500 - 23s - loss: 1.4994 - accuracy: 0.5812 - val_loss: 1.8358 - val_accuracy: 0.5205\n",
      "Epoch 17/200\n",
      "\n",
      "Epoch 00017: val_accuracy improved from 0.52050 to 0.53650, saving model to gdrive/My Drive/Colab Notebooks/InceptionV2_SGD_NoRegularization_2.h5\n",
      "500/500 - 23s - loss: 1.4494 - accuracy: 0.5912 - val_loss: 1.7689 - val_accuracy: 0.5365\n",
      "Epoch 18/200\n",
      "\n",
      "Epoch 00018: val_accuracy did not improve from 0.53650\n",
      "500/500 - 22s - loss: 1.3984 - accuracy: 0.6001 - val_loss: 1.8150 - val_accuracy: 0.5255\n",
      "Epoch 19/200\n",
      "\n",
      "Epoch 00019: val_accuracy did not improve from 0.53650\n",
      "500/500 - 22s - loss: 1.3550 - accuracy: 0.6116 - val_loss: 1.8023 - val_accuracy: 0.5241\n",
      "Epoch 20/200\n",
      "\n",
      "Epoch 00020: val_accuracy did not improve from 0.53650\n",
      "500/500 - 22s - loss: 1.3096 - accuracy: 0.6247 - val_loss: 1.8899 - val_accuracy: 0.5244\n",
      "Epoch 21/200\n",
      "\n",
      "Epoch 00021: val_accuracy did not improve from 0.53650\n",
      "500/500 - 22s - loss: 1.2765 - accuracy: 0.6323 - val_loss: 1.8749 - val_accuracy: 0.5261\n",
      "Epoch 22/200\n",
      "\n",
      "Epoch 00022: val_accuracy improved from 0.53650 to 0.55140, saving model to gdrive/My Drive/Colab Notebooks/InceptionV2_SGD_NoRegularization_2.h5\n",
      "500/500 - 23s - loss: 1.2321 - accuracy: 0.6419 - val_loss: 1.8598 - val_accuracy: 0.5514\n",
      "Epoch 23/200\n",
      "\n",
      "Epoch 00023: val_accuracy did not improve from 0.55140\n",
      "500/500 - 22s - loss: 1.1960 - accuracy: 0.6507 - val_loss: 1.7843 - val_accuracy: 0.5411\n",
      "Epoch 24/200\n",
      "\n",
      "Epoch 00024: val_accuracy did not improve from 0.55140\n",
      "500/500 - 22s - loss: 1.1591 - accuracy: 0.6618 - val_loss: 1.7921 - val_accuracy: 0.5508\n",
      "Epoch 25/200\n",
      "\n",
      "Epoch 00025: val_accuracy did not improve from 0.55140\n",
      "500/500 - 22s - loss: 1.1338 - accuracy: 0.6677 - val_loss: 1.8795 - val_accuracy: 0.5390\n",
      "Epoch 26/200\n",
      "\n",
      "Epoch 00026: val_accuracy did not improve from 0.55140\n",
      "500/500 - 22s - loss: 1.0971 - accuracy: 0.6786 - val_loss: 1.8332 - val_accuracy: 0.5417\n",
      "Epoch 27/200\n",
      "\n",
      "Epoch 00027: val_accuracy did not improve from 0.55140\n",
      "500/500 - 22s - loss: 1.0674 - accuracy: 0.6872 - val_loss: 1.8137 - val_accuracy: 0.5494\n",
      "Epoch 28/200\n",
      "\n",
      "Epoch 00028: val_accuracy did not improve from 0.55140\n",
      "500/500 - 22s - loss: 1.0344 - accuracy: 0.6925 - val_loss: 1.9233 - val_accuracy: 0.5424\n",
      "Epoch 29/200\n",
      "\n",
      "Epoch 00029: val_accuracy improved from 0.55140 to 0.55720, saving model to gdrive/My Drive/Colab Notebooks/InceptionV2_SGD_NoRegularization_2.h5\n",
      "500/500 - 23s - loss: 1.0132 - accuracy: 0.6985 - val_loss: 1.8869 - val_accuracy: 0.5572\n",
      "Epoch 30/200\n",
      "\n",
      "Epoch 00030: val_accuracy did not improve from 0.55720\n",
      "500/500 - 22s - loss: 0.9767 - accuracy: 0.7052 - val_loss: 2.0058 - val_accuracy: 0.5430\n",
      "Epoch 31/200\n",
      "\n",
      "Epoch 00031: val_accuracy improved from 0.55720 to 0.56270, saving model to gdrive/My Drive/Colab Notebooks/InceptionV2_SGD_NoRegularization_2.h5\n",
      "500/500 - 23s - loss: 0.9577 - accuracy: 0.7109 - val_loss: 1.7942 - val_accuracy: 0.5627\n",
      "Epoch 32/200\n",
      "\n",
      "Epoch 00032: val_accuracy did not improve from 0.56270\n",
      "500/500 - 22s - loss: 0.9210 - accuracy: 0.7226 - val_loss: 1.9026 - val_accuracy: 0.5540\n",
      "Epoch 33/200\n",
      "\n",
      "Epoch 00033: val_accuracy did not improve from 0.56270\n",
      "500/500 - 23s - loss: 0.9012 - accuracy: 0.7274 - val_loss: 1.9022 - val_accuracy: 0.5603\n",
      "Epoch 34/200\n",
      "\n",
      "Epoch 00034: val_accuracy did not improve from 0.56270\n",
      "500/500 - 22s - loss: 0.8822 - accuracy: 0.7333 - val_loss: 1.8948 - val_accuracy: 0.5547\n",
      "Epoch 35/200\n",
      "\n",
      "Epoch 00035: val_accuracy did not improve from 0.56270\n",
      "500/500 - 23s - loss: 0.8484 - accuracy: 0.7400 - val_loss: 1.9917 - val_accuracy: 0.5438\n",
      "Epoch 36/200\n",
      "\n",
      "Epoch 00036: val_accuracy improved from 0.56270 to 0.56700, saving model to gdrive/My Drive/Colab Notebooks/InceptionV2_SGD_NoRegularization_2.h5\n",
      "500/500 - 23s - loss: 0.8361 - accuracy: 0.7443 - val_loss: 1.9161 - val_accuracy: 0.5670\n",
      "Epoch 37/200\n",
      "\n",
      "Epoch 00037: val_accuracy did not improve from 0.56700\n",
      "500/500 - 23s - loss: 0.8185 - accuracy: 0.7510 - val_loss: 1.9246 - val_accuracy: 0.5576\n",
      "Epoch 38/200\n",
      "\n",
      "Epoch 00038: val_accuracy did not improve from 0.56700\n",
      "500/500 - 22s - loss: 0.7914 - accuracy: 0.7567 - val_loss: 2.0331 - val_accuracy: 0.5489\n",
      "Epoch 39/200\n",
      "\n",
      "Epoch 00039: val_accuracy did not improve from 0.56700\n",
      "500/500 - 23s - loss: 0.7878 - accuracy: 0.7582 - val_loss: 2.0575 - val_accuracy: 0.5480\n",
      "Epoch 40/200\n",
      "\n",
      "Epoch 00040: val_accuracy did not improve from 0.56700\n",
      "500/500 - 23s - loss: 0.7546 - accuracy: 0.7666 - val_loss: 2.0773 - val_accuracy: 0.5452\n",
      "Epoch 41/200\n",
      "\n",
      "Epoch 00041: val_accuracy improved from 0.56700 to 0.56780, saving model to gdrive/My Drive/Colab Notebooks/InceptionV2_SGD_NoRegularization_2.h5\n",
      "500/500 - 23s - loss: 0.7324 - accuracy: 0.7740 - val_loss: 1.9754 - val_accuracy: 0.5678\n",
      "Epoch 42/200\n",
      "\n",
      "Epoch 00042: val_accuracy did not improve from 0.56780\n",
      "500/500 - 23s - loss: 0.7257 - accuracy: 0.7737 - val_loss: 2.0852 - val_accuracy: 0.5597\n",
      "Epoch 43/200\n",
      "\n",
      "Epoch 00043: val_accuracy did not improve from 0.56780\n",
      "500/500 - 23s - loss: 0.7030 - accuracy: 0.7819 - val_loss: 2.0196 - val_accuracy: 0.5568\n",
      "Epoch 44/200\n",
      "\n",
      "Epoch 00044: val_accuracy did not improve from 0.56780\n",
      "500/500 - 23s - loss: 0.6943 - accuracy: 0.7824 - val_loss: 2.1528 - val_accuracy: 0.5567\n",
      "Epoch 45/200\n",
      "\n",
      "Epoch 00045: val_accuracy did not improve from 0.56780\n",
      "500/500 - 23s - loss: 0.6740 - accuracy: 0.7882 - val_loss: 2.2921 - val_accuracy: 0.5496\n",
      "Epoch 46/200\n",
      "\n",
      "Epoch 00046: val_accuracy did not improve from 0.56780\n",
      "500/500 - 23s - loss: 0.6557 - accuracy: 0.7959 - val_loss: 2.2356 - val_accuracy: 0.5515\n",
      "Epoch 47/200\n",
      "\n",
      "Epoch 00047: val_accuracy did not improve from 0.56780\n",
      "500/500 - 23s - loss: 0.6535 - accuracy: 0.7969 - val_loss: 2.1865 - val_accuracy: 0.5509\n",
      "Epoch 48/200\n",
      "\n",
      "Epoch 00048: val_accuracy did not improve from 0.56780\n",
      "500/500 - 23s - loss: 0.6361 - accuracy: 0.8000 - val_loss: 2.1135 - val_accuracy: 0.5581\n",
      "Epoch 49/200\n",
      "\n",
      "Epoch 00049: val_accuracy did not improve from 0.56780\n",
      "500/500 - 23s - loss: 0.6303 - accuracy: 0.8032 - val_loss: 2.2079 - val_accuracy: 0.5636\n",
      "Epoch 50/200\n",
      "\n",
      "Epoch 00050: val_accuracy did not improve from 0.56780\n",
      "500/500 - 23s - loss: 0.6071 - accuracy: 0.8066 - val_loss: 2.2210 - val_accuracy: 0.5570\n",
      "Epoch 51/200\n",
      "\n",
      "Epoch 00051: val_accuracy did not improve from 0.56780\n",
      "500/500 - 23s - loss: 0.5952 - accuracy: 0.8132 - val_loss: 2.2902 - val_accuracy: 0.5614\n",
      "Epoch 52/200\n",
      "\n",
      "Epoch 00052: val_accuracy did not improve from 0.56780\n",
      "500/500 - 23s - loss: 0.5942 - accuracy: 0.8119 - val_loss: 2.3906 - val_accuracy: 0.5459\n",
      "Epoch 53/200\n",
      "\n",
      "Epoch 00053: val_accuracy did not improve from 0.56780\n",
      "500/500 - 23s - loss: 0.5788 - accuracy: 0.8149 - val_loss: 2.1984 - val_accuracy: 0.5528\n",
      "Epoch 54/200\n",
      "\n",
      "Epoch 00054: val_accuracy did not improve from 0.56780\n",
      "500/500 - 23s - loss: 0.5761 - accuracy: 0.8191 - val_loss: 2.3084 - val_accuracy: 0.5492\n",
      "Epoch 55/200\n",
      "\n",
      "Epoch 00055: val_accuracy did not improve from 0.56780\n",
      "500/500 - 23s - loss: 0.5469 - accuracy: 0.8257 - val_loss: 2.3927 - val_accuracy: 0.5586\n",
      "Epoch 56/200\n",
      "\n",
      "Epoch 00056: val_accuracy did not improve from 0.56780\n",
      "500/500 - 23s - loss: 0.5471 - accuracy: 0.8266 - val_loss: 2.4118 - val_accuracy: 0.5444\n",
      "Epoch 57/200\n",
      "\n",
      "Epoch 00057: val_accuracy did not improve from 0.56780\n",
      "500/500 - 23s - loss: 0.5489 - accuracy: 0.8266 - val_loss: 2.3520 - val_accuracy: 0.5614\n",
      "Epoch 58/200\n",
      "\n",
      "Epoch 00058: val_accuracy did not improve from 0.56780\n",
      "500/500 - 23s - loss: 0.5344 - accuracy: 0.8305 - val_loss: 2.3942 - val_accuracy: 0.5621\n",
      "Epoch 59/200\n",
      "\n",
      "Epoch 00059: val_accuracy did not improve from 0.56780\n",
      "500/500 - 23s - loss: 0.5325 - accuracy: 0.8304 - val_loss: 2.3307 - val_accuracy: 0.5590\n",
      "Epoch 60/200\n",
      "\n",
      "Epoch 00060: val_accuracy did not improve from 0.56780\n",
      "500/500 - 23s - loss: 0.5080 - accuracy: 0.8407 - val_loss: 2.5245 - val_accuracy: 0.5378\n",
      "Epoch 61/200\n",
      "\n",
      "Epoch 00061: val_accuracy did not improve from 0.56780\n",
      "500/500 - 23s - loss: 0.5123 - accuracy: 0.8377 - val_loss: 2.4611 - val_accuracy: 0.5537\n",
      "Epoch 00061: early stopping\n"
     ]
    }
   ],
   "source": [
    "history = model.fit(datagen.flow(x_train_norm, y_train_norm,\n",
    "                                        batch_size=batch_size),\n",
    "                        steps_per_epoch=x_train_norm.shape[0]// batch_size,\n",
    "                        epochs=epochs,\n",
    "                        validation_data=(x_test_norm,y_test_norm),\n",
    "                        callbacks=[checkpoint, early],verbose=2)"
   ]
  },
  {
   "cell_type": "markdown",
   "metadata": {
    "id": "aDVvldA-QDHo"
   },
   "source": [
    "*Plotting training accuracy and loss*"
   ]
  },
  {
   "cell_type": "code",
   "execution_count": 12,
   "metadata": {
    "colab": {
     "base_uri": "https://localhost:8080/",
     "height": 421
    },
    "id": "2e6Hx6vbQE4U",
    "outputId": "de693b5b-d7f8-40ca-bea8-8bc5581c1651"
   },
   "outputs": [
    {
     "data": {
      "text/plain": [
       "<matplotlib.legend.Legend at 0x7fae70074ac8>"
      ]
     },
     "execution_count": 12,
     "metadata": {
      "tags": []
     },
     "output_type": "execute_result"
    },
    {
     "data": {
      "image/png": "[encoded data removed]",
      "text/plain": [
       "<Figure size 1440x432 with 2 Axes>"
      ]
     },
     "metadata": {
      "needs_background": "light",
      "tags": []
     },
     "output_type": "display_data"
    }
   ],
   "source": [
    "fig, axs = plt.subplots(1, 2, figsize=(20, 6))\n",
    "axs[0].plot(history.history['accuracy'])\n",
    "axs[0].plot(history.history['val_accuracy'])\n",
    "axs[0].set_title('Model Accuracy')\n",
    "axs[0].set(ylabel ='accuracy')\n",
    "axs[0].set(xlabel ='epoch')\n",
    "axs[0].legend(['train', 'test'], loc='upper left')\n",
    "\n",
    "axs[1].plot(history.history['loss'])\n",
    "axs[1].plot(history.history['val_loss'])\n",
    "axs[1].set_title('Model Loss')\n",
    "axs[1].set(ylabel='loss')\n",
    "axs[1].set(xlabel='epoch')\n",
    "axs[1].legend(['train', 'test'], loc='upper left')"
   ]
  },
  {
   "cell_type": "markdown",
   "metadata": {
    "id": "DgJUXkZ4f3rg"
   },
   "source": [
    "**Prediction**"
   ]
  },
  {
   "cell_type": "code",
   "execution_count": 16,
   "metadata": {
    "id": "mrLvRk-8f7U_"
   },
   "outputs": [],
   "source": [
    "model.load_weights(path_best) \n",
    "y_pred = np.argmax(model.predict(x_test_norm), axis=-1)"
   ]
  },
  {
   "cell_type": "code",
   "execution_count": 17,
   "metadata": {
    "colab": {
     "base_uri": "https://localhost:8080/",
     "height": 67
    },
    "id": "iC9dD0D7gEqg",
    "outputId": "fe181843-56f0-4e52-f435-2673d3bfa993"
   },
   "outputs": [
    {
     "name": "stdout",
     "output_type": "stream",
     "text": [
      "Precision:  0.5060049055955125\n",
      "Recall:  0.4998\n",
      "Accuracy:  0.4998\n"
     ]
    }
   ],
   "source": [
    "precision = precision_score(y_test, y_pred, average='weighted')\n",
    "print(\"Precision: \", precision)\n",
    "recall = recall_score(y_test, y_pred, average='weighted')\n",
    "print(\"Recall: \", recall)\n",
    "accuracy = accuracy_score(y_test, y_pred)\n",
    "print(\"Accuracy: \", accuracy)"
   ]
  }
 ],
 "metadata": {
  "accelerator": "GPU",
  "colab": {
   "collapsed_sections": [],
   "name": "InceptionV2_SGD_NoRegularization.ipynb",
   "provenance": []
  },
  "kernelspec": {
   "display_name": "Python 3",
   "language": "python",
   "name": "python3"
  },
  "language_info": {
   "codemirror_mode": {
    "name": "ipython",
    "version": 3
   },
   "file_extension": ".py",
   "mimetype": "text/x-python",
   "name": "python",
   "nbconvert_exporter": "python",
   "pygments_lexer": "ipython3",
   "version": "3.7.6"
  }
 },
 "nbformat": 4,
 "nbformat_minor": 1
}
