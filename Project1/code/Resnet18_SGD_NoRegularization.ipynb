{
 "cells": [
  {
   "cell_type": "code",
   "execution_count": 1,
   "metadata": {
    "id": "Q2Kfxt726PWs"
   },
   "outputs": [],
   "source": [
    "import numpy as np\n",
    "from keras.models import Sequential\n",
    "from keras.datasets import cifar100\n",
    "from keras.utils import to_categorical\n",
    "from keras.models import Sequential, Model\n",
    "from keras.layers import Conv2D, MaxPool2D, Flatten, Dense, Activation, Input, \\\n",
    "                    add, AveragePooling2D\n",
    "from keras.optimizers import SGD\n",
    "import keras\n",
    "from keras.preprocessing.image import ImageDataGenerator\n",
    "from keras.callbacks import ModelCheckpoint, EarlyStopping\n",
    "from sklearn.metrics import accuracy_score, precision_score, recall_score\n",
    "import matplotlib.pyplot as plt"
   ]
  },
  {
   "cell_type": "code",
   "execution_count": 2,
   "metadata": {
    "colab": {
     "base_uri": "https://localhost:8080/",
     "height": 34
    },
    "id": "NYkVYnY67czA",
    "outputId": "7eca5fbf-305f-4299-b184-8608dd4a5cfc"
   },
   "outputs": [
    {
     "name": "stdout",
     "output_type": "stream",
     "text": [
      "Mounted at /content/gdrive\n"
     ]
    }
   ],
   "source": [
    "from google.colab import drive\n",
    "drive.mount('/content/gdrive', force_remount=True)"
   ]
  },
  {
   "cell_type": "code",
   "execution_count": 3,
   "metadata": {
    "id": "-Zn0MBmuVDQA"
   },
   "outputs": [],
   "source": [
    "NUMBER_OF_CLASSES = 100\n",
    "epochs = 200\n",
    "batch_size = 100\n",
    "path_best = \"gdrive/My Drive/Colab Notebooks/Resnet18_SGD_NoRegularization.h5\"\n",
    "# path_best = \"../weights/Resnet18_SGD_NoRegularization.h5\"\n",
    "path_train = \"gdrive/My Drive/Colab Notebooks/Resnet18_SGD_NoRegularization_2.h5\" "
   ]
  },
  {
   "cell_type": "code",
   "execution_count": 4,
   "metadata": {
    "id": "6OSeM4U57me7"
   },
   "outputs": [],
   "source": [
    "(x_train,y_train), (x_test, y_test) = cifar100.load_data()\n",
    "\n",
    "y_train_norm = to_categorical(y_train, NUMBER_OF_CLASSES)\n",
    "y_test_norm = to_categorical(y_test, NUMBER_OF_CLASSES)\n",
    "\n",
    "y_test = y_test.flatten()\n",
    "\n",
    "x_train = x_train.astype('float32')/255\n",
    "x_test = x_test.astype('float32')/255\n",
    "\n",
    "mean = np.mean(x_train, axis=(0,1,2,3))\n",
    "std = np.std(x_train, axis=(0,1,2,3))\n",
    "\n",
    "x_train_norm = (x_train-mean)/(std+1e-7)\n",
    "x_test_norm = (x_test-mean)/(std+1e-7)"
   ]
  },
  {
   "cell_type": "code",
   "execution_count": 5,
   "metadata": {
    "id": "RyqX8XRmVJJe"
   },
   "outputs": [],
   "source": [
    "datagen = ImageDataGenerator(\n",
    "    featurewise_center=False,\n",
    "    samplewise_center=False,\n",
    "    featurewise_std_normalization=False,\n",
    "    samplewise_std_normalization=False,\n",
    "    zca_whitening=False,\n",
    "    zca_epsilon=1e-06,\n",
    "    rotation_range=10,\n",
    "    width_shift_range=0.1,\n",
    "    height_shift_range=0.1,\n",
    "    horizontal_flip=True,\n",
    "    vertical_flip=False)\n",
    "\n",
    "datagen.fit(x_train_norm)"
   ]
  },
  {
   "cell_type": "code",
   "execution_count": 6,
   "metadata": {
    "id": "cnZJet_TtUck"
   },
   "outputs": [],
   "source": [
    "def resnetBuilder(l, filters):\n",
    "    x = l\n",
    "\n",
    "    l = Conv2D(filters=filters, kernel_size=(3,3), padding='same', activation='relu')(l)\n",
    "    l = Conv2D(filters=filters, kernel_size=(3,3), padding='same', activation='relu')(l)\n",
    "\n",
    "    x = Conv2D(filters=filters, kernel_size=(1,1), padding='same', activation='relu')(x)\n",
    "    x = add([x,l])\n",
    "    x = Activation('relu')(x)\n",
    "\n",
    "    return x "
   ]
  },
  {
   "cell_type": "code",
   "execution_count": 7,
   "metadata": {
    "id": "N6E_EDd-n2s5"
   },
   "outputs": [],
   "source": [
    "def createResnetModel():\n",
    "    input = Input(shape=(32,32,3))\n",
    "    l = Conv2D(filters=64, kernel_size=(7,7), padding=\"same\")(input)\n",
    "    l = Activation('relu')(l)\n",
    "    l = MaxPool2D(pool_size=(3,3))(l)\n",
    "\n",
    "    l = resnetBuilder(l, 64)\n",
    "    l = resnetBuilder(l, 64)\n",
    "    l = resnetBuilder(l, 128)\n",
    "    l = resnetBuilder(l, 128)\n",
    "    l = resnetBuilder(l, 256)\n",
    "    l = resnetBuilder(l, 256)\n",
    "    l = resnetBuilder(l, 512)\n",
    "    l = resnetBuilder(l, 512)\n",
    "\n",
    "    l = AveragePooling2D(pool_size=(8,8))(l)\n",
    "    l = Flatten()(l)\n",
    "    output = Dense(NUMBER_OF_CLASSES, activation='softmax')(l)\n",
    "\n",
    "    model = Model(inputs=input, outputs=output)\n",
    "    return model"
   ]
  },
  {
   "cell_type": "code",
   "execution_count": 8,
   "metadata": {
    "colab": {
     "base_uri": "https://localhost:8080/",
     "height": 1000
    },
    "id": "YBCWuynkGmZN",
    "outputId": "f8de7892-283f-41d2-844f-7d9cb31a31e9"
   },
   "outputs": [
    {
     "name": "stdout",
     "output_type": "stream",
     "text": [
      "Model: \"functional_1\"\n",
      "__________________________________________________________________________________________________\n",
      "Layer (type)                    Output Shape         Param #     Connected to                     \n",
      "==================================================================================================\n",
      "input_1 (InputLayer)            [(None, 32, 32, 3)]  0                                            \n",
      "__________________________________________________________________________________________________\n",
      "conv2d (Conv2D)                 (None, 32, 32, 64)   9472        input_1[0][0]                    \n",
      "__________________________________________________________________________________________________\n",
      "activation (Activation)         (None, 32, 32, 64)   0           conv2d[0][0]                     \n",
      "__________________________________________________________________________________________________\n",
      "max_pooling2d (MaxPooling2D)    (None, 10, 10, 64)   0           activation[0][0]                 \n",
      "__________________________________________________________________________________________________\n",
      "conv2d_1 (Conv2D)               (None, 10, 10, 64)   36928       max_pooling2d[0][0]              \n",
      "__________________________________________________________________________________________________\n",
      "conv2d_3 (Conv2D)               (None, 10, 10, 64)   4160        max_pooling2d[0][0]              \n",
      "__________________________________________________________________________________________________\n",
      "conv2d_2 (Conv2D)               (None, 10, 10, 64)   36928       conv2d_1[0][0]                   \n",
      "__________________________________________________________________________________________________\n",
      "add (Add)                       (None, 10, 10, 64)   0           conv2d_3[0][0]                   \n",
      "                                                                 conv2d_2[0][0]                   \n",
      "__________________________________________________________________________________________________\n",
      "activation_1 (Activation)       (None, 10, 10, 64)   0           add[0][0]                        \n",
      "__________________________________________________________________________________________________\n",
      "conv2d_4 (Conv2D)               (None, 10, 10, 64)   36928       activation_1[0][0]               \n",
      "__________________________________________________________________________________________________\n",
      "conv2d_6 (Conv2D)               (None, 10, 10, 64)   4160        activation_1[0][0]               \n",
      "__________________________________________________________________________________________________\n",
      "conv2d_5 (Conv2D)               (None, 10, 10, 64)   36928       conv2d_4[0][0]                   \n",
      "__________________________________________________________________________________________________\n",
      "add_1 (Add)                     (None, 10, 10, 64)   0           conv2d_6[0][0]                   \n",
      "                                                                 conv2d_5[0][0]                   \n",
      "__________________________________________________________________________________________________\n",
      "activation_2 (Activation)       (None, 10, 10, 64)   0           add_1[0][0]                      \n",
      "__________________________________________________________________________________________________\n",
      "conv2d_7 (Conv2D)               (None, 10, 10, 128)  73856       activation_2[0][0]               \n",
      "__________________________________________________________________________________________________\n",
      "conv2d_9 (Conv2D)               (None, 10, 10, 128)  8320        activation_2[0][0]               \n",
      "__________________________________________________________________________________________________\n",
      "conv2d_8 (Conv2D)               (None, 10, 10, 128)  147584      conv2d_7[0][0]                   \n",
      "__________________________________________________________________________________________________\n",
      "add_2 (Add)                     (None, 10, 10, 128)  0           conv2d_9[0][0]                   \n",
      "                                                                 conv2d_8[0][0]                   \n",
      "__________________________________________________________________________________________________\n",
      "activation_3 (Activation)       (None, 10, 10, 128)  0           add_2[0][0]                      \n",
      "__________________________________________________________________________________________________\n",
      "conv2d_10 (Conv2D)              (None, 10, 10, 128)  147584      activation_3[0][0]               \n",
      "__________________________________________________________________________________________________\n",
      "conv2d_12 (Conv2D)              (None, 10, 10, 128)  16512       activation_3[0][0]               \n",
      "__________________________________________________________________________________________________\n",
      "conv2d_11 (Conv2D)              (None, 10, 10, 128)  147584      conv2d_10[0][0]                  \n",
      "__________________________________________________________________________________________________\n",
      "add_3 (Add)                     (None, 10, 10, 128)  0           conv2d_12[0][0]                  \n",
      "                                                                 conv2d_11[0][0]                  \n",
      "__________________________________________________________________________________________________\n",
      "activation_4 (Activation)       (None, 10, 10, 128)  0           add_3[0][0]                      \n",
      "__________________________________________________________________________________________________\n",
      "conv2d_13 (Conv2D)              (None, 10, 10, 256)  295168      activation_4[0][0]               \n",
      "__________________________________________________________________________________________________\n",
      "conv2d_15 (Conv2D)              (None, 10, 10, 256)  33024       activation_4[0][0]               \n",
      "__________________________________________________________________________________________________\n",
      "conv2d_14 (Conv2D)              (None, 10, 10, 256)  590080      conv2d_13[0][0]                  \n",
      "__________________________________________________________________________________________________\n",
      "add_4 (Add)                     (None, 10, 10, 256)  0           conv2d_15[0][0]                  \n",
      "                                                                 conv2d_14[0][0]                  \n",
      "__________________________________________________________________________________________________\n",
      "activation_5 (Activation)       (None, 10, 10, 256)  0           add_4[0][0]                      \n",
      "__________________________________________________________________________________________________\n",
      "conv2d_16 (Conv2D)              (None, 10, 10, 256)  590080      activation_5[0][0]               \n",
      "__________________________________________________________________________________________________\n",
      "conv2d_18 (Conv2D)              (None, 10, 10, 256)  65792       activation_5[0][0]               \n",
      "__________________________________________________________________________________________________\n",
      "conv2d_17 (Conv2D)              (None, 10, 10, 256)  590080      conv2d_16[0][0]                  \n",
      "__________________________________________________________________________________________________\n",
      "add_5 (Add)                     (None, 10, 10, 256)  0           conv2d_18[0][0]                  \n",
      "                                                                 conv2d_17[0][0]                  \n",
      "__________________________________________________________________________________________________\n",
      "activation_6 (Activation)       (None, 10, 10, 256)  0           add_5[0][0]                      \n",
      "__________________________________________________________________________________________________\n",
      "conv2d_19 (Conv2D)              (None, 10, 10, 512)  1180160     activation_6[0][0]               \n",
      "__________________________________________________________________________________________________\n",
      "conv2d_21 (Conv2D)              (None, 10, 10, 512)  131584      activation_6[0][0]               \n",
      "__________________________________________________________________________________________________\n",
      "conv2d_20 (Conv2D)              (None, 10, 10, 512)  2359808     conv2d_19[0][0]                  \n",
      "__________________________________________________________________________________________________\n",
      "add_6 (Add)                     (None, 10, 10, 512)  0           conv2d_21[0][0]                  \n",
      "                                                                 conv2d_20[0][0]                  \n",
      "__________________________________________________________________________________________________\n",
      "activation_7 (Activation)       (None, 10, 10, 512)  0           add_6[0][0]                      \n",
      "__________________________________________________________________________________________________\n",
      "conv2d_22 (Conv2D)              (None, 10, 10, 512)  2359808     activation_7[0][0]               \n",
      "__________________________________________________________________________________________________\n",
      "conv2d_24 (Conv2D)              (None, 10, 10, 512)  262656      activation_7[0][0]               \n",
      "__________________________________________________________________________________________________\n",
      "conv2d_23 (Conv2D)              (None, 10, 10, 512)  2359808     conv2d_22[0][0]                  \n",
      "__________________________________________________________________________________________________\n",
      "add_7 (Add)                     (None, 10, 10, 512)  0           conv2d_24[0][0]                  \n",
      "                                                                 conv2d_23[0][0]                  \n",
      "__________________________________________________________________________________________________\n",
      "activation_8 (Activation)       (None, 10, 10, 512)  0           add_7[0][0]                      \n",
      "__________________________________________________________________________________________________\n",
      "average_pooling2d (AveragePooli (None, 1, 1, 512)    0           activation_8[0][0]               \n",
      "__________________________________________________________________________________________________\n",
      "flatten (Flatten)               (None, 512)          0           average_pooling2d[0][0]          \n",
      "__________________________________________________________________________________________________\n",
      "dense (Dense)                   (None, 100)          51300       flatten[0][0]                    \n",
      "==================================================================================================\n",
      "Total params: 11,576,292\n",
      "Trainable params: 11,576,292\n",
      "Non-trainable params: 0\n",
      "__________________________________________________________________________________________________\n"
     ]
    }
   ],
   "source": [
    "model = createResnetModel()\n",
    "model.summary()"
   ]
  },
  {
   "cell_type": "code",
   "execution_count": 9,
   "metadata": {
    "id": "WcAf2mgXDvLy"
   },
   "outputs": [],
   "source": [
    "sgd = SGD(lr=0.1, decay=1e-6, momentum=0.9, nesterov=True)\n",
    "model.compile(loss='categorical_crossentropy', optimizer=sgd,metrics=['accuracy'])"
   ]
  },
  {
   "cell_type": "markdown",
   "metadata": {
    "id": "9ggQTjnJVVw9"
   },
   "source": [
    "**Training**"
   ]
  },
  {
   "cell_type": "code",
   "execution_count": 11,
   "metadata": {
    "colab": {
     "base_uri": "https://localhost:8080/",
     "height": 34
    },
    "id": "t94CVXZFOOTE",
    "outputId": "a186a7d2-3a73-42bd-f3e8-5e50f29efad2"
   },
   "outputs": [
    {
     "name": "stdout",
     "output_type": "stream",
     "text": [
      "WARNING:tensorflow:`period` argument is deprecated. Please use `save_freq` to specify the frequency in number of batches seen.\n"
     ]
    }
   ],
   "source": [
    "checkpoint = ModelCheckpoint(path_train, monitor='val_accuracy', verbose=1, save_best_only=True, save_weights_only=False, mode='auto',period=1)\n",
    "early = EarlyStopping(monitor='val_accuracy', min_delta=0, patience=20, verbose=1, mode='auto')"
   ]
  },
  {
   "cell_type": "code",
   "execution_count": 12,
   "metadata": {
    "colab": {
     "base_uri": "https://localhost:8080/",
     "height": 1000
    },
    "id": "sB19ilBkJ2r7",
    "outputId": "6a1dbfa5-4960-46a4-faec-4f00569e7e48"
   },
   "outputs": [
    {
     "name": "stdout",
     "output_type": "stream",
     "text": [
      "Epoch 1/200\n",
      "WARNING:tensorflow:Callbacks method `on_train_batch_end` is slow compared to the batch time (batch time: 0.0378s vs `on_train_batch_end` time: 0.0642s). Check your callbacks.\n",
      "\n",
      "Epoch 00001: val_accuracy improved from -inf to 0.06910, saving model to gdrive/My Drive/Colab Notebooks/Resnet18_SGD_NoRegularization_2.h5\n",
      "500/500 - 63s - loss: 4.3698 - accuracy: 0.0281 - val_loss: 4.0166 - val_accuracy: 0.0691\n",
      "Epoch 2/200\n",
      "\n",
      "Epoch 00002: val_accuracy improved from 0.06910 to 0.14960, saving model to gdrive/My Drive/Colab Notebooks/Resnet18_SGD_NoRegularization_2.h5\n",
      "500/500 - 63s - loss: 3.8333 - accuracy: 0.0999 - val_loss: 3.5775 - val_accuracy: 0.1496\n",
      "Epoch 3/200\n",
      "\n",
      "Epoch 00003: val_accuracy improved from 0.14960 to 0.19420, saving model to gdrive/My Drive/Colab Notebooks/Resnet18_SGD_NoRegularization_2.h5\n",
      "500/500 - 63s - loss: 3.4513 - accuracy: 0.1683 - val_loss: 3.2830 - val_accuracy: 0.1942\n",
      "Epoch 4/200\n",
      "\n",
      "Epoch 00004: val_accuracy improved from 0.19420 to 0.27730, saving model to gdrive/My Drive/Colab Notebooks/Resnet18_SGD_NoRegularization_2.h5\n",
      "500/500 - 63s - loss: 3.1310 - accuracy: 0.2306 - val_loss: 2.9221 - val_accuracy: 0.2773\n",
      "Epoch 5/200\n",
      "\n",
      "Epoch 00005: val_accuracy improved from 0.27730 to 0.31980, saving model to gdrive/My Drive/Colab Notebooks/Resnet18_SGD_NoRegularization_2.h5\n",
      "500/500 - 63s - loss: 2.8576 - accuracy: 0.2830 - val_loss: 2.6953 - val_accuracy: 0.3198\n",
      "Epoch 6/200\n",
      "\n",
      "Epoch 00006: val_accuracy improved from 0.31980 to 0.35910, saving model to gdrive/My Drive/Colab Notebooks/Resnet18_SGD_NoRegularization_2.h5\n",
      "500/500 - 63s - loss: 2.6324 - accuracy: 0.3301 - val_loss: 2.5396 - val_accuracy: 0.3591\n",
      "Epoch 7/200\n",
      "\n",
      "Epoch 00007: val_accuracy improved from 0.35910 to 0.39280, saving model to gdrive/My Drive/Colab Notebooks/Resnet18_SGD_NoRegularization_2.h5\n",
      "500/500 - 63s - loss: 2.4566 - accuracy: 0.3661 - val_loss: 2.3751 - val_accuracy: 0.3928\n",
      "Epoch 8/200\n",
      "\n",
      "Epoch 00008: val_accuracy improved from 0.39280 to 0.40680, saving model to gdrive/My Drive/Colab Notebooks/Resnet18_SGD_NoRegularization_2.h5\n",
      "500/500 - 63s - loss: 2.3092 - accuracy: 0.4002 - val_loss: 2.3552 - val_accuracy: 0.4068\n",
      "Epoch 9/200\n",
      "\n",
      "Epoch 00009: val_accuracy did not improve from 0.40680\n",
      "500/500 - 62s - loss: 2.1876 - accuracy: 0.4261 - val_loss: 2.3971 - val_accuracy: 0.3903\n",
      "Epoch 10/200\n",
      "\n",
      "Epoch 00010: val_accuracy improved from 0.40680 to 0.43330, saving model to gdrive/My Drive/Colab Notebooks/Resnet18_SGD_NoRegularization_2.h5\n",
      "500/500 - 63s - loss: 2.0871 - accuracy: 0.4464 - val_loss: 2.2307 - val_accuracy: 0.4333\n",
      "Epoch 11/200\n",
      "\n",
      "Epoch 00011: val_accuracy improved from 0.43330 to 0.46480, saving model to gdrive/My Drive/Colab Notebooks/Resnet18_SGD_NoRegularization_2.h5\n",
      "500/500 - 63s - loss: 2.0159 - accuracy: 0.4645 - val_loss: 2.0771 - val_accuracy: 0.4648\n",
      "Epoch 12/200\n",
      "\n",
      "Epoch 00012: val_accuracy improved from 0.46480 to 0.47490, saving model to gdrive/My Drive/Colab Notebooks/Resnet18_SGD_NoRegularization_2.h5\n",
      "500/500 - 63s - loss: 1.9475 - accuracy: 0.4817 - val_loss: 2.0344 - val_accuracy: 0.4749\n",
      "Epoch 13/200\n",
      "\n",
      "Epoch 00013: val_accuracy improved from 0.47490 to 0.47730, saving model to gdrive/My Drive/Colab Notebooks/Resnet18_SGD_NoRegularization_2.h5\n",
      "500/500 - 63s - loss: 1.8709 - accuracy: 0.4973 - val_loss: 2.0284 - val_accuracy: 0.4773\n",
      "Epoch 14/200\n",
      "\n",
      "Epoch 00014: val_accuracy improved from 0.47730 to 0.48580, saving model to gdrive/My Drive/Colab Notebooks/Resnet18_SGD_NoRegularization_2.h5\n",
      "500/500 - 63s - loss: 1.8265 - accuracy: 0.5090 - val_loss: 2.0042 - val_accuracy: 0.4858\n",
      "Epoch 15/200\n",
      "\n",
      "Epoch 00015: val_accuracy did not improve from 0.48580\n",
      "500/500 - 62s - loss: 1.7937 - accuracy: 0.5150 - val_loss: 2.0676 - val_accuracy: 0.4734\n",
      "Epoch 16/200\n",
      "\n",
      "Epoch 00016: val_accuracy did not improve from 0.48580\n",
      "500/500 - 61s - loss: 1.7848 - accuracy: 0.5157 - val_loss: 2.0603 - val_accuracy: 0.4711\n",
      "Epoch 17/200\n",
      "\n",
      "Epoch 00017: val_accuracy improved from 0.48580 to 0.49450, saving model to gdrive/My Drive/Colab Notebooks/Resnet18_SGD_NoRegularization_2.h5\n",
      "500/500 - 62s - loss: 1.7424 - accuracy: 0.5261 - val_loss: 1.9579 - val_accuracy: 0.4945\n",
      "Epoch 18/200\n",
      "\n",
      "Epoch 00018: val_accuracy did not improve from 0.49450\n",
      "500/500 - 62s - loss: 1.7189 - accuracy: 0.5309 - val_loss: 2.0856 - val_accuracy: 0.4800\n",
      "Epoch 19/200\n",
      "\n",
      "Epoch 00019: val_accuracy did not improve from 0.49450\n",
      "500/500 - 62s - loss: 1.7301 - accuracy: 0.5330 - val_loss: 2.0655 - val_accuracy: 0.4887\n",
      "Epoch 20/200\n",
      "\n",
      "Epoch 00020: val_accuracy did not improve from 0.49450\n",
      "500/500 - 61s - loss: 1.7001 - accuracy: 0.5390 - val_loss: 2.0395 - val_accuracy: 0.4741\n",
      "Epoch 21/200\n",
      "\n",
      "Epoch 00021: val_accuracy did not improve from 0.49450\n",
      "500/500 - 61s - loss: 1.7247 - accuracy: 0.5309 - val_loss: 2.1347 - val_accuracy: 0.4614\n",
      "Epoch 22/200\n",
      "\n",
      "Epoch 00022: val_accuracy did not improve from 0.49450\n",
      "500/500 - 61s - loss: 1.7494 - accuracy: 0.5256 - val_loss: 2.1340 - val_accuracy: 0.4671\n",
      "Epoch 23/200\n",
      "\n",
      "Epoch 00023: val_accuracy did not improve from 0.49450\n",
      "500/500 - 61s - loss: 1.7777 - accuracy: 0.5182 - val_loss: 2.1338 - val_accuracy: 0.4576\n",
      "Epoch 24/200\n",
      "\n",
      "Epoch 00024: val_accuracy did not improve from 0.49450\n",
      "500/500 - 61s - loss: 1.8252 - accuracy: 0.5092 - val_loss: 2.1770 - val_accuracy: 0.4552\n",
      "Epoch 25/200\n",
      "\n",
      "Epoch 00025: val_accuracy did not improve from 0.49450\n",
      "500/500 - 61s - loss: 1.8561 - accuracy: 0.5030 - val_loss: 2.2511 - val_accuracy: 0.4412\n",
      "Epoch 26/200\n",
      "\n",
      "Epoch 00026: val_accuracy did not improve from 0.49450\n",
      "500/500 - 61s - loss: 1.9499 - accuracy: 0.4804 - val_loss: 2.3108 - val_accuracy: 0.4252\n",
      "Epoch 27/200\n",
      "\n",
      "Epoch 00027: val_accuracy did not improve from 0.49450\n",
      "500/500 - 61s - loss: 2.0196 - accuracy: 0.4681 - val_loss: 2.4958 - val_accuracy: 0.3825\n",
      "Epoch 28/200\n",
      "\n",
      "Epoch 00028: val_accuracy did not improve from 0.49450\n",
      "500/500 - 61s - loss: 2.2243 - accuracy: 0.4238 - val_loss: 2.5500 - val_accuracy: 0.3665\n",
      "Epoch 29/200\n",
      "\n",
      "Epoch 00029: val_accuracy did not improve from 0.49450\n",
      "500/500 - 61s - loss: 2.4691 - accuracy: 0.3732 - val_loss: 2.9206 - val_accuracy: 0.2945\n",
      "Epoch 30/200\n",
      "\n",
      "Epoch 00030: val_accuracy did not improve from 0.49450\n",
      "500/500 - 59s - loss: nan - accuracy: 0.1372 - val_loss: nan - val_accuracy: 0.0100\n",
      "Epoch 31/200\n",
      "\n",
      "Epoch 00031: val_accuracy did not improve from 0.49450\n",
      "500/500 - 56s - loss: nan - accuracy: 0.0100 - val_loss: nan - val_accuracy: 0.0100\n",
      "Epoch 32/200\n",
      "\n",
      "Epoch 00032: val_accuracy did not improve from 0.49450\n",
      "500/500 - 57s - loss: nan - accuracy: 0.0100 - val_loss: nan - val_accuracy: 0.0100\n",
      "Epoch 33/200\n",
      "\n",
      "Epoch 00033: val_accuracy did not improve from 0.49450\n",
      "500/500 - 57s - loss: nan - accuracy: 0.0100 - val_loss: nan - val_accuracy: 0.0100\n",
      "Epoch 34/200\n",
      "\n",
      "Epoch 00034: val_accuracy did not improve from 0.49450\n",
      "500/500 - 56s - loss: nan - accuracy: 0.0100 - val_loss: nan - val_accuracy: 0.0100\n",
      "Epoch 35/200\n",
      "\n",
      "Epoch 00035: val_accuracy did not improve from 0.49450\n",
      "500/500 - 56s - loss: nan - accuracy: 0.0100 - val_loss: nan - val_accuracy: 0.0100\n",
      "Epoch 36/200\n",
      "\n",
      "Epoch 00036: val_accuracy did not improve from 0.49450\n",
      "500/500 - 56s - loss: nan - accuracy: 0.0100 - val_loss: nan - val_accuracy: 0.0100\n",
      "Epoch 37/200\n",
      "\n",
      "Epoch 00037: val_accuracy did not improve from 0.49450\n",
      "500/500 - 56s - loss: nan - accuracy: 0.0100 - val_loss: nan - val_accuracy: 0.0100\n",
      "Epoch 00037: early stopping\n"
     ]
    }
   ],
   "source": [
    "history = model.fit(datagen.flow(x_train_norm, y_train_norm,\n",
    "                                        batch_size=batch_size),\n",
    "                        steps_per_epoch=x_train_norm.shape[0]// batch_size,\n",
    "                        epochs=epochs,\n",
    "                        validation_data=(x_test_norm,y_test_norm),\n",
    "                        callbacks=[checkpoint, early],verbose=2)"
   ]
  },
  {
   "cell_type": "markdown",
   "metadata": {
    "id": "vIC9j4g9sOOK"
   },
   "source": [
    "*Plotting training accuracy and loss*"
   ]
  },
  {
   "cell_type": "code",
   "execution_count": 13,
   "metadata": {
    "colab": {
     "base_uri": "https://localhost:8080/",
     "height": 421
    },
    "id": "eywl6O-usO2J",
    "outputId": "e8c1508d-6b20-4db9-c16e-21e22ec60847"
   },
   "outputs": [
    {
     "data": {
      "text/plain": [
       "<matplotlib.legend.Legend at 0x7f92401fc828>"
      ]
     },
     "execution_count": 13,
     "metadata": {
      "tags": []
     },
     "output_type": "execute_result"
    },
    {
     "data": {
      "image/png": "[encoded data removed]",
      "text/plain": [
       "<Figure size 1440x432 with 2 Axes>"
      ]
     },
     "metadata": {
      "needs_background": "light",
      "tags": []
     },
     "output_type": "display_data"
    }
   ],
   "source": [
    "fig, axs = plt.subplots(1, 2, figsize=(20, 6))\n",
    "axs[0].plot(history.history['accuracy'])\n",
    "axs[0].plot(history.history['val_accuracy'])\n",
    "axs[0].set_title('Model Accuracy')\n",
    "axs[0].set(ylabel ='accuracy')\n",
    "axs[0].set(xlabel ='epoch')\n",
    "axs[0].legend(['train', 'test'], loc='upper left')\n",
    "\n",
    "axs[1].plot(history.history['loss'])\n",
    "axs[1].plot(history.history['val_loss'])\n",
    "axs[1].set_title('Model Loss')\n",
    "axs[1].set(ylabel='loss')\n",
    "axs[1].set(xlabel='epoch')\n",
    "axs[1].legend(['train', 'test'], loc='upper left')"
   ]
  },
  {
   "cell_type": "markdown",
   "metadata": {
    "id": "DgJUXkZ4f3rg"
   },
   "source": [
    "**Prediction**"
   ]
  },
  {
   "cell_type": "code",
   "execution_count": 10,
   "metadata": {
    "id": "mrLvRk-8f7U_"
   },
   "outputs": [],
   "source": [
    "model.load_weights(path_best) \n",
    "y_pred = np.argmax(model.predict(x_test_norm), axis=-1)"
   ]
  },
  {
   "cell_type": "code",
   "execution_count": 11,
   "metadata": {
    "colab": {
     "base_uri": "https://localhost:8080/",
     "height": 67
    },
    "id": "iC9dD0D7gEqg",
    "outputId": "08bc5547-0d51-4444-a41a-f8c46da4d568"
   },
   "outputs": [
    {
     "name": "stdout",
     "output_type": "stream",
     "text": [
      "Precision:  0.5169434263497064\n",
      "Recall:  0.4945\n",
      "Accuracy:  0.4945\n"
     ]
    }
   ],
   "source": [
    "precision = precision_score(y_test, y_pred, average='weighted')\n",
    "print(\"Precision: \", precision)\n",
    "recall = recall_score(y_test, y_pred, average='weighted')\n",
    "print(\"Recall: \", recall)\n",
    "accuracy = accuracy_score(y_test, y_pred)\n",
    "print(\"Accuracy: \", accuracy)"
   ]
  }
 ],
 "metadata": {
  "accelerator": "GPU",
  "colab": {
   "collapsed_sections": [],
   "name": "Resnet18_SGD_NoRegularization.ipynb",
   "provenance": []
  },
  "kernelspec": {
   "display_name": "Python 3",
   "language": "python",
   "name": "python3"
  },
  "language_info": {
   "codemirror_mode": {
    "name": "ipython",
    "version": 3
   },
   "file_extension": ".py",
   "mimetype": "text/x-python",
   "name": "python",
   "nbconvert_exporter": "python",
   "pygments_lexer": "ipython3",
   "version": "3.7.6"
  }
 },
 "nbformat": 4,
 "nbformat_minor": 1
}
