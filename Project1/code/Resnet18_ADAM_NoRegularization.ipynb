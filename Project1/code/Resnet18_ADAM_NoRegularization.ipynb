{
 "cells": [
  {
   "cell_type": "code",
   "execution_count": 1,
   "metadata": {
    "id": "Q2Kfxt726PWs"
   },
   "outputs": [],
   "source": [
    "import numpy as np\n",
    "from keras.models import Sequential\n",
    "from keras.datasets import cifar100\n",
    "from keras.utils import to_categorical\n",
    "from keras.models import Sequential, Model\n",
    "from keras.layers import Conv2D, MaxPool2D, Flatten, Dense, Activation, Input, \\\n",
    "                    add, AveragePooling2D\n",
    "from keras.optimizers import Adam\n",
    "import keras\n",
    "from keras.preprocessing.image import ImageDataGenerator\n",
    "from keras.callbacks import ModelCheckpoint, EarlyStopping\n",
    "from sklearn.metrics import accuracy_score, precision_score, recall_score\n",
    "import matplotlib.pyplot as plt"
   ]
  },
  {
   "cell_type": "code",
   "execution_count": 2,
   "metadata": {
    "colab": {
     "base_uri": "https://localhost:8080/",
     "height": 34
    },
    "id": "NYkVYnY67czA",
    "outputId": "308bb0a9-284e-4cfb-a801-e5555253209d"
   },
   "outputs": [
    {
     "name": "stdout",
     "output_type": "stream",
     "text": [
      "Mounted at /content/gdrive\n"
     ]
    }
   ],
   "source": [
    "from google.colab import drive\n",
    "drive.mount('/content/gdrive', force_remount=True)"
   ]
  },
  {
   "cell_type": "code",
   "execution_count": 3,
   "metadata": {
    "id": "FBL2Ka-5TLO9"
   },
   "outputs": [],
   "source": [
    "NUMBER_OF_CLASSES = 100\n",
    "epochs = 200\n",
    "batch_size = 100\n",
    "path_best = \"gdrive/My Drive/Colab Notebooks/Resnet18_ADAM_NoRegularization.h5\"\n",
    "# path_best = \"../weights/Resnet18_ADAM_NoRegularization.h5\"\n",
    "path_train = \"gdrive/My Drive/Colab Notebooks/Resnet18_ADAM_NoRegularization_2.h5\" "
   ]
  },
  {
   "cell_type": "code",
   "execution_count": 4,
   "metadata": {
    "colab": {
     "base_uri": "https://localhost:8080/",
     "height": 50
    },
    "id": "6OSeM4U57me7",
    "outputId": "38daefd0-92a8-4ae5-d859-b90b303822ec"
   },
   "outputs": [
    {
     "name": "stdout",
     "output_type": "stream",
     "text": [
      "Downloading data from https://www.cs.toronto.edu/~kriz/cifar-100-python.tar.gz\n",
      "169009152/169001437 [==============================] - 3s 0us/step\n"
     ]
    }
   ],
   "source": [
    "(x_train,y_train), (x_test, y_test) = cifar100.load_data()\n",
    "\n",
    "y_train_norm = to_categorical(y_train, NUMBER_OF_CLASSES)\n",
    "y_test_norm = to_categorical(y_test, NUMBER_OF_CLASSES)\n",
    "\n",
    "y_test = y_test.flatten()\n",
    "\n",
    "x_train = x_train.astype('float32')/255\n",
    "x_test = x_test.astype('float32')/255\n",
    "\n",
    "mean = np.mean(x_train, axis=(0,1,2,3))\n",
    "std = np.std(x_train, axis=(0,1,2,3))\n",
    "\n",
    "x_train_norm = (x_train-mean)/(std+1e-7)\n",
    "x_test_norm = (x_test-mean)/(std+1e-7)"
   ]
  },
  {
   "cell_type": "code",
   "execution_count": 5,
   "metadata": {
    "id": "c4qLM5pPTVFS"
   },
   "outputs": [],
   "source": [
    "datagen = ImageDataGenerator(\n",
    "    featurewise_center=False,\n",
    "    samplewise_center=False,\n",
    "    featurewise_std_normalization=False,\n",
    "    samplewise_std_normalization=False,\n",
    "    zca_whitening=False,\n",
    "    zca_epsilon=1e-06,\n",
    "    rotation_range=10,\n",
    "    width_shift_range=0.1,\n",
    "    height_shift_range=0.1,\n",
    "    horizontal_flip=True,\n",
    "    vertical_flip=False)\n",
    "\n",
    "datagen.fit(x_train_norm)"
   ]
  },
  {
   "cell_type": "code",
   "execution_count": 6,
   "metadata": {
    "id": "Wf3CZTfVsf_z"
   },
   "outputs": [],
   "source": [
    "def resnetBuilder(l, filters):\n",
    "    x = l\n",
    "\n",
    "    l = Conv2D(filters=filters, kernel_size=(3,3), padding='same', activation='relu')(l)\n",
    "    l = Conv2D(filters=filters, kernel_size=(3,3), padding='same', activation='relu')(l)\n",
    "\n",
    "    x = Conv2D(filters=filters, kernel_size=(1,1), padding='same', activation='relu')(x)\n",
    "    x = add([x,l])\n",
    "    x = Activation('relu')(x)\n",
    "\n",
    "    return x "
   ]
  },
  {
   "cell_type": "code",
   "execution_count": 7,
   "metadata": {
    "id": "LJOnrY4Yw5yj"
   },
   "outputs": [],
   "source": [
    "def createResnetModel():\n",
    "    input = Input(shape=(32,32,3))\n",
    "    l = Conv2D(filters=64, kernel_size=(7,7), padding=\"same\")(input)\n",
    "    l = Activation('relu')(l)\n",
    "    l = MaxPool2D(pool_size=(3,3))(l)\n",
    "\n",
    "    l = resnetBuilder(l, 64)\n",
    "    l = resnetBuilder(l, 64)\n",
    "    l = resnetBuilder(l, 128)\n",
    "    l = resnetBuilder(l, 128)\n",
    "    l = resnetBuilder(l, 256)\n",
    "    l = resnetBuilder(l, 256)\n",
    "    l = resnetBuilder(l, 512)\n",
    "    l = resnetBuilder(l, 512)\n",
    "\n",
    "    l = AveragePooling2D(pool_size=(8,8))(l)\n",
    "    l = Flatten()(l)\n",
    "    output = Dense(NUMBER_OF_CLASSES, activation='softmax')(l)\n",
    "\n",
    "    model = Model(inputs=input, outputs=output)\n",
    "    return model"
   ]
  },
  {
   "cell_type": "code",
   "execution_count": 8,
   "metadata": {
    "colab": {
     "base_uri": "https://localhost:8080/",
     "height": 1000
    },
    "id": "Ls-Tb4zL8nrn",
    "outputId": "2893e093-1101-440f-e129-af0aa64ea1d8"
   },
   "outputs": [
    {
     "name": "stdout",
     "output_type": "stream",
     "text": [
      "Model: \"functional_1\"\n",
      "__________________________________________________________________________________________________\n",
      "Layer (type)                    Output Shape         Param #     Connected to                     \n",
      "==================================================================================================\n",
      "input_1 (InputLayer)            [(None, 32, 32, 3)]  0                                            \n",
      "__________________________________________________________________________________________________\n",
      "conv2d (Conv2D)                 (None, 32, 32, 64)   9472        input_1[0][0]                    \n",
      "__________________________________________________________________________________________________\n",
      "activation (Activation)         (None, 32, 32, 64)   0           conv2d[0][0]                     \n",
      "__________________________________________________________________________________________________\n",
      "max_pooling2d (MaxPooling2D)    (None, 10, 10, 64)   0           activation[0][0]                 \n",
      "__________________________________________________________________________________________________\n",
      "conv2d_1 (Conv2D)               (None, 10, 10, 64)   36928       max_pooling2d[0][0]              \n",
      "__________________________________________________________________________________________________\n",
      "conv2d_3 (Conv2D)               (None, 10, 10, 64)   4160        max_pooling2d[0][0]              \n",
      "__________________________________________________________________________________________________\n",
      "conv2d_2 (Conv2D)               (None, 10, 10, 64)   36928       conv2d_1[0][0]                   \n",
      "__________________________________________________________________________________________________\n",
      "add (Add)                       (None, 10, 10, 64)   0           conv2d_3[0][0]                   \n",
      "                                                                 conv2d_2[0][0]                   \n",
      "__________________________________________________________________________________________________\n",
      "activation_1 (Activation)       (None, 10, 10, 64)   0           add[0][0]                        \n",
      "__________________________________________________________________________________________________\n",
      "conv2d_4 (Conv2D)               (None, 10, 10, 64)   36928       activation_1[0][0]               \n",
      "__________________________________________________________________________________________________\n",
      "conv2d_6 (Conv2D)               (None, 10, 10, 64)   4160        activation_1[0][0]               \n",
      "__________________________________________________________________________________________________\n",
      "conv2d_5 (Conv2D)               (None, 10, 10, 64)   36928       conv2d_4[0][0]                   \n",
      "__________________________________________________________________________________________________\n",
      "add_1 (Add)                     (None, 10, 10, 64)   0           conv2d_6[0][0]                   \n",
      "                                                                 conv2d_5[0][0]                   \n",
      "__________________________________________________________________________________________________\n",
      "activation_2 (Activation)       (None, 10, 10, 64)   0           add_1[0][0]                      \n",
      "__________________________________________________________________________________________________\n",
      "conv2d_7 (Conv2D)               (None, 10, 10, 128)  73856       activation_2[0][0]               \n",
      "__________________________________________________________________________________________________\n",
      "conv2d_9 (Conv2D)               (None, 10, 10, 128)  8320        activation_2[0][0]               \n",
      "__________________________________________________________________________________________________\n",
      "conv2d_8 (Conv2D)               (None, 10, 10, 128)  147584      conv2d_7[0][0]                   \n",
      "__________________________________________________________________________________________________\n",
      "add_2 (Add)                     (None, 10, 10, 128)  0           conv2d_9[0][0]                   \n",
      "                                                                 conv2d_8[0][0]                   \n",
      "__________________________________________________________________________________________________\n",
      "activation_3 (Activation)       (None, 10, 10, 128)  0           add_2[0][0]                      \n",
      "__________________________________________________________________________________________________\n",
      "conv2d_10 (Conv2D)              (None, 10, 10, 128)  147584      activation_3[0][0]               \n",
      "__________________________________________________________________________________________________\n",
      "conv2d_12 (Conv2D)              (None, 10, 10, 128)  16512       activation_3[0][0]               \n",
      "__________________________________________________________________________________________________\n",
      "conv2d_11 (Conv2D)              (None, 10, 10, 128)  147584      conv2d_10[0][0]                  \n",
      "__________________________________________________________________________________________________\n",
      "add_3 (Add)                     (None, 10, 10, 128)  0           conv2d_12[0][0]                  \n",
      "                                                                 conv2d_11[0][0]                  \n",
      "__________________________________________________________________________________________________\n",
      "activation_4 (Activation)       (None, 10, 10, 128)  0           add_3[0][0]                      \n",
      "__________________________________________________________________________________________________\n",
      "conv2d_13 (Conv2D)              (None, 10, 10, 256)  295168      activation_4[0][0]               \n",
      "__________________________________________________________________________________________________\n",
      "conv2d_15 (Conv2D)              (None, 10, 10, 256)  33024       activation_4[0][0]               \n",
      "__________________________________________________________________________________________________\n",
      "conv2d_14 (Conv2D)              (None, 10, 10, 256)  590080      conv2d_13[0][0]                  \n",
      "__________________________________________________________________________________________________\n",
      "add_4 (Add)                     (None, 10, 10, 256)  0           conv2d_15[0][0]                  \n",
      "                                                                 conv2d_14[0][0]                  \n",
      "__________________________________________________________________________________________________\n",
      "activation_5 (Activation)       (None, 10, 10, 256)  0           add_4[0][0]                      \n",
      "__________________________________________________________________________________________________\n",
      "conv2d_16 (Conv2D)              (None, 10, 10, 256)  590080      activation_5[0][0]               \n",
      "__________________________________________________________________________________________________\n",
      "conv2d_18 (Conv2D)              (None, 10, 10, 256)  65792       activation_5[0][0]               \n",
      "__________________________________________________________________________________________________\n",
      "conv2d_17 (Conv2D)              (None, 10, 10, 256)  590080      conv2d_16[0][0]                  \n",
      "__________________________________________________________________________________________________\n",
      "add_5 (Add)                     (None, 10, 10, 256)  0           conv2d_18[0][0]                  \n",
      "                                                                 conv2d_17[0][0]                  \n",
      "__________________________________________________________________________________________________\n",
      "activation_6 (Activation)       (None, 10, 10, 256)  0           add_5[0][0]                      \n",
      "__________________________________________________________________________________________________\n",
      "conv2d_19 (Conv2D)              (None, 10, 10, 512)  1180160     activation_6[0][0]               \n",
      "__________________________________________________________________________________________________\n",
      "conv2d_21 (Conv2D)              (None, 10, 10, 512)  131584      activation_6[0][0]               \n",
      "__________________________________________________________________________________________________\n",
      "conv2d_20 (Conv2D)              (None, 10, 10, 512)  2359808     conv2d_19[0][0]                  \n",
      "__________________________________________________________________________________________________\n",
      "add_6 (Add)                     (None, 10, 10, 512)  0           conv2d_21[0][0]                  \n",
      "                                                                 conv2d_20[0][0]                  \n",
      "__________________________________________________________________________________________________\n",
      "activation_7 (Activation)       (None, 10, 10, 512)  0           add_6[0][0]                      \n",
      "__________________________________________________________________________________________________\n",
      "conv2d_22 (Conv2D)              (None, 10, 10, 512)  2359808     activation_7[0][0]               \n",
      "__________________________________________________________________________________________________\n",
      "conv2d_24 (Conv2D)              (None, 10, 10, 512)  262656      activation_7[0][0]               \n",
      "__________________________________________________________________________________________________\n",
      "conv2d_23 (Conv2D)              (None, 10, 10, 512)  2359808     conv2d_22[0][0]                  \n",
      "__________________________________________________________________________________________________\n",
      "add_7 (Add)                     (None, 10, 10, 512)  0           conv2d_24[0][0]                  \n",
      "                                                                 conv2d_23[0][0]                  \n",
      "__________________________________________________________________________________________________\n",
      "activation_8 (Activation)       (None, 10, 10, 512)  0           add_7[0][0]                      \n",
      "__________________________________________________________________________________________________\n",
      "average_pooling2d (AveragePooli (None, 1, 1, 512)    0           activation_8[0][0]               \n",
      "__________________________________________________________________________________________________\n",
      "flatten (Flatten)               (None, 512)          0           average_pooling2d[0][0]          \n",
      "__________________________________________________________________________________________________\n",
      "dense (Dense)                   (None, 100)          51300       flatten[0][0]                    \n",
      "==================================================================================================\n",
      "Total params: 11,576,292\n",
      "Trainable params: 11,576,292\n",
      "Non-trainable params: 0\n",
      "__________________________________________________________________________________________________\n"
     ]
    }
   ],
   "source": [
    "model = createResnetModel()\n",
    "model.summary()"
   ]
  },
  {
   "cell_type": "code",
   "execution_count": 9,
   "metadata": {
    "id": "WcAf2mgXDvLy"
   },
   "outputs": [],
   "source": [
    "model.compile(optimizer=Adam(learning_rate=0.0001), loss=keras.losses.categorical_crossentropy, metrics=['accuracy'])"
   ]
  },
  {
   "cell_type": "markdown",
   "metadata": {
    "id": "8eMiHlC3TkLj"
   },
   "source": [
    "**Training**"
   ]
  },
  {
   "cell_type": "code",
   "execution_count": 10,
   "metadata": {
    "colab": {
     "base_uri": "https://localhost:8080/",
     "height": 34
    },
    "id": "t94CVXZFOOTE",
    "outputId": "037e9ba4-2791-4f43-d0d8-1bcee69428e2"
   },
   "outputs": [
    {
     "name": "stdout",
     "output_type": "stream",
     "text": [
      "WARNING:tensorflow:`period` argument is deprecated. Please use `save_freq` to specify the frequency in number of batches seen.\n"
     ]
    }
   ],
   "source": [
    "checkpoint = ModelCheckpoint(path_train, monitor='val_accuracy', verbose=1, save_best_only=True, save_weights_only=False, mode='auto',period=1)\n",
    "early = EarlyStopping(monitor='val_accuracy', min_delta=0, patience=20, verbose=1, mode='auto')"
   ]
  },
  {
   "cell_type": "code",
   "execution_count": 11,
   "metadata": {
    "colab": {
     "base_uri": "https://localhost:8080/",
     "height": 1000
    },
    "id": "sB19ilBkJ2r7",
    "outputId": "281fd976-ca6d-426e-c489-6b409670c040"
   },
   "outputs": [
    {
     "name": "stdout",
     "output_type": "stream",
     "text": [
      "Epoch 1/200\n",
      "\n",
      "Epoch 00001: val_accuracy improved from -inf to 0.07140, saving model to gdrive/My Drive/Colab Notebooks/Resnet18_ADAM_NoRegularization_2.h5\n",
      "500/500 - 76s - loss: 4.2059 - accuracy: 0.0480 - val_loss: 3.9963 - val_accuracy: 0.0714\n",
      "Epoch 2/200\n",
      "\n",
      "Epoch 00002: val_accuracy improved from 0.07140 to 0.13170, saving model to gdrive/My Drive/Colab Notebooks/Resnet18_ADAM_NoRegularization_2.h5\n",
      "500/500 - 76s - loss: 3.8087 - accuracy: 0.1035 - val_loss: 3.6015 - val_accuracy: 0.1317\n",
      "Epoch 3/200\n",
      "\n",
      "Epoch 00003: val_accuracy improved from 0.13170 to 0.19450, saving model to gdrive/My Drive/Colab Notebooks/Resnet18_ADAM_NoRegularization_2.h5\n",
      "500/500 - 77s - loss: 3.5060 - accuracy: 0.1534 - val_loss: 3.3270 - val_accuracy: 0.1945\n",
      "Epoch 4/200\n",
      "\n",
      "Epoch 00004: val_accuracy improved from 0.19450 to 0.22880, saving model to gdrive/My Drive/Colab Notebooks/Resnet18_ADAM_NoRegularization_2.h5\n",
      "500/500 - 77s - loss: 3.2573 - accuracy: 0.1986 - val_loss: 3.1395 - val_accuracy: 0.2288\n",
      "Epoch 5/200\n",
      "\n",
      "Epoch 00005: val_accuracy improved from 0.22880 to 0.26120, saving model to gdrive/My Drive/Colab Notebooks/Resnet18_ADAM_NoRegularization_2.h5\n",
      "500/500 - 77s - loss: 3.0534 - accuracy: 0.2411 - val_loss: 2.9793 - val_accuracy: 0.2612\n",
      "Epoch 6/200\n",
      "\n",
      "Epoch 00006: val_accuracy did not improve from 0.26120\n",
      "500/500 - 75s - loss: 2.8849 - accuracy: 0.2742 - val_loss: 3.0210 - val_accuracy: 0.2607\n",
      "Epoch 7/200\n",
      "\n",
      "Epoch 00007: val_accuracy improved from 0.26120 to 0.29190, saving model to gdrive/My Drive/Colab Notebooks/Resnet18_ADAM_NoRegularization_2.h5\n",
      "500/500 - 77s - loss: 2.7537 - accuracy: 0.2995 - val_loss: 2.8477 - val_accuracy: 0.2919\n",
      "Epoch 8/200\n",
      "\n",
      "Epoch 00008: val_accuracy improved from 0.29190 to 0.33640, saving model to gdrive/My Drive/Colab Notebooks/Resnet18_ADAM_NoRegularization_2.h5\n",
      "500/500 - 77s - loss: 2.6214 - accuracy: 0.3277 - val_loss: 2.6220 - val_accuracy: 0.3364\n",
      "Epoch 9/200\n",
      "\n",
      "Epoch 00009: val_accuracy improved from 0.33640 to 0.35560, saving model to gdrive/My Drive/Colab Notebooks/Resnet18_ADAM_NoRegularization_2.h5\n",
      "500/500 - 77s - loss: 2.5047 - accuracy: 0.3514 - val_loss: 2.5225 - val_accuracy: 0.3556\n",
      "Epoch 10/200\n",
      "\n",
      "Epoch 00010: val_accuracy improved from 0.35560 to 0.37100, saving model to gdrive/My Drive/Colab Notebooks/Resnet18_ADAM_NoRegularization_2.h5\n",
      "500/500 - 78s - loss: 2.3940 - accuracy: 0.3756 - val_loss: 2.4245 - val_accuracy: 0.3710\n",
      "Epoch 11/200\n",
      "\n",
      "Epoch 00011: val_accuracy improved from 0.37100 to 0.37990, saving model to gdrive/My Drive/Colab Notebooks/Resnet18_ADAM_NoRegularization_2.h5\n",
      "500/500 - 77s - loss: 2.3044 - accuracy: 0.3935 - val_loss: 2.4293 - val_accuracy: 0.3799\n",
      "Epoch 12/200\n",
      "\n",
      "Epoch 00012: val_accuracy did not improve from 0.37990\n",
      "500/500 - 75s - loss: 2.2099 - accuracy: 0.4121 - val_loss: 2.5214 - val_accuracy: 0.3625\n",
      "Epoch 13/200\n",
      "\n",
      "Epoch 00013: val_accuracy improved from 0.37990 to 0.39670, saving model to gdrive/My Drive/Colab Notebooks/Resnet18_ADAM_NoRegularization_2.h5\n",
      "500/500 - 77s - loss: 2.1344 - accuracy: 0.4323 - val_loss: 2.3558 - val_accuracy: 0.3967\n",
      "Epoch 14/200\n",
      "\n",
      "Epoch 00014: val_accuracy improved from 0.39670 to 0.40490, saving model to gdrive/My Drive/Colab Notebooks/Resnet18_ADAM_NoRegularization_2.h5\n",
      "500/500 - 77s - loss: 2.0523 - accuracy: 0.4484 - val_loss: 2.3610 - val_accuracy: 0.4049\n",
      "Epoch 15/200\n",
      "\n",
      "Epoch 00015: val_accuracy improved from 0.40490 to 0.43190, saving model to gdrive/My Drive/Colab Notebooks/Resnet18_ADAM_NoRegularization_2.h5\n",
      "500/500 - 77s - loss: 1.9834 - accuracy: 0.4649 - val_loss: 2.2114 - val_accuracy: 0.4319\n",
      "Epoch 16/200\n",
      "\n",
      "Epoch 00016: val_accuracy did not improve from 0.43190\n",
      "500/500 - 75s - loss: 1.9131 - accuracy: 0.4812 - val_loss: 2.2280 - val_accuracy: 0.4245\n",
      "Epoch 17/200\n",
      "\n",
      "Epoch 00017: val_accuracy improved from 0.43190 to 0.44130, saving model to gdrive/My Drive/Colab Notebooks/Resnet18_ADAM_NoRegularization_2.h5\n",
      "500/500 - 77s - loss: 1.8465 - accuracy: 0.4981 - val_loss: 2.1624 - val_accuracy: 0.4413\n",
      "Epoch 18/200\n",
      "\n",
      "Epoch 00018: val_accuracy did not improve from 0.44130\n",
      "500/500 - 75s - loss: 1.7788 - accuracy: 0.5135 - val_loss: 2.1407 - val_accuracy: 0.4390\n",
      "Epoch 19/200\n",
      "\n",
      "Epoch 00019: val_accuracy improved from 0.44130 to 0.44820, saving model to gdrive/My Drive/Colab Notebooks/Resnet18_ADAM_NoRegularization_2.h5\n",
      "500/500 - 77s - loss: 1.7240 - accuracy: 0.5230 - val_loss: 2.1854 - val_accuracy: 0.4482\n",
      "Epoch 20/200\n",
      "\n",
      "Epoch 00020: val_accuracy improved from 0.44820 to 0.46470, saving model to gdrive/My Drive/Colab Notebooks/Resnet18_ADAM_NoRegularization_2.h5\n",
      "500/500 - 77s - loss: 1.6691 - accuracy: 0.5364 - val_loss: 2.0987 - val_accuracy: 0.4647\n",
      "Epoch 21/200\n",
      "\n",
      "Epoch 00021: val_accuracy did not improve from 0.46470\n",
      "500/500 - 75s - loss: 1.6140 - accuracy: 0.5524 - val_loss: 2.2217 - val_accuracy: 0.4388\n",
      "Epoch 22/200\n",
      "\n",
      "Epoch 00022: val_accuracy did not improve from 0.46470\n",
      "500/500 - 75s - loss: 1.5502 - accuracy: 0.5677 - val_loss: 2.1350 - val_accuracy: 0.4634\n",
      "Epoch 23/200\n",
      "\n",
      "Epoch 00023: val_accuracy improved from 0.46470 to 0.46730, saving model to gdrive/My Drive/Colab Notebooks/Resnet18_ADAM_NoRegularization_2.h5\n",
      "500/500 - 77s - loss: 1.5015 - accuracy: 0.5809 - val_loss: 2.1357 - val_accuracy: 0.4673\n",
      "Epoch 24/200\n",
      "\n",
      "Epoch 00024: val_accuracy improved from 0.46730 to 0.47450, saving model to gdrive/My Drive/Colab Notebooks/Resnet18_ADAM_NoRegularization_2.h5\n",
      "500/500 - 77s - loss: 1.4422 - accuracy: 0.5940 - val_loss: 2.0712 - val_accuracy: 0.4745\n",
      "Epoch 25/200\n",
      "\n",
      "Epoch 00025: val_accuracy improved from 0.47450 to 0.48470, saving model to gdrive/My Drive/Colab Notebooks/Resnet18_ADAM_NoRegularization_2.h5\n",
      "500/500 - 77s - loss: 1.3915 - accuracy: 0.6054 - val_loss: 2.0313 - val_accuracy: 0.4847\n",
      "Epoch 26/200\n",
      "\n",
      "Epoch 00026: val_accuracy improved from 0.48470 to 0.48710, saving model to gdrive/My Drive/Colab Notebooks/Resnet18_ADAM_NoRegularization_2.h5\n",
      "500/500 - 77s - loss: 1.3309 - accuracy: 0.6222 - val_loss: 2.0834 - val_accuracy: 0.4871\n",
      "Epoch 27/200\n",
      "\n",
      "Epoch 00027: val_accuracy did not improve from 0.48710\n",
      "500/500 - 75s - loss: 1.2905 - accuracy: 0.6320 - val_loss: 2.1052 - val_accuracy: 0.4869\n",
      "Epoch 28/200\n",
      "\n",
      "Epoch 00028: val_accuracy did not improve from 0.48710\n",
      "500/500 - 75s - loss: 1.2464 - accuracy: 0.6419 - val_loss: 2.2849 - val_accuracy: 0.4596\n",
      "Epoch 29/200\n",
      "\n",
      "Epoch 00029: val_accuracy did not improve from 0.48710\n",
      "500/500 - 75s - loss: 1.1927 - accuracy: 0.6542 - val_loss: 2.1970 - val_accuracy: 0.4761\n",
      "Epoch 30/200\n",
      "\n",
      "Epoch 00030: val_accuracy did not improve from 0.48710\n",
      "500/500 - 76s - loss: 1.1385 - accuracy: 0.6681 - val_loss: 2.3072 - val_accuracy: 0.4802\n",
      "Epoch 31/200\n",
      "\n",
      "Epoch 00031: val_accuracy improved from 0.48710 to 0.48930, saving model to gdrive/My Drive/Colab Notebooks/Resnet18_ADAM_NoRegularization_2.h5\n",
      "500/500 - 77s - loss: 1.0871 - accuracy: 0.6817 - val_loss: 2.1423 - val_accuracy: 0.4893\n",
      "Epoch 32/200\n",
      "\n",
      "Epoch 00032: val_accuracy did not improve from 0.48930\n",
      "500/500 - 75s - loss: 1.0492 - accuracy: 0.6915 - val_loss: 2.2560 - val_accuracy: 0.4886\n",
      "Epoch 33/200\n",
      "\n",
      "Epoch 00033: val_accuracy did not improve from 0.48930\n",
      "500/500 - 75s - loss: 1.0004 - accuracy: 0.7069 - val_loss: 2.4630 - val_accuracy: 0.4728\n",
      "Epoch 34/200\n",
      "\n",
      "Epoch 00034: val_accuracy did not improve from 0.48930\n",
      "500/500 - 76s - loss: 0.9573 - accuracy: 0.7159 - val_loss: 2.2570 - val_accuracy: 0.4846\n",
      "Epoch 35/200\n",
      "\n",
      "Epoch 00035: val_accuracy improved from 0.48930 to 0.50320, saving model to gdrive/My Drive/Colab Notebooks/Resnet18_ADAM_NoRegularization_2.h5\n",
      "500/500 - 77s - loss: 0.9118 - accuracy: 0.7285 - val_loss: 2.2436 - val_accuracy: 0.5032\n",
      "Epoch 36/200\n",
      "\n",
      "Epoch 00036: val_accuracy did not improve from 0.50320\n",
      "500/500 - 76s - loss: 0.8734 - accuracy: 0.7401 - val_loss: 2.2501 - val_accuracy: 0.4966\n",
      "Epoch 37/200\n",
      "\n",
      "Epoch 00037: val_accuracy did not improve from 0.50320\n",
      "500/500 - 75s - loss: 0.8307 - accuracy: 0.7486 - val_loss: 2.3698 - val_accuracy: 0.4929\n",
      "Epoch 38/200\n",
      "\n",
      "Epoch 00038: val_accuracy did not improve from 0.50320\n",
      "500/500 - 75s - loss: 0.7843 - accuracy: 0.7615 - val_loss: 2.4464 - val_accuracy: 0.4868\n",
      "Epoch 39/200\n",
      "\n",
      "Epoch 00039: val_accuracy did not improve from 0.50320\n",
      "500/500 - 76s - loss: 0.7534 - accuracy: 0.7703 - val_loss: 2.5130 - val_accuracy: 0.4787\n",
      "Epoch 40/200\n",
      "\n",
      "Epoch 00040: val_accuracy improved from 0.50320 to 0.50550, saving model to gdrive/My Drive/Colab Notebooks/Resnet18_ADAM_NoRegularization_2.h5\n",
      "500/500 - 77s - loss: 0.7201 - accuracy: 0.7777 - val_loss: 2.5258 - val_accuracy: 0.5055\n",
      "Epoch 41/200\n",
      "\n",
      "Epoch 00041: val_accuracy did not improve from 0.50550\n",
      "500/500 - 75s - loss: 0.6790 - accuracy: 0.7903 - val_loss: 2.6538 - val_accuracy: 0.4871\n",
      "Epoch 42/200\n",
      "\n",
      "Epoch 00042: val_accuracy did not improve from 0.50550\n",
      "500/500 - 76s - loss: 0.6434 - accuracy: 0.8003 - val_loss: 2.5997 - val_accuracy: 0.4964\n",
      "Epoch 43/200\n",
      "\n",
      "Epoch 00043: val_accuracy improved from 0.50550 to 0.50710, saving model to gdrive/My Drive/Colab Notebooks/Resnet18_ADAM_NoRegularization_2.h5\n",
      "500/500 - 77s - loss: 0.6139 - accuracy: 0.8090 - val_loss: 2.6909 - val_accuracy: 0.5071\n",
      "Epoch 44/200\n",
      "\n",
      "Epoch 00044: val_accuracy did not improve from 0.50710\n",
      "500/500 - 75s - loss: 0.5903 - accuracy: 0.8150 - val_loss: 2.6995 - val_accuracy: 0.5058\n",
      "Epoch 45/200\n",
      "\n",
      "Epoch 00045: val_accuracy did not improve from 0.50710\n",
      "500/500 - 75s - loss: 0.5583 - accuracy: 0.8235 - val_loss: 2.6029 - val_accuracy: 0.5019\n",
      "Epoch 46/200\n",
      "\n",
      "Epoch 00046: val_accuracy did not improve from 0.50710\n",
      "500/500 - 75s - loss: 0.5307 - accuracy: 0.8337 - val_loss: 2.6909 - val_accuracy: 0.5028\n",
      "Epoch 47/200\n",
      "\n",
      "Epoch 00047: val_accuracy did not improve from 0.50710\n",
      "500/500 - 75s - loss: 0.5028 - accuracy: 0.8402 - val_loss: 2.9653 - val_accuracy: 0.5031\n",
      "Epoch 48/200\n",
      "\n",
      "Epoch 00048: val_accuracy did not improve from 0.50710\n",
      "500/500 - 75s - loss: 0.4798 - accuracy: 0.8473 - val_loss: 3.0255 - val_accuracy: 0.4955\n",
      "Epoch 49/200\n",
      "\n",
      "Epoch 00049: val_accuracy did not improve from 0.50710\n",
      "500/500 - 76s - loss: 0.4585 - accuracy: 0.8528 - val_loss: 2.8767 - val_accuracy: 0.5012\n",
      "Epoch 50/200\n",
      "\n",
      "Epoch 00050: val_accuracy did not improve from 0.50710\n",
      "500/500 - 75s - loss: 0.4340 - accuracy: 0.8614 - val_loss: 2.9201 - val_accuracy: 0.4976\n",
      "Epoch 51/200\n",
      "\n",
      "Epoch 00051: val_accuracy did not improve from 0.50710\n",
      "500/500 - 75s - loss: 0.4163 - accuracy: 0.8671 - val_loss: 3.1001 - val_accuracy: 0.4824\n",
      "Epoch 52/200\n",
      "\n",
      "Epoch 00052: val_accuracy did not improve from 0.50710\n",
      "500/500 - 75s - loss: 0.3985 - accuracy: 0.8718 - val_loss: 2.9128 - val_accuracy: 0.5061\n",
      "Epoch 53/200\n",
      "\n",
      "Epoch 00053: val_accuracy did not improve from 0.50710\n",
      "500/500 - 75s - loss: 0.3798 - accuracy: 0.8774 - val_loss: 3.0964 - val_accuracy: 0.5047\n",
      "Epoch 54/200\n",
      "\n",
      "Epoch 00054: val_accuracy did not improve from 0.50710\n",
      "500/500 - 75s - loss: 0.3654 - accuracy: 0.8814 - val_loss: 2.9990 - val_accuracy: 0.5067\n",
      "Epoch 55/200\n",
      "\n",
      "Epoch 00055: val_accuracy did not improve from 0.50710\n",
      "500/500 - 75s - loss: 0.3577 - accuracy: 0.8831 - val_loss: 3.1586 - val_accuracy: 0.4923\n",
      "Epoch 56/200\n",
      "\n",
      "Epoch 00056: val_accuracy did not improve from 0.50710\n",
      "500/500 - 75s - loss: 0.3471 - accuracy: 0.8866 - val_loss: 3.4048 - val_accuracy: 0.4869\n",
      "Epoch 57/200\n",
      "\n",
      "Epoch 00057: val_accuracy did not improve from 0.50710\n",
      "500/500 - 75s - loss: 0.3238 - accuracy: 0.8953 - val_loss: 3.2265 - val_accuracy: 0.4971\n",
      "Epoch 58/200\n",
      "\n",
      "Epoch 00058: val_accuracy did not improve from 0.50710\n",
      "500/500 - 75s - loss: 0.3108 - accuracy: 0.8994 - val_loss: 3.2418 - val_accuracy: 0.4924\n",
      "Epoch 59/200\n",
      "\n",
      "Epoch 00059: val_accuracy improved from 0.50710 to 0.51270, saving model to gdrive/My Drive/Colab Notebooks/Resnet18_ADAM_NoRegularization_2.h5\n",
      "500/500 - 77s - loss: 0.3096 - accuracy: 0.8994 - val_loss: 3.1986 - val_accuracy: 0.5127\n",
      "Epoch 60/200\n",
      "\n",
      "Epoch 00060: val_accuracy did not improve from 0.51270\n",
      "500/500 - 76s - loss: 0.2852 - accuracy: 0.9072 - val_loss: 3.3627 - val_accuracy: 0.4962\n",
      "Epoch 61/200\n",
      "\n",
      "Epoch 00061: val_accuracy improved from 0.51270 to 0.51740, saving model to gdrive/My Drive/Colab Notebooks/Resnet18_ADAM_NoRegularization_2.h5\n",
      "500/500 - 77s - loss: 0.2734 - accuracy: 0.9125 - val_loss: 3.3917 - val_accuracy: 0.5174\n",
      "Epoch 62/200\n",
      "\n",
      "Epoch 00062: val_accuracy did not improve from 0.51740\n",
      "500/500 - 75s - loss: 0.2720 - accuracy: 0.9119 - val_loss: 3.3440 - val_accuracy: 0.5025\n",
      "Epoch 63/200\n",
      "\n",
      "Epoch 00063: val_accuracy did not improve from 0.51740\n",
      "500/500 - 75s - loss: 0.2710 - accuracy: 0.9100 - val_loss: 3.3819 - val_accuracy: 0.5032\n",
      "Epoch 64/200\n",
      "\n",
      "Epoch 00064: val_accuracy did not improve from 0.51740\n",
      "500/500 - 75s - loss: 0.2613 - accuracy: 0.9151 - val_loss: 3.3933 - val_accuracy: 0.4976\n",
      "Epoch 65/200\n",
      "\n",
      "Epoch 00065: val_accuracy did not improve from 0.51740\n",
      "500/500 - 75s - loss: 0.2474 - accuracy: 0.9202 - val_loss: 3.3315 - val_accuracy: 0.4966\n",
      "Epoch 66/200\n",
      "\n",
      "Epoch 00066: val_accuracy did not improve from 0.51740\n",
      "500/500 - 75s - loss: 0.2348 - accuracy: 0.9246 - val_loss: 3.3658 - val_accuracy: 0.5119\n",
      "Epoch 67/200\n",
      "\n",
      "Epoch 00067: val_accuracy did not improve from 0.51740\n",
      "500/500 - 75s - loss: 0.2416 - accuracy: 0.9214 - val_loss: 3.3925 - val_accuracy: 0.5125\n",
      "Epoch 68/200\n",
      "\n",
      "Epoch 00068: val_accuracy did not improve from 0.51740\n",
      "500/500 - 75s - loss: 0.2348 - accuracy: 0.9242 - val_loss: 3.3422 - val_accuracy: 0.4997\n",
      "Epoch 69/200\n",
      "\n",
      "Epoch 00069: val_accuracy did not improve from 0.51740\n",
      "500/500 - 75s - loss: 0.2213 - accuracy: 0.9276 - val_loss: 3.4361 - val_accuracy: 0.5170\n",
      "Epoch 70/200\n",
      "\n",
      "Epoch 00070: val_accuracy did not improve from 0.51740\n",
      "500/500 - 75s - loss: 0.2157 - accuracy: 0.9312 - val_loss: 3.3174 - val_accuracy: 0.5153\n",
      "Epoch 71/200\n",
      "\n",
      "Epoch 00071: val_accuracy did not improve from 0.51740\n",
      "500/500 - 75s - loss: 0.2147 - accuracy: 0.9302 - val_loss: 3.7218 - val_accuracy: 0.4951\n",
      "Epoch 72/200\n",
      "\n",
      "Epoch 00072: val_accuracy did not improve from 0.51740\n",
      "500/500 - 75s - loss: 0.2113 - accuracy: 0.9311 - val_loss: 3.3936 - val_accuracy: 0.5103\n",
      "Epoch 73/200\n",
      "\n",
      "Epoch 00073: val_accuracy did not improve from 0.51740\n",
      "500/500 - 75s - loss: 0.1989 - accuracy: 0.9355 - val_loss: 3.5628 - val_accuracy: 0.5055\n",
      "Epoch 74/200\n",
      "\n",
      "Epoch 00074: val_accuracy did not improve from 0.51740\n",
      "500/500 - 75s - loss: 0.1980 - accuracy: 0.9367 - val_loss: 3.3660 - val_accuracy: 0.5129\n",
      "Epoch 75/200\n",
      "\n",
      "Epoch 00075: val_accuracy did not improve from 0.51740\n",
      "500/500 - 75s - loss: 0.1945 - accuracy: 0.9374 - val_loss: 3.8791 - val_accuracy: 0.4911\n",
      "Epoch 76/200\n",
      "\n",
      "Epoch 00076: val_accuracy did not improve from 0.51740\n",
      "500/500 - 75s - loss: 0.1932 - accuracy: 0.9373 - val_loss: 3.6989 - val_accuracy: 0.5098\n",
      "Epoch 77/200\n",
      "\n",
      "Epoch 00077: val_accuracy did not improve from 0.51740\n",
      "500/500 - 75s - loss: 0.1786 - accuracy: 0.9423 - val_loss: 3.6625 - val_accuracy: 0.5038\n",
      "Epoch 78/200\n",
      "\n",
      "Epoch 00078: val_accuracy did not improve from 0.51740\n",
      "500/500 - 75s - loss: 0.1798 - accuracy: 0.9423 - val_loss: 3.7041 - val_accuracy: 0.4982\n",
      "Epoch 79/200\n",
      "\n",
      "Epoch 00079: val_accuracy did not improve from 0.51740\n",
      "500/500 - 75s - loss: 0.1769 - accuracy: 0.9423 - val_loss: 3.9860 - val_accuracy: 0.4987\n",
      "Epoch 80/200\n",
      "\n",
      "Epoch 00080: val_accuracy did not improve from 0.51740\n",
      "500/500 - 75s - loss: 0.1724 - accuracy: 0.9442 - val_loss: 3.8475 - val_accuracy: 0.5095\n",
      "Epoch 81/200\n",
      "\n",
      "Epoch 00081: val_accuracy did not improve from 0.51740\n",
      "500/500 - 75s - loss: 0.1698 - accuracy: 0.9445 - val_loss: 3.7718 - val_accuracy: 0.5092\n",
      "Epoch 00081: early stopping\n"
     ]
    }
   ],
   "source": [
    "history = model.fit(datagen.flow(x_train_norm, y_train_norm,\n",
    "                                        batch_size=batch_size),\n",
    "                        steps_per_epoch=x_train_norm.shape[0]// batch_size,\n",
    "                        epochs=epochs,\n",
    "                        validation_data=(x_test_norm,y_test_norm),\n",
    "                        callbacks=[checkpoint, early],verbose=2)"
   ]
  },
  {
   "cell_type": "markdown",
   "metadata": {
    "id": "7Azx3hfCleli"
   },
   "source": [
    "*Plotting training accuracy and loss*"
   ]
  },
  {
   "cell_type": "code",
   "execution_count": 12,
   "metadata": {
    "colab": {
     "base_uri": "https://localhost:8080/",
     "height": 421
    },
    "id": "wXwLDS3OlfQQ",
    "outputId": "aa5fdefa-e0fc-464d-c805-e41541e52fa3"
   },
   "outputs": [
    {
     "data": {
      "text/plain": [
       "<matplotlib.legend.Legend at 0x7fa5865edef0>"
      ]
     },
     "execution_count": 12,
     "metadata": {
      "tags": []
     },
     "output_type": "execute_result"
    },
    {
     "data": {
      "image/png": "[encoded data removed]",
      "text/plain": [
       "<Figure size 1440x432 with 2 Axes>"
      ]
     },
     "metadata": {
      "needs_background": "light",
      "tags": []
     },
     "output_type": "display_data"
    }
   ],
   "source": [
    "fig, axs = plt.subplots(1, 2, figsize=(20, 6))\n",
    "axs[0].plot(history.history['accuracy'])\n",
    "axs[0].plot(history.history['val_accuracy'])\n",
    "axs[0].set_title('Model Accuracy')\n",
    "axs[0].set(ylabel ='accuracy')\n",
    "axs[0].set(xlabel ='epoch')\n",
    "axs[0].legend(['train', 'test'], loc='upper left')\n",
    "\n",
    "axs[1].plot(history.history['loss'])\n",
    "axs[1].plot(history.history['val_loss'])\n",
    "axs[1].set_title('Model Loss')\n",
    "axs[1].set(ylabel='loss')\n",
    "axs[1].set(xlabel='epoch')\n",
    "axs[1].legend(['train', 'test'], loc='upper left')"
   ]
  },
  {
   "cell_type": "markdown",
   "metadata": {
    "id": "BsSMmgrzUXBk"
   },
   "source": [
    "**Prediction**"
   ]
  },
  {
   "cell_type": "code",
   "execution_count": 17,
   "metadata": {
    "id": "Zw9ax_fHUbNz"
   },
   "outputs": [],
   "source": [
    "model.load_weights(path_best)\n",
    "y_pred = np.argmax(model.predict(x_test_norm), axis=-1)"
   ]
  },
  {
   "cell_type": "code",
   "execution_count": 18,
   "metadata": {
    "colab": {
     "base_uri": "https://localhost:8080/",
     "height": 67
    },
    "id": "7hwodZxnmt8N",
    "outputId": "41130413-c76a-45f7-8516-5caa2b87a3e3"
   },
   "outputs": [
    {
     "name": "stdout",
     "output_type": "stream",
     "text": [
      "Precision:  0.5412098232608006\n",
      "Recall:  0.5287\n",
      "Accuracy:  0.5287\n"
     ]
    }
   ],
   "source": [
    "precision = precision_score(y_test, y_pred, average='weighted')\n",
    "print(\"Precision: \", precision)\n",
    "recall = recall_score(y_test, y_pred, average='weighted')\n",
    "print(\"Recall: \", recall)\n",
    "accuracy = accuracy_score(y_test, y_pred)\n",
    "print(\"Accuracy: \", accuracy)"
   ]
  }
 ],
 "metadata": {
  "accelerator": "GPU",
  "colab": {
   "collapsed_sections": [],
   "name": "Resnet18_ADAM_NoRegularization.ipynb",
   "provenance": []
  },
  "kernelspec": {
   "display_name": "Python 3",
   "language": "python",
   "name": "python3"
  },
  "language_info": {
   "codemirror_mode": {
    "name": "ipython",
    "version": 3
   },
   "file_extension": ".py",
   "mimetype": "text/x-python",
   "name": "python",
   "nbconvert_exporter": "python",
   "pygments_lexer": "ipython3",
   "version": "3.7.6"
  }
 },
 "nbformat": 4,
 "nbformat_minor": 1
}
