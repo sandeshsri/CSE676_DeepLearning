{
 "cells": [
  {
   "cell_type": "code",
   "execution_count": 2,
   "metadata": {
    "id": "Q2Kfxt726PWs"
   },
   "outputs": [],
   "source": [
    "import numpy as np\n",
    "from keras.models import Sequential\n",
    "from keras.datasets import cifar100\n",
    "from keras.utils import to_categorical\n",
    "from keras.models import Sequential, Model\n",
    "from keras.layers import Conv2D, MaxPool2D, Flatten, Dense, Activation, Input, concatenate, GlobalAveragePooling2D, BatchNormalization, Dropout\n",
    "from keras.optimizers import Adam, SGD\n",
    "import keras\n",
    "from keras.preprocessing.image import ImageDataGenerator\n",
    "from keras.callbacks import ModelCheckpoint, EarlyStopping\n",
    "from sklearn.metrics import accuracy_score, precision_score, recall_score\n",
    "import matplotlib.pyplot as plt"
   ]
  },
  {
   "cell_type": "code",
   "execution_count": 3,
   "metadata": {
    "colab": {
     "base_uri": "https://localhost:8080/",
     "height": 34
    },
    "id": "NYkVYnY67czA",
    "outputId": "166cfb4f-4cf2-44ba-a35d-65f691765cf8"
   },
   "outputs": [
    {
     "name": "stdout",
     "output_type": "stream",
     "text": [
      "Mounted at /content/gdrive\n"
     ]
    }
   ],
   "source": [
    "from google.colab import drive\n",
    "drive.mount('/content/gdrive', force_remount=True)"
   ]
  },
  {
   "cell_type": "code",
   "execution_count": 4,
   "metadata": {
    "id": "7WI8UZqwvoeZ"
   },
   "outputs": [],
   "source": [
    "NUMBER_OF_CLASSES = 100\n",
    "epochs = 200\n",
    "batch_size = 100\n",
    "path_best = \"gdrive/My Drive/Colab Notebooks/InceptionV2_SGD_Dropout.h5\"\n",
    "# path_best = \"../weights/InceptionV2_SGD_Dropout.h5\"\n",
    "path_train = \"gdrive/My Drive/Colab Notebooks/InceptionV2_SGD_Dropout_2.h5\" "
   ]
  },
  {
   "cell_type": "code",
   "execution_count": 5,
   "metadata": {
    "colab": {
     "base_uri": "https://localhost:8080/",
     "height": 50
    },
    "id": "6OSeM4U57me7",
    "outputId": "a43097f9-8066-4bf2-acca-99733418a3c2"
   },
   "outputs": [
    {
     "name": "stdout",
     "output_type": "stream",
     "text": [
      "Downloading data from https://www.cs.toronto.edu/~kriz/cifar-100-python.tar.gz\n",
      "169009152/169001437 [==============================] - 11s 0us/step\n"
     ]
    }
   ],
   "source": [
    "(x_train,y_train), (x_test, y_test) = cifar100.load_data()\n",
    "\n",
    "y_train_norm = to_categorical(y_train, NUMBER_OF_CLASSES)\n",
    "y_test_norm = to_categorical(y_test, NUMBER_OF_CLASSES)\n",
    "\n",
    "y_test = y_test.flatten()\n",
    "\n",
    "x_train = x_train.astype('float32')/255\n",
    "x_test = x_test.astype('float32')/255\n",
    "\n",
    "mean = np.mean(x_train, axis=(0,1,2,3))\n",
    "std = np.std(x_train, axis=(0,1,2,3))\n",
    "\n",
    "x_train_norm = (x_train-mean)/(std+1e-7)\n",
    "x_test_norm = (x_test-mean)/(std+1e-7)"
   ]
  },
  {
   "cell_type": "code",
   "execution_count": 6,
   "metadata": {
    "id": "6AhJ2d1Vvu3S"
   },
   "outputs": [],
   "source": [
    "datagen = ImageDataGenerator(\n",
    "    featurewise_center=False,\n",
    "    samplewise_center=False,\n",
    "    featurewise_std_normalization=False,\n",
    "    samplewise_std_normalization=False,\n",
    "    zca_whitening=False,\n",
    "    zca_epsilon=1e-06,\n",
    "    rotation_range=10,\n",
    "    width_shift_range=0.1,\n",
    "    height_shift_range=0.1,\n",
    "    horizontal_flip=True,\n",
    "    vertical_flip=False)\n",
    "\n",
    "datagen.fit(x_train_norm)"
   ]
  },
  {
   "cell_type": "code",
   "execution_count": 7,
   "metadata": {
    "id": "cnZJet_TtUck"
   },
   "outputs": [],
   "source": [
    "def inceptionBuilder(l, f_1x1, f_3x3_r, f_3x3, f_5x5_r, f_5x5, f_p):\n",
    "    l_1 = Conv2D(filters=f_1x1, kernel_size=(1,1), padding='same', activation='relu')(l)\n",
    "\n",
    "    l_3 = Conv2D(filters=f_3x3_r, kernel_size=(1,1), padding='same', activation='relu')(l)\n",
    "    l_3 = Conv2D(filters=f_3x3, kernel_size=(3,3), padding='same', activation='relu')(l_3)\n",
    "    # l_3 = Dropout(0.5)(l_3)\n",
    "\n",
    "    l_5 = Conv2D(filters=f_5x5_r, kernel_size=(1,1), padding='same', activation='relu')(l)\n",
    "    l_5 = Conv2D(filters=f_5x5, kernel_size=(5,5), padding='same', activation='relu')(l_5)\n",
    "    l_5 = Dropout(0.5)(l_5)\n",
    "\n",
    "    l_p = MaxPool2D(pool_size=(3,3), strides=(1,1), padding='same')(l)\n",
    "    l_p = Conv2D(filters=f_p, kernel_size=(1,1), padding='same', activation='relu')(l_p)\n",
    "    # l_p = Dropout(0.5)(l_p)\n",
    "\n",
    "    ret = concatenate([l_1, l_3, l_5, l_p], axis=3)\n",
    "\n",
    "    return ret"
   ]
  },
  {
   "cell_type": "code",
   "execution_count": 8,
   "metadata": {
    "id": "N6E_EDd-n2s5"
   },
   "outputs": [],
   "source": [
    "def create_InceptionV2Model():\n",
    "    input = Input(shape=(32,32,3))\n",
    "    l = Conv2D(filters=64, kernel_size=(7,7), padding=\"same\")(input)\n",
    "    l = Activation('relu')(l)\n",
    "    \n",
    "    l = MaxPool2D(pool_size=(3,3), padding='same', strides=(2,2))(l)\n",
    "    l = Conv2D(filters=64, kernel_size=(1,1), activation='relu')(l)\n",
    "    l = Conv2D(filters=192, kernel_size=(3,3), activation='relu')(l)\n",
    "    l = MaxPool2D(pool_size=(3,3), padding='same', strides=(2,2))(l)\n",
    "    # l = Dropout(0.5)(l)\n",
    "\n",
    "    l = inceptionBuilder(l, 64, 96, 128, 16, 32, 32)\n",
    "    l = inceptionBuilder(l, 128, 128, 192, 32, 96, 64)\n",
    "\n",
    "    l = MaxPool2D(pool_size=(3,3,), strides=(2,2), padding='same')(l)\n",
    "\n",
    "    l = inceptionBuilder(l, 192, 96, 208, 16, 48, 64)\n",
    "    # l = Dropout(0.5)(l)\n",
    "\n",
    "    l = GlobalAveragePooling2D()(l)\n",
    "    l = Dense(NUMBER_OF_CLASSES, activation='softmax')(l)\n",
    "\n",
    "    model = Model(inputs = input, outputs = l)\n",
    "    return model"
   ]
  },
  {
   "cell_type": "code",
   "execution_count": 9,
   "metadata": {
    "colab": {
     "base_uri": "https://localhost:8080/",
     "height": 1000
    },
    "id": "YBCWuynkGmZN",
    "outputId": "011b44bf-3170-4db2-8578-1610f0fb070f"
   },
   "outputs": [
    {
     "name": "stdout",
     "output_type": "stream",
     "text": [
      "Model: \"functional_1\"\n",
      "__________________________________________________________________________________________________\n",
      "Layer (type)                    Output Shape         Param #     Connected to                     \n",
      "==================================================================================================\n",
      "input_1 (InputLayer)            [(None, 32, 32, 3)]  0                                            \n",
      "__________________________________________________________________________________________________\n",
      "conv2d (Conv2D)                 (None, 32, 32, 64)   9472        input_1[0][0]                    \n",
      "__________________________________________________________________________________________________\n",
      "activation (Activation)         (None, 32, 32, 64)   0           conv2d[0][0]                     \n",
      "__________________________________________________________________________________________________\n",
      "max_pooling2d (MaxPooling2D)    (None, 16, 16, 64)   0           activation[0][0]                 \n",
      "__________________________________________________________________________________________________\n",
      "conv2d_1 (Conv2D)               (None, 16, 16, 64)   4160        max_pooling2d[0][0]              \n",
      "__________________________________________________________________________________________________\n",
      "conv2d_2 (Conv2D)               (None, 14, 14, 192)  110784      conv2d_1[0][0]                   \n",
      "__________________________________________________________________________________________________\n",
      "max_pooling2d_1 (MaxPooling2D)  (None, 7, 7, 192)    0           conv2d_2[0][0]                   \n",
      "__________________________________________________________________________________________________\n",
      "conv2d_6 (Conv2D)               (None, 7, 7, 16)     3088        max_pooling2d_1[0][0]            \n",
      "__________________________________________________________________________________________________\n",
      "conv2d_4 (Conv2D)               (None, 7, 7, 96)     18528       max_pooling2d_1[0][0]            \n",
      "__________________________________________________________________________________________________\n",
      "conv2d_7 (Conv2D)               (None, 7, 7, 32)     12832       conv2d_6[0][0]                   \n",
      "__________________________________________________________________________________________________\n",
      "max_pooling2d_2 (MaxPooling2D)  (None, 7, 7, 192)    0           max_pooling2d_1[0][0]            \n",
      "__________________________________________________________________________________________________\n",
      "conv2d_3 (Conv2D)               (None, 7, 7, 64)     12352       max_pooling2d_1[0][0]            \n",
      "__________________________________________________________________________________________________\n",
      "conv2d_5 (Conv2D)               (None, 7, 7, 128)    110720      conv2d_4[0][0]                   \n",
      "__________________________________________________________________________________________________\n",
      "dropout (Dropout)               (None, 7, 7, 32)     0           conv2d_7[0][0]                   \n",
      "__________________________________________________________________________________________________\n",
      "conv2d_8 (Conv2D)               (None, 7, 7, 32)     6176        max_pooling2d_2[0][0]            \n",
      "__________________________________________________________________________________________________\n",
      "concatenate (Concatenate)       (None, 7, 7, 256)    0           conv2d_3[0][0]                   \n",
      "                                                                 conv2d_5[0][0]                   \n",
      "                                                                 dropout[0][0]                    \n",
      "                                                                 conv2d_8[0][0]                   \n",
      "__________________________________________________________________________________________________\n",
      "conv2d_12 (Conv2D)              (None, 7, 7, 32)     8224        concatenate[0][0]                \n",
      "__________________________________________________________________________________________________\n",
      "conv2d_10 (Conv2D)              (None, 7, 7, 128)    32896       concatenate[0][0]                \n",
      "__________________________________________________________________________________________________\n",
      "conv2d_13 (Conv2D)              (None, 7, 7, 96)     76896       conv2d_12[0][0]                  \n",
      "__________________________________________________________________________________________________\n",
      "max_pooling2d_3 (MaxPooling2D)  (None, 7, 7, 256)    0           concatenate[0][0]                \n",
      "__________________________________________________________________________________________________\n",
      "conv2d_9 (Conv2D)               (None, 7, 7, 128)    32896       concatenate[0][0]                \n",
      "__________________________________________________________________________________________________\n",
      "conv2d_11 (Conv2D)              (None, 7, 7, 192)    221376      conv2d_10[0][0]                  \n",
      "__________________________________________________________________________________________________\n",
      "dropout_1 (Dropout)             (None, 7, 7, 96)     0           conv2d_13[0][0]                  \n",
      "__________________________________________________________________________________________________\n",
      "conv2d_14 (Conv2D)              (None, 7, 7, 64)     16448       max_pooling2d_3[0][0]            \n",
      "__________________________________________________________________________________________________\n",
      "concatenate_1 (Concatenate)     (None, 7, 7, 480)    0           conv2d_9[0][0]                   \n",
      "                                                                 conv2d_11[0][0]                  \n",
      "                                                                 dropout_1[0][0]                  \n",
      "                                                                 conv2d_14[0][0]                  \n",
      "__________________________________________________________________________________________________\n",
      "max_pooling2d_4 (MaxPooling2D)  (None, 4, 4, 480)    0           concatenate_1[0][0]              \n",
      "__________________________________________________________________________________________________\n",
      "conv2d_18 (Conv2D)              (None, 4, 4, 16)     7696        max_pooling2d_4[0][0]            \n",
      "__________________________________________________________________________________________________\n",
      "conv2d_16 (Conv2D)              (None, 4, 4, 96)     46176       max_pooling2d_4[0][0]            \n",
      "__________________________________________________________________________________________________\n",
      "conv2d_19 (Conv2D)              (None, 4, 4, 48)     19248       conv2d_18[0][0]                  \n",
      "__________________________________________________________________________________________________\n",
      "max_pooling2d_5 (MaxPooling2D)  (None, 4, 4, 480)    0           max_pooling2d_4[0][0]            \n",
      "__________________________________________________________________________________________________\n",
      "conv2d_15 (Conv2D)              (None, 4, 4, 192)    92352       max_pooling2d_4[0][0]            \n",
      "__________________________________________________________________________________________________\n",
      "conv2d_17 (Conv2D)              (None, 4, 4, 208)    179920      conv2d_16[0][0]                  \n",
      "__________________________________________________________________________________________________\n",
      "dropout_2 (Dropout)             (None, 4, 4, 48)     0           conv2d_19[0][0]                  \n",
      "__________________________________________________________________________________________________\n",
      "conv2d_20 (Conv2D)              (None, 4, 4, 64)     30784       max_pooling2d_5[0][0]            \n",
      "__________________________________________________________________________________________________\n",
      "concatenate_2 (Concatenate)     (None, 4, 4, 512)    0           conv2d_15[0][0]                  \n",
      "                                                                 conv2d_17[0][0]                  \n",
      "                                                                 dropout_2[0][0]                  \n",
      "                                                                 conv2d_20[0][0]                  \n",
      "__________________________________________________________________________________________________\n",
      "global_average_pooling2d (Globa (None, 512)          0           concatenate_2[0][0]              \n",
      "__________________________________________________________________________________________________\n",
      "dense (Dense)                   (None, 100)          51300       global_average_pooling2d[0][0]   \n",
      "==================================================================================================\n",
      "Total params: 1,104,324\n",
      "Trainable params: 1,104,324\n",
      "Non-trainable params: 0\n",
      "__________________________________________________________________________________________________\n"
     ]
    }
   ],
   "source": [
    "model = create_InceptionV2Model()\n",
    "model.summary()"
   ]
  },
  {
   "cell_type": "code",
   "execution_count": 10,
   "metadata": {
    "id": "WcAf2mgXDvLy"
   },
   "outputs": [],
   "source": [
    "sgd = SGD(lr=0.01, decay=1e-6, momentum=0.9, nesterov=True)\n",
    "model.compile(loss='categorical_crossentropy', optimizer=sgd,metrics=['accuracy'])"
   ]
  },
  {
   "cell_type": "markdown",
   "metadata": {
    "id": "d0XlnIwPv-XD"
   },
   "source": [
    "**Training**"
   ]
  },
  {
   "cell_type": "code",
   "execution_count": 11,
   "metadata": {
    "colab": {
     "base_uri": "https://localhost:8080/",
     "height": 34
    },
    "id": "t94CVXZFOOTE",
    "outputId": "8316529a-1093-4b0b-c926-b1b6d810acbd"
   },
   "outputs": [
    {
     "name": "stdout",
     "output_type": "stream",
     "text": [
      "WARNING:tensorflow:`period` argument is deprecated. Please use `save_freq` to specify the frequency in number of batches seen.\n"
     ]
    }
   ],
   "source": [
    "checkpoint = ModelCheckpoint(path_train, monitor='val_accuracy', verbose=1, save_best_only=True, save_weights_only=False, mode='auto',period=1)\n",
    "early = EarlyStopping(monitor='val_accuracy', min_delta=0, patience=20, verbose=1, mode='auto')"
   ]
  },
  {
   "cell_type": "code",
   "execution_count": 13,
   "metadata": {
    "colab": {
     "base_uri": "https://localhost:8080/",
     "height": 1000
    },
    "id": "sB19ilBkJ2r7",
    "outputId": "1dfde783-0489-41a1-83e9-17224c46aef2"
   },
   "outputs": [
    {
     "name": "stdout",
     "output_type": "stream",
     "text": [
      "Epoch 1/200\n",
      "\n",
      "Epoch 00001: val_accuracy improved from -inf to 0.09530, saving model to gdrive/My Drive/Colab Notebooks/InceptionV2_SGD_Dropout_2.h5\n",
      "500/500 - 43s - loss: 4.2463 - accuracy: 0.0519 - val_loss: 3.8788 - val_accuracy: 0.0953\n",
      "Epoch 2/200\n",
      "\n",
      "Epoch 00002: val_accuracy improved from 0.09530 to 0.16540, saving model to gdrive/My Drive/Colab Notebooks/InceptionV2_SGD_Dropout_2.h5\n",
      "500/500 - 42s - loss: 3.5724 - accuracy: 0.1490 - val_loss: 3.4618 - val_accuracy: 0.1654\n",
      "Epoch 3/200\n",
      "\n",
      "Epoch 00003: val_accuracy improved from 0.16540 to 0.24660, saving model to gdrive/My Drive/Colab Notebooks/InceptionV2_SGD_Dropout_2.h5\n",
      "500/500 - 41s - loss: 3.1563 - accuracy: 0.2214 - val_loss: 3.0182 - val_accuracy: 0.2466\n",
      "Epoch 4/200\n",
      "\n",
      "Epoch 00004: val_accuracy improved from 0.24660 to 0.28820, saving model to gdrive/My Drive/Colab Notebooks/InceptionV2_SGD_Dropout_2.h5\n",
      "500/500 - 42s - loss: 2.8553 - accuracy: 0.2784 - val_loss: 2.8501 - val_accuracy: 0.2882\n",
      "Epoch 5/200\n",
      "\n",
      "Epoch 00005: val_accuracy improved from 0.28820 to 0.33580, saving model to gdrive/My Drive/Colab Notebooks/InceptionV2_SGD_Dropout_2.h5\n",
      "500/500 - 42s - loss: 2.6213 - accuracy: 0.3261 - val_loss: 2.5863 - val_accuracy: 0.3358\n",
      "Epoch 6/200\n",
      "\n",
      "Epoch 00006: val_accuracy improved from 0.33580 to 0.33790, saving model to gdrive/My Drive/Colab Notebooks/InceptionV2_SGD_Dropout_2.h5\n",
      "500/500 - 41s - loss: 2.4467 - accuracy: 0.3606 - val_loss: 2.5578 - val_accuracy: 0.3379\n",
      "Epoch 7/200\n",
      "\n",
      "Epoch 00007: val_accuracy improved from 0.33790 to 0.38850, saving model to gdrive/My Drive/Colab Notebooks/InceptionV2_SGD_Dropout_2.h5\n",
      "500/500 - 42s - loss: 2.3028 - accuracy: 0.3930 - val_loss: 2.3342 - val_accuracy: 0.3885\n",
      "Epoch 8/200\n",
      "\n",
      "Epoch 00008: val_accuracy improved from 0.38850 to 0.41040, saving model to gdrive/My Drive/Colab Notebooks/InceptionV2_SGD_Dropout_2.h5\n",
      "500/500 - 42s - loss: 2.1863 - accuracy: 0.4164 - val_loss: 2.2651 - val_accuracy: 0.4104\n",
      "Epoch 9/200\n",
      "\n",
      "Epoch 00009: val_accuracy did not improve from 0.41040\n",
      "500/500 - 40s - loss: 2.0734 - accuracy: 0.4444 - val_loss: 2.2576 - val_accuracy: 0.4047\n",
      "Epoch 10/200\n",
      "\n",
      "Epoch 00010: val_accuracy improved from 0.41040 to 0.41540, saving model to gdrive/My Drive/Colab Notebooks/InceptionV2_SGD_Dropout_2.h5\n",
      "500/500 - 42s - loss: 1.9810 - accuracy: 0.4656 - val_loss: 2.2087 - val_accuracy: 0.4154\n",
      "Epoch 11/200\n",
      "\n",
      "Epoch 00011: val_accuracy improved from 0.41540 to 0.44350, saving model to gdrive/My Drive/Colab Notebooks/InceptionV2_SGD_Dropout_2.h5\n",
      "500/500 - 42s - loss: 1.8976 - accuracy: 0.4826 - val_loss: 2.1074 - val_accuracy: 0.4435\n",
      "Epoch 12/200\n",
      "\n",
      "Epoch 00012: val_accuracy improved from 0.44350 to 0.46140, saving model to gdrive/My Drive/Colab Notebooks/InceptionV2_SGD_Dropout_2.h5\n",
      "500/500 - 41s - loss: 1.8245 - accuracy: 0.5004 - val_loss: 2.0302 - val_accuracy: 0.4614\n",
      "Epoch 13/200\n",
      "\n",
      "Epoch 00013: val_accuracy improved from 0.46140 to 0.46470, saving model to gdrive/My Drive/Colab Notebooks/InceptionV2_SGD_Dropout_2.h5\n",
      "500/500 - 41s - loss: 1.7573 - accuracy: 0.5125 - val_loss: 1.9924 - val_accuracy: 0.4647\n",
      "Epoch 14/200\n",
      "\n",
      "Epoch 00014: val_accuracy improved from 0.46470 to 0.49930, saving model to gdrive/My Drive/Colab Notebooks/InceptionV2_SGD_Dropout_2.h5\n",
      "500/500 - 41s - loss: 1.6946 - accuracy: 0.5281 - val_loss: 1.8808 - val_accuracy: 0.4993\n",
      "Epoch 15/200\n",
      "\n",
      "Epoch 00015: val_accuracy did not improve from 0.49930\n",
      "500/500 - 41s - loss: 1.6423 - accuracy: 0.5410 - val_loss: 1.9240 - val_accuracy: 0.4880\n",
      "Epoch 16/200\n",
      "\n",
      "Epoch 00016: val_accuracy did not improve from 0.49930\n",
      "500/500 - 41s - loss: 1.5870 - accuracy: 0.5567 - val_loss: 1.9679 - val_accuracy: 0.4791\n",
      "Epoch 17/200\n",
      "\n",
      "Epoch 00017: val_accuracy improved from 0.49930 to 0.50690, saving model to gdrive/My Drive/Colab Notebooks/InceptionV2_SGD_Dropout_2.h5\n",
      "500/500 - 41s - loss: 1.5286 - accuracy: 0.5681 - val_loss: 1.8241 - val_accuracy: 0.5069\n",
      "Epoch 18/200\n",
      "\n",
      "Epoch 00018: val_accuracy did not improve from 0.50690\n",
      "500/500 - 41s - loss: 1.4872 - accuracy: 0.5769 - val_loss: 1.9900 - val_accuracy: 0.4821\n",
      "Epoch 19/200\n",
      "\n",
      "Epoch 00019: val_accuracy improved from 0.50690 to 0.51380, saving model to gdrive/My Drive/Colab Notebooks/InceptionV2_SGD_Dropout_2.h5\n",
      "500/500 - 42s - loss: 1.4425 - accuracy: 0.5902 - val_loss: 1.9300 - val_accuracy: 0.5138\n",
      "Epoch 20/200\n",
      "\n",
      "Epoch 00020: val_accuracy improved from 0.51380 to 0.52280, saving model to gdrive/My Drive/Colab Notebooks/InceptionV2_SGD_Dropout_2.h5\n",
      "500/500 - 42s - loss: 1.4002 - accuracy: 0.5999 - val_loss: 1.8186 - val_accuracy: 0.5228\n",
      "Epoch 21/200\n",
      "\n",
      "Epoch 00021: val_accuracy did not improve from 0.52280\n",
      "500/500 - 41s - loss: 1.3491 - accuracy: 0.6114 - val_loss: 1.8647 - val_accuracy: 0.5160\n",
      "Epoch 22/200\n",
      "\n",
      "Epoch 00022: val_accuracy improved from 0.52280 to 0.52520, saving model to gdrive/My Drive/Colab Notebooks/InceptionV2_SGD_Dropout_2.h5\n",
      "500/500 - 41s - loss: 1.3105 - accuracy: 0.6204 - val_loss: 1.8179 - val_accuracy: 0.5252\n",
      "Epoch 23/200\n",
      "\n",
      "Epoch 00023: val_accuracy improved from 0.52520 to 0.53560, saving model to gdrive/My Drive/Colab Notebooks/InceptionV2_SGD_Dropout_2.h5\n",
      "500/500 - 42s - loss: 1.2806 - accuracy: 0.6288 - val_loss: 1.7331 - val_accuracy: 0.5356\n",
      "Epoch 24/200\n",
      "\n",
      "Epoch 00024: val_accuracy did not improve from 0.53560\n",
      "500/500 - 41s - loss: 1.2444 - accuracy: 0.6381 - val_loss: 1.8764 - val_accuracy: 0.5186\n",
      "Epoch 25/200\n",
      "\n",
      "Epoch 00025: val_accuracy did not improve from 0.53560\n",
      "500/500 - 41s - loss: 1.2103 - accuracy: 0.6464 - val_loss: 1.8256 - val_accuracy: 0.5348\n",
      "Epoch 26/200\n",
      "\n",
      "Epoch 00026: val_accuracy improved from 0.53560 to 0.54310, saving model to gdrive/My Drive/Colab Notebooks/InceptionV2_SGD_Dropout_2.h5\n",
      "500/500 - 42s - loss: 1.1818 - accuracy: 0.6532 - val_loss: 1.7444 - val_accuracy: 0.5431\n",
      "Epoch 27/200\n",
      "\n",
      "Epoch 00027: val_accuracy did not improve from 0.54310\n",
      "500/500 - 41s - loss: 1.1418 - accuracy: 0.6639 - val_loss: 1.8174 - val_accuracy: 0.5430\n",
      "Epoch 28/200\n",
      "\n",
      "Epoch 00028: val_accuracy did not improve from 0.54310\n",
      "500/500 - 41s - loss: 1.1176 - accuracy: 0.6681 - val_loss: 1.9278 - val_accuracy: 0.5189\n",
      "Epoch 29/200\n",
      "\n",
      "Epoch 00029: val_accuracy did not improve from 0.54310\n",
      "500/500 - 41s - loss: 1.0891 - accuracy: 0.6778 - val_loss: 1.9061 - val_accuracy: 0.5309\n",
      "Epoch 30/200\n",
      "\n",
      "Epoch 00030: val_accuracy improved from 0.54310 to 0.55050, saving model to gdrive/My Drive/Colab Notebooks/InceptionV2_SGD_Dropout_2.h5\n",
      "500/500 - 41s - loss: 1.0651 - accuracy: 0.6842 - val_loss: 1.7831 - val_accuracy: 0.5505\n",
      "Epoch 31/200\n",
      "\n",
      "Epoch 00031: val_accuracy did not improve from 0.55050\n",
      "500/500 - 41s - loss: 1.0288 - accuracy: 0.6915 - val_loss: 1.9132 - val_accuracy: 0.5338\n",
      "Epoch 32/200\n",
      "\n",
      "Epoch 00032: val_accuracy did not improve from 0.55050\n",
      "500/500 - 41s - loss: 1.0067 - accuracy: 0.7008 - val_loss: 1.9104 - val_accuracy: 0.5276\n",
      "Epoch 33/200\n",
      "\n",
      "Epoch 00033: val_accuracy did not improve from 0.55050\n",
      "500/500 - 41s - loss: 0.9895 - accuracy: 0.7022 - val_loss: 1.9158 - val_accuracy: 0.5365\n",
      "Epoch 34/200\n",
      "\n",
      "Epoch 00034: val_accuracy did not improve from 0.55050\n",
      "500/500 - 41s - loss: 0.9538 - accuracy: 0.7117 - val_loss: 1.9495 - val_accuracy: 0.5258\n",
      "Epoch 35/200\n",
      "\n",
      "Epoch 00035: val_accuracy did not improve from 0.55050\n",
      "500/500 - 41s - loss: 0.9286 - accuracy: 0.7188 - val_loss: 1.9576 - val_accuracy: 0.5386\n",
      "Epoch 36/200\n",
      "\n",
      "Epoch 00036: val_accuracy did not improve from 0.55050\n",
      "500/500 - 41s - loss: 0.9119 - accuracy: 0.7246 - val_loss: 1.9536 - val_accuracy: 0.5388\n",
      "Epoch 37/200\n",
      "\n",
      "Epoch 00037: val_accuracy did not improve from 0.55050\n",
      "500/500 - 41s - loss: 0.8921 - accuracy: 0.7304 - val_loss: 2.0363 - val_accuracy: 0.5287\n",
      "Epoch 38/200\n",
      "\n",
      "Epoch 00038: val_accuracy did not improve from 0.55050\n",
      "500/500 - 41s - loss: 0.8660 - accuracy: 0.7354 - val_loss: 2.0646 - val_accuracy: 0.5339\n",
      "Epoch 39/200\n",
      "\n",
      "Epoch 00039: val_accuracy did not improve from 0.55050\n",
      "500/500 - 41s - loss: 0.8471 - accuracy: 0.7419 - val_loss: 1.9608 - val_accuracy: 0.5442\n",
      "Epoch 40/200\n",
      "\n",
      "Epoch 00040: val_accuracy did not improve from 0.55050\n",
      "500/500 - 41s - loss: 0.8290 - accuracy: 0.7439 - val_loss: 2.0649 - val_accuracy: 0.5444\n",
      "Epoch 41/200\n",
      "\n",
      "Epoch 00041: val_accuracy did not improve from 0.55050\n",
      "500/500 - 41s - loss: 0.8125 - accuracy: 0.7496 - val_loss: 2.0291 - val_accuracy: 0.5429\n",
      "Epoch 42/200\n",
      "\n",
      "Epoch 00042: val_accuracy did not improve from 0.55050\n",
      "500/500 - 41s - loss: 0.7933 - accuracy: 0.7558 - val_loss: 2.0705 - val_accuracy: 0.5244\n",
      "Epoch 43/200\n",
      "\n",
      "Epoch 00043: val_accuracy did not improve from 0.55050\n",
      "500/500 - 41s - loss: 0.7805 - accuracy: 0.7607 - val_loss: 2.0932 - val_accuracy: 0.5339\n",
      "Epoch 44/200\n",
      "\n",
      "Epoch 00044: val_accuracy did not improve from 0.55050\n",
      "500/500 - 40s - loss: 0.7564 - accuracy: 0.7653 - val_loss: 2.0805 - val_accuracy: 0.5469\n",
      "Epoch 45/200\n",
      "\n",
      "Epoch 00045: val_accuracy did not improve from 0.55050\n",
      "500/500 - 40s - loss: 0.7466 - accuracy: 0.7690 - val_loss: 2.1237 - val_accuracy: 0.5377\n",
      "Epoch 46/200\n",
      "\n",
      "Epoch 00046: val_accuracy did not improve from 0.55050\n",
      "500/500 - 41s - loss: 0.7281 - accuracy: 0.7733 - val_loss: 2.1942 - val_accuracy: 0.5444\n",
      "Epoch 47/200\n",
      "\n",
      "Epoch 00047: val_accuracy did not improve from 0.55050\n",
      "500/500 - 40s - loss: 0.7084 - accuracy: 0.7787 - val_loss: 2.0936 - val_accuracy: 0.5386\n",
      "Epoch 48/200\n",
      "\n",
      "Epoch 00048: val_accuracy improved from 0.55050 to 0.55360, saving model to gdrive/My Drive/Colab Notebooks/InceptionV2_SGD_Dropout_2.h5\n",
      "500/500 - 41s - loss: 0.7042 - accuracy: 0.7795 - val_loss: 2.0596 - val_accuracy: 0.5536\n",
      "Epoch 49/200\n",
      "\n",
      "Epoch 00049: val_accuracy did not improve from 0.55360\n",
      "500/500 - 41s - loss: 0.6835 - accuracy: 0.7872 - val_loss: 2.1514 - val_accuracy: 0.5414\n",
      "Epoch 50/200\n",
      "\n",
      "Epoch 00050: val_accuracy did not improve from 0.55360\n",
      "500/500 - 40s - loss: 0.6698 - accuracy: 0.7911 - val_loss: 2.4114 - val_accuracy: 0.5367\n",
      "Epoch 51/200\n",
      "\n",
      "Epoch 00051: val_accuracy did not improve from 0.55360\n",
      "500/500 - 40s - loss: 0.6608 - accuracy: 0.7945 - val_loss: 2.3413 - val_accuracy: 0.5288\n",
      "Epoch 52/200\n",
      "\n",
      "Epoch 00052: val_accuracy did not improve from 0.55360\n",
      "500/500 - 40s - loss: 0.6504 - accuracy: 0.7968 - val_loss: 2.2977 - val_accuracy: 0.5367\n",
      "Epoch 53/200\n",
      "\n",
      "Epoch 00053: val_accuracy did not improve from 0.55360\n",
      "500/500 - 40s - loss: 0.6372 - accuracy: 0.7980 - val_loss: 2.2995 - val_accuracy: 0.5405\n",
      "Epoch 54/200\n",
      "\n",
      "Epoch 00054: val_accuracy did not improve from 0.55360\n",
      "500/500 - 40s - loss: 0.6289 - accuracy: 0.8027 - val_loss: 2.2355 - val_accuracy: 0.5322\n",
      "Epoch 55/200\n",
      "\n",
      "Epoch 00055: val_accuracy did not improve from 0.55360\n",
      "500/500 - 40s - loss: 0.6239 - accuracy: 0.8035 - val_loss: 2.2929 - val_accuracy: 0.5397\n",
      "Epoch 56/200\n",
      "\n",
      "Epoch 00056: val_accuracy did not improve from 0.55360\n",
      "500/500 - 41s - loss: 0.5996 - accuracy: 0.8089 - val_loss: 2.3944 - val_accuracy: 0.5323\n",
      "Epoch 57/200\n",
      "\n",
      "Epoch 00057: val_accuracy did not improve from 0.55360\n",
      "500/500 - 41s - loss: 0.5942 - accuracy: 0.8097 - val_loss: 2.3602 - val_accuracy: 0.5379\n",
      "Epoch 58/200\n",
      "\n",
      "Epoch 00058: val_accuracy did not improve from 0.55360\n",
      "500/500 - 41s - loss: 0.5845 - accuracy: 0.8137 - val_loss: 2.4117 - val_accuracy: 0.5404\n",
      "Epoch 59/200\n",
      "\n",
      "Epoch 00059: val_accuracy did not improve from 0.55360\n",
      "500/500 - 41s - loss: 0.5831 - accuracy: 0.8140 - val_loss: 2.4147 - val_accuracy: 0.5444\n",
      "Epoch 60/200\n",
      "\n",
      "Epoch 00060: val_accuracy did not improve from 0.55360\n",
      "500/500 - 41s - loss: 0.5761 - accuracy: 0.8171 - val_loss: 2.3502 - val_accuracy: 0.5447\n",
      "Epoch 61/200\n",
      "\n",
      "Epoch 00061: val_accuracy did not improve from 0.55360\n",
      "500/500 - 41s - loss: 0.5674 - accuracy: 0.8204 - val_loss: 2.3558 - val_accuracy: 0.5436\n",
      "Epoch 62/200\n",
      "\n",
      "Epoch 00062: val_accuracy did not improve from 0.55360\n",
      "500/500 - 41s - loss: 0.5552 - accuracy: 0.8238 - val_loss: 2.3364 - val_accuracy: 0.5493\n",
      "Epoch 63/200\n",
      "\n",
      "Epoch 00063: val_accuracy did not improve from 0.55360\n",
      "500/500 - 41s - loss: 0.5435 - accuracy: 0.8282 - val_loss: 2.4736 - val_accuracy: 0.5421\n",
      "Epoch 64/200\n",
      "\n",
      "Epoch 00064: val_accuracy did not improve from 0.55360\n",
      "500/500 - 41s - loss: 0.5302 - accuracy: 0.8322 - val_loss: 2.5313 - val_accuracy: 0.5389\n",
      "Epoch 65/200\n",
      "\n",
      "Epoch 00065: val_accuracy did not improve from 0.55360\n",
      "500/500 - 41s - loss: 0.5348 - accuracy: 0.8321 - val_loss: 2.6342 - val_accuracy: 0.5337\n",
      "Epoch 66/200\n",
      "\n",
      "Epoch 00066: val_accuracy did not improve from 0.55360\n",
      "500/500 - 41s - loss: 0.5245 - accuracy: 0.8328 - val_loss: 2.5364 - val_accuracy: 0.5413\n",
      "Epoch 67/200\n",
      "\n",
      "Epoch 00067: val_accuracy did not improve from 0.55360\n",
      "500/500 - 41s - loss: 0.5238 - accuracy: 0.8352 - val_loss: 2.6453 - val_accuracy: 0.5313\n",
      "Epoch 68/200\n",
      "\n",
      "Epoch 00068: val_accuracy did not improve from 0.55360\n",
      "500/500 - 41s - loss: 0.5018 - accuracy: 0.8406 - val_loss: 2.5518 - val_accuracy: 0.5429\n",
      "Epoch 00068: early stopping\n"
     ]
    }
   ],
   "source": [
    "history = model.fit(datagen.flow(x_train_norm, y_train_norm,\n",
    "                                        batch_size=batch_size),\n",
    "                        steps_per_epoch=x_train_norm.shape[0]// batch_size,\n",
    "                        epochs=epochs,\n",
    "                        validation_data=(x_test_norm,y_test_norm),\n",
    "                        callbacks=[checkpoint, early],verbose=2)"
   ]
  },
  {
   "cell_type": "markdown",
   "metadata": {
    "id": "pPx00gEgNva1"
   },
   "source": [
    "*Plotting training accuracy and loss*"
   ]
  },
  {
   "cell_type": "code",
   "execution_count": 14,
   "metadata": {
    "colab": {
     "base_uri": "https://localhost:8080/",
     "height": 421
    },
    "id": "ICEYLECmNwgE",
    "outputId": "3714397b-0446-4522-ea05-33de6f6a986f"
   },
   "outputs": [
    {
     "data": {
      "text/plain": [
       "<matplotlib.legend.Legend at 0x7f78700adb38>"
      ]
     },
     "execution_count": 14,
     "metadata": {
      "tags": []
     },
     "output_type": "execute_result"
    },
    {
     "data": {
      "image/png": "[encoded data removed]",
      "text/plain": [
       "<Figure size 1440x432 with 2 Axes>"
      ]
     },
     "metadata": {
      "needs_background": "light",
      "tags": []
     },
     "output_type": "display_data"
    }
   ],
   "source": [
    "fig, axs = plt.subplots(1, 2, figsize=(20, 6))\n",
    "axs[0].plot(history.history['accuracy'])\n",
    "axs[0].plot(history.history['val_accuracy'])\n",
    "axs[0].set_title('Model Accuracy')\n",
    "axs[0].set(ylabel ='accuracy')\n",
    "axs[0].set(xlabel ='epoch')\n",
    "axs[0].legend(['train', 'test'], loc='upper left')\n",
    "\n",
    "axs[1].plot(history.history['loss'])\n",
    "axs[1].plot(history.history['val_loss'])\n",
    "axs[1].set_title('Model Loss')\n",
    "axs[1].set(ylabel='loss')\n",
    "axs[1].set(xlabel='epoch')\n",
    "axs[1].legend(['train', 'test'], loc='upper left')"
   ]
  },
  {
   "cell_type": "markdown",
   "metadata": {
    "id": "8x04PUPKwaRP"
   },
   "source": [
    "**Prediction**"
   ]
  },
  {
   "cell_type": "code",
   "execution_count": 12,
   "metadata": {
    "id": "T81pOc3swci6"
   },
   "outputs": [],
   "source": [
    "model.load_weights(path_best)\n",
    "y_pred = np.argmax(model.predict(x_test_norm), axis=-1)"
   ]
  },
  {
   "cell_type": "code",
   "execution_count": 13,
   "metadata": {
    "colab": {
     "base_uri": "https://localhost:8080/",
     "height": 67
    },
    "id": "OO2cNJNMwxuT",
    "outputId": "fca671c3-f969-428d-8d7b-14b33f8ad681"
   },
   "outputs": [
    {
     "name": "stdout",
     "output_type": "stream",
     "text": [
      "Precision:  0.5749321317578809\n",
      "Recall:  0.5536\n",
      "Accuracy:  0.5536\n"
     ]
    }
   ],
   "source": [
    "precision = precision_score(y_test, y_pred, average='weighted')\n",
    "print(\"Precision: \", precision)\n",
    "recall = recall_score(y_test, y_pred, average='weighted')\n",
    "print(\"Recall: \", recall)\n",
    "accuracy = accuracy_score(y_test, y_pred)\n",
    "print(\"Accuracy: \", accuracy)"
   ]
  }
 ],
 "metadata": {
  "accelerator": "GPU",
  "colab": {
   "collapsed_sections": [],
   "name": "InceptionV2_SGD_Dropout.ipynb",
   "provenance": []
  },
  "kernelspec": {
   "display_name": "Python 3",
   "language": "python",
   "name": "python3"
  },
  "language_info": {
   "codemirror_mode": {
    "name": "ipython",
    "version": 3
   },
   "file_extension": ".py",
   "mimetype": "text/x-python",
   "name": "python",
   "nbconvert_exporter": "python",
   "pygments_lexer": "ipython3",
   "version": "3.7.6"
  }
 },
 "nbformat": 4,
 "nbformat_minor": 1
}
