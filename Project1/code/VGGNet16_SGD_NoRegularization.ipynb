{
 "cells": [
  {
   "cell_type": "code",
   "execution_count": 1,
   "metadata": {
    "id": "Q2Kfxt726PWs"
   },
   "outputs": [],
   "source": [
    "import numpy as np\n",
    "from keras.models import Sequential\n",
    "from keras.datasets import cifar100\n",
    "from keras.utils import to_categorical\n",
    "from keras.models import Sequential\n",
    "from keras.layers import Conv2D, MaxPool2D, Flatten, Dense, Activation\n",
    "from keras.optimizers import SGD\n",
    "import keras\n",
    "from keras.preprocessing.image import ImageDataGenerator\n",
    "from keras.callbacks import ModelCheckpoint, EarlyStopping\n",
    "from sklearn.metrics import accuracy_score, precision_score, recall_score\n",
    "import matplotlib.pyplot as plt"
   ]
  },
  {
   "cell_type": "code",
   "execution_count": 2,
   "metadata": {
    "colab": {
     "base_uri": "https://localhost:8080/",
     "height": 34
    },
    "id": "NYkVYnY67czA",
    "outputId": "62dd32c8-83e2-4b36-dc59-47712bb5745f"
   },
   "outputs": [
    {
     "name": "stdout",
     "output_type": "stream",
     "text": [
      "Mounted at /content/gdrive\n"
     ]
    }
   ],
   "source": [
    "from google.colab import drive\n",
    "drive.mount('/content/gdrive', force_remount=True)"
   ]
  },
  {
   "cell_type": "code",
   "execution_count": 4,
   "metadata": {
    "id": "a0ZgpArYJwOC"
   },
   "outputs": [],
   "source": [
    "NUMBER_OF_CLASSES = 100\n",
    "epochs = 200\n",
    "batch_size = 100\n",
    "path_best = \"gdrive/My Drive/Colab Notebooks/VGGNet16_SGD_NoRegularization.h5\"\n",
    "# path_best = \"../weights/VGGNet16_SGD_NoRegularization.h5\"\n",
    "path_train = \"gdrive/My Drive/Colab Notebooks/VGGNet16_SGD_NoRegularization_2.h5\" "
   ]
  },
  {
   "cell_type": "code",
   "execution_count": 5,
   "metadata": {
    "id": "6OSeM4U57me7"
   },
   "outputs": [],
   "source": [
    "(x_train,y_train), (x_test, y_test) = cifar100.load_data()\n",
    "\n",
    "y_train_norm = to_categorical(y_train, NUMBER_OF_CLASSES)\n",
    "y_test_norm = to_categorical(y_test, NUMBER_OF_CLASSES)\n",
    "\n",
    "y_test = y_test.flatten()\n",
    "\n",
    "x_train = x_train.astype('float32')/255\n",
    "x_test = x_test.astype('float32')/255\n",
    "\n",
    "mean = np.mean(x_train, axis=(0,1,2,3))\n",
    "std = np.std(x_train, axis=(0,1,2,3))\n",
    "\n",
    "x_train_norm = (x_train-mean)/(std+1e-7)\n",
    "x_test_norm = (x_test-mean)/(std+1e-7)"
   ]
  },
  {
   "cell_type": "code",
   "execution_count": 6,
   "metadata": {
    "id": "o2hLvRNBFe7D"
   },
   "outputs": [],
   "source": [
    "datagen = ImageDataGenerator(\n",
    "    featurewise_center=False,\n",
    "    samplewise_center=False,\n",
    "    featurewise_std_normalization=False,\n",
    "    samplewise_std_normalization=False,\n",
    "    zca_whitening=False,\n",
    "    zca_epsilon=1e-06,\n",
    "    rotation_range=10,\n",
    "    width_shift_range=0.1,\n",
    "    height_shift_range=0.1,\n",
    "    horizontal_flip=True,\n",
    "    vertical_flip=False)\n",
    "\n",
    "datagen.fit(x_train_norm)"
   ]
  },
  {
   "cell_type": "code",
   "execution_count": 7,
   "metadata": {
    "id": "RjzYt9u77sTy"
   },
   "outputs": [],
   "source": [
    "def create_VGG16Model():\n",
    "    model = Sequential()\n",
    "    \n",
    "    model.add(Conv2D(input_shape=(32,32,3), filters=64, kernel_size=(3,3), padding=\"same\"))\n",
    "    model.add(Activation('relu'))\n",
    "    model.add(Conv2D(filters=64, kernel_size=(3,3), padding=\"same\"))\n",
    "    model.add(Activation('relu'))\n",
    "    model.add(MaxPool2D(pool_size=(2,2), strides=(2,2)))\n",
    "\n",
    "    model.add(Conv2D(filters=128, kernel_size=(3,3), padding=\"same\"))\n",
    "    model.add(Activation('relu'))\n",
    "    model.add(Conv2D(filters=128, kernel_size=(3,3), padding=\"same\"))\n",
    "    model.add(Activation('relu'))\n",
    "    model.add(MaxPool2D(pool_size=(2,2), strides=(2,2)))\n",
    "\n",
    "    model.add(Conv2D(filters=256, kernel_size=(3,3), padding=\"same\"))\n",
    "    model.add(Activation('relu'))\n",
    "    model.add(Conv2D(filters=256, kernel_size=(3,3), padding=\"same\"))\n",
    "    model.add(Activation('relu'))\n",
    "    model.add(Conv2D(filters=256, kernel_size=(3,3), padding=\"same\"))\n",
    "    model.add(Activation('relu'))\n",
    "    model.add(MaxPool2D(pool_size=(2,2), strides=(2,2)))\n",
    "\n",
    "    model.add(Conv2D(filters=512, kernel_size=(3,3), padding=\"same\"))\n",
    "    model.add(Activation('relu'))\n",
    "    model.add(Conv2D(filters=512, kernel_size=(3,3), padding=\"same\"))\n",
    "    model.add(Activation('relu'))\n",
    "    model.add(Conv2D(filters=512, kernel_size=(3,3), padding=\"same\"))\n",
    "    model.add(Activation('relu'))\n",
    "    model.add(MaxPool2D(pool_size=(2,2), strides=(2,2)))\n",
    "\n",
    "    model.add(Conv2D(filters=512, kernel_size=(3,3), padding=\"same\"))\n",
    "    model.add(Activation('relu'))\n",
    "    model.add(Conv2D(filters=512, kernel_size=(3,3), padding=\"same\"))\n",
    "    model.add(Activation('relu'))\n",
    "    model.add(Conv2D(filters=512, kernel_size=(3,3), padding=\"same\"))\n",
    "    model.add(Activation('relu'))\n",
    "    model.add(MaxPool2D(pool_size=(2,2), strides=(2,2)))\n",
    "\n",
    "    model.add(Flatten())\n",
    "\n",
    "    model.add(Dense(4096))\n",
    "    model.add(Activation('relu'))\n",
    "    model.add(Dense(4096))\n",
    "    model.add(Activation('relu'))\n",
    "    model.add(Dense(NUMBER_OF_CLASSES))\n",
    "    model.add(Activation('softmax'))\n",
    "    return model"
   ]
  },
  {
   "cell_type": "code",
   "execution_count": 8,
   "metadata": {
    "colab": {
     "base_uri": "https://localhost:8080/",
     "height": 1000
    },
    "id": "YBCWuynkGmZN",
    "outputId": "ffa6d86a-8126-4054-ddc4-b633b69deeaf"
   },
   "outputs": [
    {
     "name": "stdout",
     "output_type": "stream",
     "text": [
      "Model: \"sequential\"\n",
      "_________________________________________________________________\n",
      "Layer (type)                 Output Shape              Param #   \n",
      "=================================================================\n",
      "conv2d (Conv2D)              (None, 32, 32, 64)        1792      \n",
      "_________________________________________________________________\n",
      "activation (Activation)      (None, 32, 32, 64)        0         \n",
      "_________________________________________________________________\n",
      "conv2d_1 (Conv2D)            (None, 32, 32, 64)        36928     \n",
      "_________________________________________________________________\n",
      "activation_1 (Activation)    (None, 32, 32, 64)        0         \n",
      "_________________________________________________________________\n",
      "max_pooling2d (MaxPooling2D) (None, 16, 16, 64)        0         \n",
      "_________________________________________________________________\n",
      "conv2d_2 (Conv2D)            (None, 16, 16, 128)       73856     \n",
      "_________________________________________________________________\n",
      "activation_2 (Activation)    (None, 16, 16, 128)       0         \n",
      "_________________________________________________________________\n",
      "conv2d_3 (Conv2D)            (None, 16, 16, 128)       147584    \n",
      "_________________________________________________________________\n",
      "activation_3 (Activation)    (None, 16, 16, 128)       0         \n",
      "_________________________________________________________________\n",
      "max_pooling2d_1 (MaxPooling2 (None, 8, 8, 128)         0         \n",
      "_________________________________________________________________\n",
      "conv2d_4 (Conv2D)            (None, 8, 8, 256)         295168    \n",
      "_________________________________________________________________\n",
      "activation_4 (Activation)    (None, 8, 8, 256)         0         \n",
      "_________________________________________________________________\n",
      "conv2d_5 (Conv2D)            (None, 8, 8, 256)         590080    \n",
      "_________________________________________________________________\n",
      "activation_5 (Activation)    (None, 8, 8, 256)         0         \n",
      "_________________________________________________________________\n",
      "conv2d_6 (Conv2D)            (None, 8, 8, 256)         590080    \n",
      "_________________________________________________________________\n",
      "activation_6 (Activation)    (None, 8, 8, 256)         0         \n",
      "_________________________________________________________________\n",
      "max_pooling2d_2 (MaxPooling2 (None, 4, 4, 256)         0         \n",
      "_________________________________________________________________\n",
      "conv2d_7 (Conv2D)            (None, 4, 4, 512)         1180160   \n",
      "_________________________________________________________________\n",
      "activation_7 (Activation)    (None, 4, 4, 512)         0         \n",
      "_________________________________________________________________\n",
      "conv2d_8 (Conv2D)            (None, 4, 4, 512)         2359808   \n",
      "_________________________________________________________________\n",
      "activation_8 (Activation)    (None, 4, 4, 512)         0         \n",
      "_________________________________________________________________\n",
      "conv2d_9 (Conv2D)            (None, 4, 4, 512)         2359808   \n",
      "_________________________________________________________________\n",
      "activation_9 (Activation)    (None, 4, 4, 512)         0         \n",
      "_________________________________________________________________\n",
      "max_pooling2d_3 (MaxPooling2 (None, 2, 2, 512)         0         \n",
      "_________________________________________________________________\n",
      "conv2d_10 (Conv2D)           (None, 2, 2, 512)         2359808   \n",
      "_________________________________________________________________\n",
      "activation_10 (Activation)   (None, 2, 2, 512)         0         \n",
      "_________________________________________________________________\n",
      "conv2d_11 (Conv2D)           (None, 2, 2, 512)         2359808   \n",
      "_________________________________________________________________\n",
      "activation_11 (Activation)   (None, 2, 2, 512)         0         \n",
      "_________________________________________________________________\n",
      "conv2d_12 (Conv2D)           (None, 2, 2, 512)         2359808   \n",
      "_________________________________________________________________\n",
      "activation_12 (Activation)   (None, 2, 2, 512)         0         \n",
      "_________________________________________________________________\n",
      "max_pooling2d_4 (MaxPooling2 (None, 1, 1, 512)         0         \n",
      "_________________________________________________________________\n",
      "flatten (Flatten)            (None, 512)               0         \n",
      "_________________________________________________________________\n",
      "dense (Dense)                (None, 4096)              2101248   \n",
      "_________________________________________________________________\n",
      "activation_13 (Activation)   (None, 4096)              0         \n",
      "_________________________________________________________________\n",
      "dense_1 (Dense)              (None, 4096)              16781312  \n",
      "_________________________________________________________________\n",
      "activation_14 (Activation)   (None, 4096)              0         \n",
      "_________________________________________________________________\n",
      "dense_2 (Dense)              (None, 100)               409700    \n",
      "_________________________________________________________________\n",
      "activation_15 (Activation)   (None, 100)               0         \n",
      "=================================================================\n",
      "Total params: 34,006,948\n",
      "Trainable params: 34,006,948\n",
      "Non-trainable params: 0\n",
      "_________________________________________________________________\n"
     ]
    }
   ],
   "source": [
    "model = create_VGG16Model()\n",
    "model.summary()"
   ]
  },
  {
   "cell_type": "code",
   "execution_count": 9,
   "metadata": {
    "id": "WcAf2mgXDvLy"
   },
   "outputs": [],
   "source": [
    "sgd = SGD(lr=0.01, decay=1e-6, momentum=0.9, nesterov=True)\n",
    "model.compile(loss='categorical_crossentropy', optimizer=sgd,metrics=['accuracy'])"
   ]
  },
  {
   "cell_type": "markdown",
   "metadata": {
    "id": "m4bK3Sv-MsOe"
   },
   "source": [
    "**Training**"
   ]
  },
  {
   "cell_type": "code",
   "execution_count": 10,
   "metadata": {
    "colab": {
     "base_uri": "https://localhost:8080/",
     "height": 34
    },
    "id": "t94CVXZFOOTE",
    "outputId": "5604791c-345b-4865-f3d7-434d473187e7"
   },
   "outputs": [
    {
     "name": "stdout",
     "output_type": "stream",
     "text": [
      "WARNING:tensorflow:`period` argument is deprecated. Please use `save_freq` to specify the frequency in number of batches seen.\n"
     ]
    }
   ],
   "source": [
    "checkpoint = ModelCheckpoint(path_train, monitor='val_accuracy', verbose=1, save_best_only=True, save_weights_only=False, mode='auto',period=1)\n",
    "early = EarlyStopping(monitor='val_accuracy', min_delta=0, patience=20, verbose=1, mode='auto')"
   ]
  },
  {
   "cell_type": "code",
   "execution_count": 11,
   "metadata": {
    "colab": {
     "base_uri": "https://localhost:8080/",
     "height": 1000
    },
    "id": "e4BPPuSrOk88",
    "outputId": "499b756d-4d2a-4274-9462-f47ae108cf18"
   },
   "outputs": [
    {
     "name": "stdout",
     "output_type": "stream",
     "text": [
      "Epoch 1/200\n",
      "\n",
      "Epoch 00001: val_accuracy improved from -inf to 0.01710, saving model to gdrive/My Drive/Colab Notebooks/VGGNet16_SGD_NoRegularization_2.h5\n",
      "500/500 - 29s - loss: 4.6057 - accuracy: 0.0086 - val_loss: 4.6049 - val_accuracy: 0.0171\n",
      "Epoch 2/200\n",
      "\n",
      "Epoch 00002: val_accuracy did not improve from 0.01710\n",
      "500/500 - 27s - loss: 4.5915 - accuracy: 0.0130 - val_loss: 4.5208 - val_accuracy: 0.0155\n",
      "Epoch 3/200\n",
      "\n",
      "Epoch 00003: val_accuracy improved from 0.01710 to 0.03570, saving model to gdrive/My Drive/Colab Notebooks/VGGNet16_SGD_NoRegularization_2.h5\n",
      "500/500 - 30s - loss: 4.4325 - accuracy: 0.0227 - val_loss: 4.3009 - val_accuracy: 0.0357\n",
      "Epoch 4/200\n",
      "\n",
      "Epoch 00004: val_accuracy improved from 0.03570 to 0.05320, saving model to gdrive/My Drive/Colab Notebooks/VGGNet16_SGD_NoRegularization_2.h5\n",
      "500/500 - 29s - loss: 4.1958 - accuracy: 0.0409 - val_loss: 4.0489 - val_accuracy: 0.0532\n",
      "Epoch 5/200\n",
      "\n",
      "Epoch 00005: val_accuracy improved from 0.05320 to 0.07830, saving model to gdrive/My Drive/Colab Notebooks/VGGNet16_SGD_NoRegularization_2.h5\n",
      "500/500 - 29s - loss: 3.9675 - accuracy: 0.0658 - val_loss: 3.8815 - val_accuracy: 0.0783\n",
      "Epoch 6/200\n",
      "\n",
      "Epoch 00006: val_accuracy improved from 0.07830 to 0.10390, saving model to gdrive/My Drive/Colab Notebooks/VGGNet16_SGD_NoRegularization_2.h5\n",
      "500/500 - 30s - loss: 3.8030 - accuracy: 0.0893 - val_loss: 3.7082 - val_accuracy: 0.1039\n",
      "Epoch 7/200\n",
      "\n",
      "Epoch 00007: val_accuracy improved from 0.10390 to 0.13560, saving model to gdrive/My Drive/Colab Notebooks/VGGNet16_SGD_NoRegularization_2.h5\n",
      "500/500 - 29s - loss: 3.6266 - accuracy: 0.1155 - val_loss: 3.5219 - val_accuracy: 0.1356\n",
      "Epoch 8/200\n",
      "\n",
      "Epoch 00008: val_accuracy improved from 0.13560 to 0.16160, saving model to gdrive/My Drive/Colab Notebooks/VGGNet16_SGD_NoRegularization_2.h5\n",
      "500/500 - 30s - loss: 3.4483 - accuracy: 0.1458 - val_loss: 3.3993 - val_accuracy: 0.1616\n",
      "Epoch 9/200\n",
      "\n",
      "Epoch 00009: val_accuracy improved from 0.16160 to 0.18170, saving model to gdrive/My Drive/Colab Notebooks/VGGNet16_SGD_NoRegularization_2.h5\n",
      "500/500 - 30s - loss: 3.2501 - accuracy: 0.1809 - val_loss: 3.3249 - val_accuracy: 0.1817\n",
      "Epoch 10/200\n",
      "\n",
      "Epoch 00010: val_accuracy improved from 0.18170 to 0.26230, saving model to gdrive/My Drive/Colab Notebooks/VGGNet16_SGD_NoRegularization_2.h5\n",
      "500/500 - 30s - loss: 3.0275 - accuracy: 0.2245 - val_loss: 2.8541 - val_accuracy: 0.2623\n",
      "Epoch 11/200\n",
      "\n",
      "Epoch 00011: val_accuracy improved from 0.26230 to 0.29320, saving model to gdrive/My Drive/Colab Notebooks/VGGNet16_SGD_NoRegularization_2.h5\n",
      "500/500 - 30s - loss: 2.8022 - accuracy: 0.2702 - val_loss: 2.6848 - val_accuracy: 0.2932\n",
      "Epoch 12/200\n",
      "\n",
      "Epoch 00012: val_accuracy improved from 0.29320 to 0.30500, saving model to gdrive/My Drive/Colab Notebooks/VGGNet16_SGD_NoRegularization_2.h5\n",
      "500/500 - 30s - loss: 2.6088 - accuracy: 0.3106 - val_loss: 2.6516 - val_accuracy: 0.3050\n",
      "Epoch 13/200\n",
      "\n",
      "Epoch 00013: val_accuracy improved from 0.30500 to 0.34840, saving model to gdrive/My Drive/Colab Notebooks/VGGNet16_SGD_NoRegularization_2.h5\n",
      "500/500 - 30s - loss: 2.4397 - accuracy: 0.3490 - val_loss: 2.4236 - val_accuracy: 0.3484\n",
      "Epoch 14/200\n",
      "\n",
      "Epoch 00014: val_accuracy improved from 0.34840 to 0.37670, saving model to gdrive/My Drive/Colab Notebooks/VGGNet16_SGD_NoRegularization_2.h5\n",
      "500/500 - 29s - loss: 2.2883 - accuracy: 0.3825 - val_loss: 2.3485 - val_accuracy: 0.3767\n",
      "Epoch 15/200\n",
      "\n",
      "Epoch 00015: val_accuracy improved from 0.37670 to 0.41670, saving model to gdrive/My Drive/Colab Notebooks/VGGNet16_SGD_NoRegularization_2.h5\n",
      "500/500 - 30s - loss: 2.1628 - accuracy: 0.4116 - val_loss: 2.1672 - val_accuracy: 0.4167\n",
      "Epoch 16/200\n",
      "\n",
      "Epoch 00016: val_accuracy improved from 0.41670 to 0.43330, saving model to gdrive/My Drive/Colab Notebooks/VGGNet16_SGD_NoRegularization_2.h5\n",
      "500/500 - 30s - loss: 2.0500 - accuracy: 0.4397 - val_loss: 2.1276 - val_accuracy: 0.4333\n",
      "Epoch 17/200\n",
      "\n",
      "Epoch 00017: val_accuracy improved from 0.43330 to 0.45830, saving model to gdrive/My Drive/Colab Notebooks/VGGNet16_SGD_NoRegularization_2.h5\n",
      "500/500 - 30s - loss: 1.9469 - accuracy: 0.4657 - val_loss: 1.9948 - val_accuracy: 0.4583\n",
      "Epoch 18/200\n",
      "\n",
      "Epoch 00018: val_accuracy improved from 0.45830 to 0.46520, saving model to gdrive/My Drive/Colab Notebooks/VGGNet16_SGD_NoRegularization_2.h5\n",
      "500/500 - 29s - loss: 1.8478 - accuracy: 0.4895 - val_loss: 2.0304 - val_accuracy: 0.4652\n",
      "Epoch 19/200\n",
      "\n",
      "Epoch 00019: val_accuracy improved from 0.46520 to 0.47280, saving model to gdrive/My Drive/Colab Notebooks/VGGNet16_SGD_NoRegularization_2.h5\n",
      "500/500 - 30s - loss: 1.7648 - accuracy: 0.5113 - val_loss: 2.0111 - val_accuracy: 0.4728\n",
      "Epoch 20/200\n",
      "\n",
      "Epoch 00020: val_accuracy improved from 0.47280 to 0.47860, saving model to gdrive/My Drive/Colab Notebooks/VGGNet16_SGD_NoRegularization_2.h5\n",
      "500/500 - 31s - loss: 1.6790 - accuracy: 0.5336 - val_loss: 2.0415 - val_accuracy: 0.4786\n",
      "Epoch 21/200\n",
      "\n",
      "Epoch 00021: val_accuracy improved from 0.47860 to 0.49660, saving model to gdrive/My Drive/Colab Notebooks/VGGNet16_SGD_NoRegularization_2.h5\n",
      "500/500 - 30s - loss: 1.6136 - accuracy: 0.5478 - val_loss: 1.9605 - val_accuracy: 0.4966\n",
      "Epoch 22/200\n",
      "\n",
      "Epoch 00022: val_accuracy improved from 0.49660 to 0.52790, saving model to gdrive/My Drive/Colab Notebooks/VGGNet16_SGD_NoRegularization_2.h5\n",
      "500/500 - 29s - loss: 1.5468 - accuracy: 0.5659 - val_loss: 1.7830 - val_accuracy: 0.5279\n",
      "Epoch 23/200\n",
      "\n",
      "Epoch 00023: val_accuracy did not improve from 0.52790\n",
      "500/500 - 28s - loss: 1.4844 - accuracy: 0.5821 - val_loss: 1.9446 - val_accuracy: 0.5076\n",
      "Epoch 24/200\n",
      "\n",
      "Epoch 00024: val_accuracy did not improve from 0.52790\n",
      "500/500 - 27s - loss: 1.4287 - accuracy: 0.5935 - val_loss: 1.9569 - val_accuracy: 0.4957\n",
      "Epoch 25/200\n",
      "\n",
      "Epoch 00025: val_accuracy improved from 0.52790 to 0.54180, saving model to gdrive/My Drive/Colab Notebooks/VGGNet16_SGD_NoRegularization_2.h5\n",
      "500/500 - 29s - loss: 1.3682 - accuracy: 0.6104 - val_loss: 1.7490 - val_accuracy: 0.5418\n",
      "Epoch 26/200\n",
      "\n",
      "Epoch 00026: val_accuracy improved from 0.54180 to 0.54880, saving model to gdrive/My Drive/Colab Notebooks/VGGNet16_SGD_NoRegularization_2.h5\n",
      "500/500 - 30s - loss: 1.3317 - accuracy: 0.6228 - val_loss: 1.6924 - val_accuracy: 0.5488\n",
      "Epoch 27/200\n",
      "\n",
      "Epoch 00027: val_accuracy did not improve from 0.54880\n",
      "500/500 - 28s - loss: 1.2818 - accuracy: 0.6358 - val_loss: 1.8395 - val_accuracy: 0.5386\n",
      "Epoch 28/200\n",
      "\n",
      "Epoch 00028: val_accuracy did not improve from 0.54880\n",
      "500/500 - 27s - loss: 1.2355 - accuracy: 0.6456 - val_loss: 1.7457 - val_accuracy: 0.5486\n",
      "Epoch 29/200\n",
      "\n",
      "Epoch 00029: val_accuracy improved from 0.54880 to 0.55960, saving model to gdrive/My Drive/Colab Notebooks/VGGNet16_SGD_NoRegularization_2.h5\n",
      "500/500 - 29s - loss: 1.1878 - accuracy: 0.6589 - val_loss: 1.7678 - val_accuracy: 0.5596\n",
      "Epoch 30/200\n",
      "\n",
      "Epoch 00030: val_accuracy improved from 0.55960 to 0.56480, saving model to gdrive/My Drive/Colab Notebooks/VGGNet16_SGD_NoRegularization_2.h5\n",
      "500/500 - 29s - loss: 1.1534 - accuracy: 0.6684 - val_loss: 1.7739 - val_accuracy: 0.5648\n",
      "Epoch 31/200\n",
      "\n",
      "Epoch 00031: val_accuracy did not improve from 0.56480\n",
      "500/500 - 27s - loss: 1.1145 - accuracy: 0.6770 - val_loss: 1.8090 - val_accuracy: 0.5611\n",
      "Epoch 32/200\n",
      "\n",
      "Epoch 00032: val_accuracy did not improve from 0.56480\n",
      "500/500 - 27s - loss: 1.0839 - accuracy: 0.6867 - val_loss: 1.7795 - val_accuracy: 0.5616\n",
      "Epoch 33/200\n",
      "\n",
      "Epoch 00033: val_accuracy did not improve from 0.56480\n",
      "500/500 - 27s - loss: 1.0443 - accuracy: 0.6975 - val_loss: 1.9122 - val_accuracy: 0.5529\n",
      "Epoch 34/200\n",
      "\n",
      "Epoch 00034: val_accuracy did not improve from 0.56480\n",
      "500/500 - 28s - loss: 1.0180 - accuracy: 0.7041 - val_loss: 1.8396 - val_accuracy: 0.5538\n",
      "Epoch 35/200\n",
      "\n",
      "Epoch 00035: val_accuracy improved from 0.56480 to 0.58540, saving model to gdrive/My Drive/Colab Notebooks/VGGNet16_SGD_NoRegularization_2.h5\n",
      "500/500 - 29s - loss: 0.9914 - accuracy: 0.7112 - val_loss: 1.6866 - val_accuracy: 0.5854\n",
      "Epoch 36/200\n",
      "\n",
      "Epoch 00036: val_accuracy did not improve from 0.58540\n",
      "500/500 - 27s - loss: 0.9600 - accuracy: 0.7181 - val_loss: 1.7589 - val_accuracy: 0.5786\n",
      "Epoch 37/200\n",
      "\n",
      "Epoch 00037: val_accuracy did not improve from 0.58540\n",
      "500/500 - 27s - loss: 0.9220 - accuracy: 0.7278 - val_loss: 1.7118 - val_accuracy: 0.5816\n",
      "Epoch 38/200\n",
      "\n",
      "Epoch 00038: val_accuracy did not improve from 0.58540\n",
      "500/500 - 27s - loss: 0.8941 - accuracy: 0.7365 - val_loss: 1.8031 - val_accuracy: 0.5815\n",
      "Epoch 39/200\n",
      "\n",
      "Epoch 00039: val_accuracy improved from 0.58540 to 0.58570, saving model to gdrive/My Drive/Colab Notebooks/VGGNet16_SGD_NoRegularization_2.h5\n",
      "500/500 - 28s - loss: 0.8834 - accuracy: 0.7406 - val_loss: 1.7484 - val_accuracy: 0.5857\n",
      "Epoch 40/200\n",
      "\n",
      "Epoch 00040: val_accuracy did not improve from 0.58570\n",
      "500/500 - 27s - loss: 0.8477 - accuracy: 0.7498 - val_loss: 1.8503 - val_accuracy: 0.5733\n",
      "Epoch 41/200\n",
      "\n",
      "Epoch 00041: val_accuracy did not improve from 0.58570\n",
      "500/500 - 27s - loss: 0.8268 - accuracy: 0.7566 - val_loss: 1.7583 - val_accuracy: 0.5765\n",
      "Epoch 42/200\n",
      "\n",
      "Epoch 00042: val_accuracy improved from 0.58570 to 0.58620, saving model to gdrive/My Drive/Colab Notebooks/VGGNet16_SGD_NoRegularization_2.h5\n",
      "500/500 - 28s - loss: 0.8030 - accuracy: 0.7625 - val_loss: 1.7951 - val_accuracy: 0.5862\n",
      "Epoch 43/200\n",
      "\n",
      "Epoch 00043: val_accuracy improved from 0.58620 to 0.58650, saving model to gdrive/My Drive/Colab Notebooks/VGGNet16_SGD_NoRegularization_2.h5\n",
      "500/500 - 29s - loss: 0.7761 - accuracy: 0.7702 - val_loss: 1.7520 - val_accuracy: 0.5865\n",
      "Epoch 44/200\n",
      "\n",
      "Epoch 00044: val_accuracy did not improve from 0.58650\n",
      "500/500 - 27s - loss: 0.7556 - accuracy: 0.7759 - val_loss: 1.7946 - val_accuracy: 0.5845\n",
      "Epoch 45/200\n",
      "\n",
      "Epoch 00045: val_accuracy improved from 0.58650 to 0.59140, saving model to gdrive/My Drive/Colab Notebooks/VGGNet16_SGD_NoRegularization_2.h5\n",
      "500/500 - 28s - loss: 0.7439 - accuracy: 0.7791 - val_loss: 1.7202 - val_accuracy: 0.5914\n",
      "Epoch 46/200\n",
      "\n",
      "Epoch 00046: val_accuracy improved from 0.59140 to 0.59610, saving model to gdrive/My Drive/Colab Notebooks/VGGNet16_SGD_NoRegularization_2.h5\n",
      "500/500 - 29s - loss: 0.7209 - accuracy: 0.7852 - val_loss: 1.8409 - val_accuracy: 0.5961\n",
      "Epoch 47/200\n",
      "\n",
      "Epoch 00047: val_accuracy did not improve from 0.59610\n",
      "500/500 - 27s - loss: 0.6869 - accuracy: 0.7917 - val_loss: 1.8012 - val_accuracy: 0.5928\n",
      "Epoch 48/200\n",
      "\n",
      "Epoch 00048: val_accuracy did not improve from 0.59610\n",
      "500/500 - 26s - loss: 0.6818 - accuracy: 0.7949 - val_loss: 1.8196 - val_accuracy: 0.5920\n",
      "Epoch 49/200\n",
      "\n",
      "Epoch 00049: val_accuracy did not improve from 0.59610\n",
      "500/500 - 26s - loss: 0.6593 - accuracy: 0.8029 - val_loss: 1.9935 - val_accuracy: 0.5797\n",
      "Epoch 50/200\n",
      "\n",
      "Epoch 00050: val_accuracy did not improve from 0.59610\n",
      "500/500 - 27s - loss: 0.6449 - accuracy: 0.8076 - val_loss: 1.8425 - val_accuracy: 0.5947\n",
      "Epoch 51/200\n",
      "\n",
      "Epoch 00051: val_accuracy did not improve from 0.59610\n",
      "500/500 - 26s - loss: 0.6287 - accuracy: 0.8082 - val_loss: 1.8882 - val_accuracy: 0.5867\n",
      "Epoch 52/200\n",
      "\n",
      "Epoch 00052: val_accuracy did not improve from 0.59610\n",
      "500/500 - 26s - loss: 0.6132 - accuracy: 0.8166 - val_loss: 1.8388 - val_accuracy: 0.5958\n",
      "Epoch 53/200\n",
      "\n",
      "Epoch 00053: val_accuracy did not improve from 0.59610\n",
      "500/500 - 27s - loss: 0.5946 - accuracy: 0.8193 - val_loss: 1.8386 - val_accuracy: 0.5938\n",
      "Epoch 54/200\n",
      "\n",
      "Epoch 00054: val_accuracy improved from 0.59610 to 0.60450, saving model to gdrive/My Drive/Colab Notebooks/VGGNet16_SGD_NoRegularization_2.h5\n",
      "500/500 - 28s - loss: 0.5835 - accuracy: 0.8262 - val_loss: 1.8398 - val_accuracy: 0.6045\n",
      "Epoch 55/200\n",
      "\n",
      "Epoch 00055: val_accuracy did not improve from 0.60450\n",
      "500/500 - 27s - loss: 0.5650 - accuracy: 0.8289 - val_loss: 1.9126 - val_accuracy: 0.5993\n",
      "Epoch 56/200\n",
      "\n",
      "Epoch 00056: val_accuracy improved from 0.60450 to 0.60860, saving model to gdrive/My Drive/Colab Notebooks/VGGNet16_SGD_NoRegularization_2.h5\n",
      "500/500 - 28s - loss: 0.5529 - accuracy: 0.8341 - val_loss: 1.8168 - val_accuracy: 0.6086\n",
      "Epoch 57/200\n",
      "\n",
      "Epoch 00057: val_accuracy did not improve from 0.60860\n",
      "500/500 - 27s - loss: 0.5434 - accuracy: 0.8351 - val_loss: 1.8829 - val_accuracy: 0.5921\n",
      "Epoch 58/200\n",
      "\n",
      "Epoch 00058: val_accuracy did not improve from 0.60860\n",
      "500/500 - 27s - loss: 0.5422 - accuracy: 0.8378 - val_loss: 1.9323 - val_accuracy: 0.6035\n",
      "Epoch 59/200\n",
      "\n",
      "Epoch 00059: val_accuracy did not improve from 0.60860\n",
      "500/500 - 27s - loss: 0.5279 - accuracy: 0.8432 - val_loss: 1.9611 - val_accuracy: 0.5921\n",
      "Epoch 60/200\n",
      "\n",
      "Epoch 00060: val_accuracy did not improve from 0.60860\n",
      "500/500 - 27s - loss: 0.5167 - accuracy: 0.8437 - val_loss: 1.9734 - val_accuracy: 0.6043\n",
      "Epoch 61/200\n",
      "\n",
      "Epoch 00061: val_accuracy did not improve from 0.60860\n",
      "500/500 - 27s - loss: 0.4960 - accuracy: 0.8505 - val_loss: 2.0149 - val_accuracy: 0.5959\n",
      "Epoch 62/200\n",
      "\n",
      "Epoch 00062: val_accuracy did not improve from 0.60860\n",
      "500/500 - 27s - loss: 0.4910 - accuracy: 0.8506 - val_loss: 1.9642 - val_accuracy: 0.6006\n",
      "Epoch 63/200\n",
      "\n",
      "Epoch 00063: val_accuracy did not improve from 0.60860\n",
      "500/500 - 27s - loss: 0.4768 - accuracy: 0.8555 - val_loss: 1.9902 - val_accuracy: 0.6071\n",
      "Epoch 64/200\n",
      "\n",
      "Epoch 00064: val_accuracy improved from 0.60860 to 0.60880, saving model to gdrive/My Drive/Colab Notebooks/VGGNet16_SGD_NoRegularization_2.h5\n",
      "500/500 - 28s - loss: 0.4717 - accuracy: 0.8580 - val_loss: 1.9730 - val_accuracy: 0.6088\n",
      "Epoch 65/200\n",
      "\n",
      "Epoch 00065: val_accuracy improved from 0.60880 to 0.60960, saving model to gdrive/My Drive/Colab Notebooks/VGGNet16_SGD_NoRegularization_2.h5\n",
      "500/500 - 29s - loss: 0.4470 - accuracy: 0.8643 - val_loss: 1.9543 - val_accuracy: 0.6096\n",
      "Epoch 66/200\n",
      "\n",
      "Epoch 00066: val_accuracy did not improve from 0.60960\n",
      "500/500 - 27s - loss: 0.4339 - accuracy: 0.8687 - val_loss: 1.9425 - val_accuracy: 0.5993\n",
      "Epoch 67/200\n",
      "\n",
      "Epoch 00067: val_accuracy improved from 0.60960 to 0.61810, saving model to gdrive/My Drive/Colab Notebooks/VGGNet16_SGD_NoRegularization_2.h5\n",
      "500/500 - 28s - loss: 0.4347 - accuracy: 0.8686 - val_loss: 1.9462 - val_accuracy: 0.6181\n",
      "Epoch 68/200\n",
      "\n",
      "Epoch 00068: val_accuracy did not improve from 0.61810\n",
      "500/500 - 27s - loss: 0.4256 - accuracy: 0.8724 - val_loss: 2.0723 - val_accuracy: 0.6007\n",
      "Epoch 69/200\n",
      "\n",
      "Epoch 00069: val_accuracy did not improve from 0.61810\n",
      "500/500 - 27s - loss: 0.4157 - accuracy: 0.8746 - val_loss: 1.9097 - val_accuracy: 0.6041\n",
      "Epoch 70/200\n",
      "\n",
      "Epoch 00070: val_accuracy did not improve from 0.61810\n",
      "500/500 - 26s - loss: 0.4104 - accuracy: 0.8770 - val_loss: 2.0410 - val_accuracy: 0.5974\n",
      "Epoch 71/200\n",
      "\n",
      "Epoch 00071: val_accuracy did not improve from 0.61810\n",
      "500/500 - 27s - loss: 0.3937 - accuracy: 0.8799 - val_loss: 2.0321 - val_accuracy: 0.6093\n",
      "Epoch 72/200\n",
      "\n",
      "Epoch 00072: val_accuracy did not improve from 0.61810\n",
      "500/500 - 26s - loss: 0.3902 - accuracy: 0.8814 - val_loss: 2.0823 - val_accuracy: 0.6007\n",
      "Epoch 73/200\n",
      "\n",
      "Epoch 00073: val_accuracy did not improve from 0.61810\n",
      "500/500 - 26s - loss: 0.3850 - accuracy: 0.8856 - val_loss: 2.0126 - val_accuracy: 0.6123\n",
      "Epoch 74/200\n",
      "\n",
      "Epoch 00074: val_accuracy did not improve from 0.61810\n",
      "500/500 - 27s - loss: 0.3755 - accuracy: 0.8854 - val_loss: 2.1425 - val_accuracy: 0.5916\n",
      "Epoch 75/200\n",
      "\n",
      "Epoch 00075: val_accuracy did not improve from 0.61810\n",
      "500/500 - 26s - loss: 0.3742 - accuracy: 0.8885 - val_loss: 1.9320 - val_accuracy: 0.6053\n",
      "Epoch 76/200\n",
      "\n",
      "Epoch 00076: val_accuracy did not improve from 0.61810\n",
      "500/500 - 26s - loss: 0.3541 - accuracy: 0.8931 - val_loss: 2.0773 - val_accuracy: 0.6047\n",
      "Epoch 77/200\n",
      "\n",
      "Epoch 00077: val_accuracy did not improve from 0.61810\n",
      "500/500 - 26s - loss: 0.3514 - accuracy: 0.8942 - val_loss: 2.2118 - val_accuracy: 0.5988\n",
      "Epoch 78/200\n",
      "\n",
      "Epoch 00078: val_accuracy did not improve from 0.61810\n",
      "500/500 - 26s - loss: 0.3483 - accuracy: 0.8962 - val_loss: 2.2332 - val_accuracy: 0.5881\n",
      "Epoch 79/200\n",
      "\n",
      "Epoch 00079: val_accuracy did not improve from 0.61810\n",
      "500/500 - 26s - loss: 0.3504 - accuracy: 0.8942 - val_loss: 2.1183 - val_accuracy: 0.6024\n",
      "Epoch 80/200\n",
      "\n",
      "Epoch 00080: val_accuracy did not improve from 0.61810\n",
      "500/500 - 27s - loss: 0.3330 - accuracy: 0.8994 - val_loss: 2.0586 - val_accuracy: 0.6053\n",
      "Epoch 81/200\n",
      "\n",
      "Epoch 00081: val_accuracy did not improve from 0.61810\n",
      "500/500 - 27s - loss: 0.3410 - accuracy: 0.8982 - val_loss: 2.0561 - val_accuracy: 0.5958\n",
      "Epoch 82/200\n",
      "\n",
      "Epoch 00082: val_accuracy did not improve from 0.61810\n",
      "500/500 - 27s - loss: 0.3213 - accuracy: 0.9049 - val_loss: 2.3484 - val_accuracy: 0.5982\n",
      "Epoch 83/200\n",
      "\n",
      "Epoch 00083: val_accuracy did not improve from 0.61810\n",
      "500/500 - 27s - loss: 0.3250 - accuracy: 0.9022 - val_loss: 2.0418 - val_accuracy: 0.6155\n",
      "Epoch 84/200\n",
      "\n",
      "Epoch 00084: val_accuracy did not improve from 0.61810\n",
      "500/500 - 27s - loss: 0.3159 - accuracy: 0.9049 - val_loss: 2.1678 - val_accuracy: 0.6117\n",
      "Epoch 85/200\n",
      "\n",
      "Epoch 00085: val_accuracy did not improve from 0.61810\n",
      "500/500 - 27s - loss: 0.3101 - accuracy: 0.9052 - val_loss: 2.0864 - val_accuracy: 0.6068\n",
      "Epoch 86/200\n",
      "\n",
      "Epoch 00086: val_accuracy did not improve from 0.61810\n",
      "500/500 - 27s - loss: 0.3024 - accuracy: 0.9101 - val_loss: 2.3430 - val_accuracy: 0.5986\n",
      "Epoch 87/200\n",
      "\n",
      "Epoch 00087: val_accuracy did not improve from 0.61810\n",
      "500/500 - 27s - loss: 0.2954 - accuracy: 0.9133 - val_loss: 2.3060 - val_accuracy: 0.6052\n",
      "Epoch 00087: early stopping\n"
     ]
    }
   ],
   "source": [
    "history = model.fit(datagen.flow(x_train_norm, y_train_norm,\n",
    "                                        batch_size=batch_size),\n",
    "                        steps_per_epoch=x_train_norm.shape[0]// batch_size,\n",
    "                        epochs=epochs,\n",
    "                        validation_data=(x_test_norm,y_test_norm),\n",
    "                        callbacks=[checkpoint, early],verbose=2)"
   ]
  },
  {
   "cell_type": "markdown",
   "metadata": {
    "id": "XzEL_sz-TYDW"
   },
   "source": [
    "*Plotting training accuracy and loss*"
   ]
  },
  {
   "cell_type": "code",
   "execution_count": 12,
   "metadata": {
    "colab": {
     "base_uri": "https://localhost:8080/",
     "height": 421
    },
    "id": "g0yDUQWUTY9U",
    "outputId": "190a626b-8c4e-4af4-a155-0f7dd8c6002d"
   },
   "outputs": [
    {
     "data": {
      "text/plain": [
       "<matplotlib.legend.Legend at 0x7f30a2627ba8>"
      ]
     },
     "execution_count": 12,
     "metadata": {
      "tags": []
     },
     "output_type": "execute_result"
    },
    {
     "data": {
      "image/png": "[encoded data removed]",
      "text/plain": [
       "<Figure size 1440x432 with 2 Axes>"
      ]
     },
     "metadata": {
      "needs_background": "light",
      "tags": []
     },
     "output_type": "display_data"
    }
   ],
   "source": [
    "fig, axs = plt.subplots(1, 2, figsize=(20, 6))\n",
    "axs[0].plot(history.history['accuracy'])\n",
    "axs[0].plot(history.history['val_accuracy'])\n",
    "axs[0].set_title('Model Accuracy')\n",
    "axs[0].set(ylabel ='accuracy')\n",
    "axs[0].set(xlabel ='epoch')\n",
    "axs[0].legend(['train', 'test'], loc='upper left')\n",
    "\n",
    "axs[1].plot(history.history['loss'])\n",
    "axs[1].plot(history.history['val_loss'])\n",
    "axs[1].set_title('Model Loss')\n",
    "axs[1].set(ylabel='loss')\n",
    "axs[1].set(xlabel='epoch')\n",
    "axs[1].legend(['train', 'test'], loc='upper left')"
   ]
  },
  {
   "cell_type": "markdown",
   "metadata": {
    "id": "8PuV6pMkMzjL"
   },
   "source": [
    "**Prediction**"
   ]
  },
  {
   "cell_type": "code",
   "execution_count": 10,
   "metadata": {
    "id": "sB19ilBkJ2r7"
   },
   "outputs": [],
   "source": [
    "model.load_weights(path_best)\n",
    "y_pred = np.argmax(model.predict(x_test_norm), axis=-1)"
   ]
  },
  {
   "cell_type": "code",
   "execution_count": 11,
   "metadata": {
    "colab": {
     "base_uri": "https://localhost:8080/",
     "height": 67
    },
    "id": "UCezeULNAXiC",
    "outputId": "d30a083f-208b-4725-ed80-e9ae6af033f0"
   },
   "outputs": [
    {
     "name": "stdout",
     "output_type": "stream",
     "text": [
      "Precision:  0.515964078815923\n",
      "Recall:  0.4674\n",
      "Accuracy:  0.4674\n"
     ]
    }
   ],
   "source": [
    "precision = precision_score(y_test, y_pred, average='weighted')\n",
    "print(\"Precision: \", precision)\n",
    "recall = recall_score(y_test, y_pred, average='weighted')\n",
    "print(\"Recall: \", recall)\n",
    "accuracy = accuracy_score(y_test, y_pred)\n",
    "print(\"Accuracy: \", accuracy)"
   ]
  }
 ],
 "metadata": {
  "accelerator": "GPU",
  "colab": {
   "collapsed_sections": [],
   "name": "VGGNet16_SGD_NoRegularization.ipynb",
   "provenance": []
  },
  "kernelspec": {
   "display_name": "Python 3",
   "language": "python",
   "name": "python3"
  },
  "language_info": {
   "codemirror_mode": {
    "name": "ipython",
    "version": 3
   },
   "file_extension": ".py",
   "mimetype": "text/x-python",
   "name": "python",
   "nbconvert_exporter": "python",
   "pygments_lexer": "ipython3",
   "version": "3.7.6"
  }
 },
 "nbformat": 4,
 "nbformat_minor": 1
}
