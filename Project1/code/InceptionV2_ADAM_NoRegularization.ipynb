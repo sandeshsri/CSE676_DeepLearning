{
 "cells": [
  {
   "cell_type": "code",
   "execution_count": 27,
   "metadata": {
    "id": "Q2Kfxt726PWs"
   },
   "outputs": [],
   "source": [
    "import numpy as np\n",
    "from keras.models import Sequential\n",
    "from keras.datasets import cifar100\n",
    "from keras.utils import to_categorical\n",
    "from keras.models import Sequential, Model\n",
    "from keras.layers import Conv2D, MaxPool2D, Flatten, Dense, Activation, Input, \\\n",
    "                    concatenate, GlobalAveragePooling2D\n",
    "from keras.optimizers import Adam\n",
    "import keras\n",
    "from keras.preprocessing.image import ImageDataGenerator\n",
    "from keras.callbacks import ModelCheckpoint, EarlyStopping\n",
    "from sklearn.metrics import accuracy_score, precision_score, recall_score\n",
    "import matplotlib.pyplot as plt"
   ]
  },
  {
   "cell_type": "code",
   "execution_count": 29,
   "metadata": {
    "colab": {
     "base_uri": "https://localhost:8080/",
     "height": 34
    },
    "id": "NYkVYnY67czA",
    "outputId": "df006ccf-0f7d-43f5-ccce-63fbd05ae76d"
   },
   "outputs": [
    {
     "name": "stdout",
     "output_type": "stream",
     "text": [
      "Mounted at /content/gdrive\n"
     ]
    }
   ],
   "source": [
    "from google.colab import drive\n",
    "drive.mount('/content/gdrive', force_remount=True)"
   ]
  },
  {
   "cell_type": "code",
   "execution_count": 31,
   "metadata": {
    "id": "FBL2Ka-5TLO9"
   },
   "outputs": [],
   "source": [
    "NUMBER_OF_CLASSES = 100\n",
    "epochs = 200\n",
    "batch_size = 100\n",
    "path_best = \"gdrive/My Drive/Colab Notebooks/InceptionV2_ADAM_NoRegularization.h5\"\n",
    "# path_best = \"../weights/InceptionV2_ADAM_NoRegularization.h5\"\n",
    "path_train = \"gdrive/My Drive/Colab Notebooks/InceptionV2_ADAM_NoRegularization_2.h5\" "
   ]
  },
  {
   "cell_type": "code",
   "execution_count": 32,
   "metadata": {
    "id": "6OSeM4U57me7"
   },
   "outputs": [],
   "source": [
    "(x_train,y_train), (x_test, y_test) = cifar100.load_data()\n",
    "\n",
    "y_train_norm = to_categorical(y_train, NUMBER_OF_CLASSES)\n",
    "y_test_norm = to_categorical(y_test, NUMBER_OF_CLASSES)\n",
    "\n",
    "y_test = y_test.flatten()\n",
    "\n",
    "x_train = x_train.astype('float32')/255\n",
    "x_test = x_test.astype('float32')/255\n",
    "\n",
    "mean = np.mean(x_train, axis=(0,1,2,3))\n",
    "std = np.std(x_train, axis=(0,1,2,3))\n",
    "\n",
    "x_train_norm = (x_train-mean)/(std+1e-7)\n",
    "x_test_norm = (x_test-mean)/(std+1e-7)"
   ]
  },
  {
   "cell_type": "code",
   "execution_count": 33,
   "metadata": {
    "id": "c4qLM5pPTVFS"
   },
   "outputs": [],
   "source": [
    "datagen = ImageDataGenerator(\n",
    "    featurewise_center=False,\n",
    "    samplewise_center=False,\n",
    "    featurewise_std_normalization=False,\n",
    "    samplewise_std_normalization=False,\n",
    "    zca_whitening=False,\n",
    "    zca_epsilon=1e-06,\n",
    "    rotation_range=10,\n",
    "    width_shift_range=0.1,\n",
    "    height_shift_range=0.1,\n",
    "    horizontal_flip=True,\n",
    "    vertical_flip=False)\n",
    "\n",
    "datagen.fit(x_train_norm)"
   ]
  },
  {
   "cell_type": "code",
   "execution_count": 34,
   "metadata": {
    "id": "dJDp2WPkZCIU"
   },
   "outputs": [],
   "source": [
    "def inceptionBuilder(l, f_1x1, f_3x3_r, f_3x3, f_5x5_r, f_5x5, f_p):\n",
    "    l_1 = Conv2D(filters=f_1x1, kernel_size=(1,1), padding='same', activation='relu')(l)\n",
    "\n",
    "    l_3 = Conv2D(filters=f_3x3_r, kernel_size=(1,1), padding='same', activation='relu')(l)\n",
    "    l_3 = Conv2D(filters=f_3x3, kernel_size=(3,3), padding='same', activation='relu')(l_3)\n",
    "\n",
    "    l_5 = Conv2D(filters=f_5x5_r, kernel_size=(1,1), padding='same', activation='relu')(l)\n",
    "    l_5 = Conv2D(filters=f_5x5, kernel_size=(5,5), padding='same', activation='relu')(l_5)\n",
    "\n",
    "    l_p = MaxPool2D(pool_size=(3,3), strides=(1,1), padding='same')(l)\n",
    "    l_p = Conv2D(filters=f_p, kernel_size=(1,1), padding='same', activation='relu')(l_p)\n",
    "\n",
    "    ret = concatenate([l_1, l_3, l_5, l_p], axis=3)\n",
    "\n",
    "    return ret"
   ]
  },
  {
   "cell_type": "code",
   "execution_count": 35,
   "metadata": {
    "id": "RjzYt9u77sTy"
   },
   "outputs": [],
   "source": [
    "def create_InceptionV2Model():\n",
    "    input = Input(shape=(32,32,3))\n",
    "    l = Conv2D(filters=64, kernel_size=(7,7), padding=\"same\")(input)\n",
    "    l = Activation('relu')(l)\n",
    "    \n",
    "    l = MaxPool2D(pool_size=(3,3), padding='same', strides=(2,2))(l)\n",
    "    l = Conv2D(filters=64, kernel_size=(1,1), activation='relu')(l)\n",
    "    l = Conv2D(filters=192, kernel_size=(3,3), activation='relu')(l)\n",
    "    l = MaxPool2D(pool_size=(3,3), padding='same', strides=(2,2))(l)\n",
    "\n",
    "    l = inceptionBuilder(l, 64, 96, 128, 16, 32, 32)\n",
    "    l = inceptionBuilder(l, 128, 128, 192, 32, 96, 64)\n",
    "\n",
    "    l = MaxPool2D(pool_size=(3,3,), strides=(2,2), padding='same')(l)\n",
    "\n",
    "    l = inceptionBuilder(l, 192, 96, 208, 16, 48, 64)\n",
    "\n",
    "    l = GlobalAveragePooling2D()(l)\n",
    "    l = Dense(NUMBER_OF_CLASSES, activation='softmax')(l)\n",
    "\n",
    "    model = Model(inputs = input, outputs = l)\n",
    "    return model"
   ]
  },
  {
   "cell_type": "code",
   "execution_count": 44,
   "metadata": {
    "colab": {
     "base_uri": "https://localhost:8080/",
     "height": 1000
    },
    "id": "Ls-Tb4zL8nrn",
    "outputId": "cebf8a81-b9d9-4f85-8d6a-8c878e2ae2f0"
   },
   "outputs": [
    {
     "name": "stdout",
     "output_type": "stream",
     "text": [
      "Model: \"functional_7\"\n",
      "__________________________________________________________________________________________________\n",
      "Layer (type)                    Output Shape         Param #     Connected to                     \n",
      "==================================================================================================\n",
      "input_4 (InputLayer)            [(None, 32, 32, 3)]  0                                            \n",
      "__________________________________________________________________________________________________\n",
      "conv2d_63 (Conv2D)              (None, 32, 32, 64)   9472        input_4[0][0]                    \n",
      "__________________________________________________________________________________________________\n",
      "activation_3 (Activation)       (None, 32, 32, 64)   0           conv2d_63[0][0]                  \n",
      "__________________________________________________________________________________________________\n",
      "max_pooling2d_18 (MaxPooling2D) (None, 16, 16, 64)   0           activation_3[0][0]               \n",
      "__________________________________________________________________________________________________\n",
      "conv2d_64 (Conv2D)              (None, 16, 16, 64)   4160        max_pooling2d_18[0][0]           \n",
      "__________________________________________________________________________________________________\n",
      "conv2d_65 (Conv2D)              (None, 14, 14, 192)  110784      conv2d_64[0][0]                  \n",
      "__________________________________________________________________________________________________\n",
      "max_pooling2d_19 (MaxPooling2D) (None, 7, 7, 192)    0           conv2d_65[0][0]                  \n",
      "__________________________________________________________________________________________________\n",
      "conv2d_67 (Conv2D)              (None, 7, 7, 96)     18528       max_pooling2d_19[0][0]           \n",
      "__________________________________________________________________________________________________\n",
      "conv2d_69 (Conv2D)              (None, 7, 7, 16)     3088        max_pooling2d_19[0][0]           \n",
      "__________________________________________________________________________________________________\n",
      "max_pooling2d_20 (MaxPooling2D) (None, 7, 7, 192)    0           max_pooling2d_19[0][0]           \n",
      "__________________________________________________________________________________________________\n",
      "conv2d_66 (Conv2D)              (None, 7, 7, 64)     12352       max_pooling2d_19[0][0]           \n",
      "__________________________________________________________________________________________________\n",
      "conv2d_68 (Conv2D)              (None, 7, 7, 128)    110720      conv2d_67[0][0]                  \n",
      "__________________________________________________________________________________________________\n",
      "conv2d_70 (Conv2D)              (None, 7, 7, 32)     12832       conv2d_69[0][0]                  \n",
      "__________________________________________________________________________________________________\n",
      "conv2d_71 (Conv2D)              (None, 7, 7, 32)     6176        max_pooling2d_20[0][0]           \n",
      "__________________________________________________________________________________________________\n",
      "concatenate_9 (Concatenate)     (None, 7, 7, 256)    0           conv2d_66[0][0]                  \n",
      "                                                                 conv2d_68[0][0]                  \n",
      "                                                                 conv2d_70[0][0]                  \n",
      "                                                                 conv2d_71[0][0]                  \n",
      "__________________________________________________________________________________________________\n",
      "conv2d_73 (Conv2D)              (None, 7, 7, 128)    32896       concatenate_9[0][0]              \n",
      "__________________________________________________________________________________________________\n",
      "conv2d_75 (Conv2D)              (None, 7, 7, 32)     8224        concatenate_9[0][0]              \n",
      "__________________________________________________________________________________________________\n",
      "max_pooling2d_21 (MaxPooling2D) (None, 7, 7, 256)    0           concatenate_9[0][0]              \n",
      "__________________________________________________________________________________________________\n",
      "conv2d_72 (Conv2D)              (None, 7, 7, 128)    32896       concatenate_9[0][0]              \n",
      "__________________________________________________________________________________________________\n",
      "conv2d_74 (Conv2D)              (None, 7, 7, 192)    221376      conv2d_73[0][0]                  \n",
      "__________________________________________________________________________________________________\n",
      "conv2d_76 (Conv2D)              (None, 7, 7, 96)     76896       conv2d_75[0][0]                  \n",
      "__________________________________________________________________________________________________\n",
      "conv2d_77 (Conv2D)              (None, 7, 7, 64)     16448       max_pooling2d_21[0][0]           \n",
      "__________________________________________________________________________________________________\n",
      "concatenate_10 (Concatenate)    (None, 7, 7, 480)    0           conv2d_72[0][0]                  \n",
      "                                                                 conv2d_74[0][0]                  \n",
      "                                                                 conv2d_76[0][0]                  \n",
      "                                                                 conv2d_77[0][0]                  \n",
      "__________________________________________________________________________________________________\n",
      "max_pooling2d_22 (MaxPooling2D) (None, 4, 4, 480)    0           concatenate_10[0][0]             \n",
      "__________________________________________________________________________________________________\n",
      "conv2d_79 (Conv2D)              (None, 4, 4, 96)     46176       max_pooling2d_22[0][0]           \n",
      "__________________________________________________________________________________________________\n",
      "conv2d_81 (Conv2D)              (None, 4, 4, 16)     7696        max_pooling2d_22[0][0]           \n",
      "__________________________________________________________________________________________________\n",
      "max_pooling2d_23 (MaxPooling2D) (None, 4, 4, 480)    0           max_pooling2d_22[0][0]           \n",
      "__________________________________________________________________________________________________\n",
      "conv2d_78 (Conv2D)              (None, 4, 4, 192)    92352       max_pooling2d_22[0][0]           \n",
      "__________________________________________________________________________________________________\n",
      "conv2d_80 (Conv2D)              (None, 4, 4, 208)    179920      conv2d_79[0][0]                  \n",
      "__________________________________________________________________________________________________\n",
      "conv2d_82 (Conv2D)              (None, 4, 4, 48)     19248       conv2d_81[0][0]                  \n",
      "__________________________________________________________________________________________________\n",
      "conv2d_83 (Conv2D)              (None, 4, 4, 64)     30784       max_pooling2d_23[0][0]           \n",
      "__________________________________________________________________________________________________\n",
      "concatenate_11 (Concatenate)    (None, 4, 4, 512)    0           conv2d_78[0][0]                  \n",
      "                                                                 conv2d_80[0][0]                  \n",
      "                                                                 conv2d_82[0][0]                  \n",
      "                                                                 conv2d_83[0][0]                  \n",
      "__________________________________________________________________________________________________\n",
      "global_average_pooling2d_3 (Glo (None, 512)          0           concatenate_11[0][0]             \n",
      "__________________________________________________________________________________________________\n",
      "dense_3 (Dense)                 (None, 100)          51300       global_average_pooling2d_3[0][0] \n",
      "==================================================================================================\n",
      "Total params: 1,104,324\n",
      "Trainable params: 1,104,324\n",
      "Non-trainable params: 0\n",
      "__________________________________________________________________________________________________\n"
     ]
    }
   ],
   "source": [
    "model = create_InceptionV2Model()\n",
    "model.summary()"
   ]
  },
  {
   "cell_type": "code",
   "execution_count": 45,
   "metadata": {
    "id": "WcAf2mgXDvLy"
   },
   "outputs": [],
   "source": [
    "model.compile(optimizer=Adam(learning_rate=0.0001), loss=keras.losses.categorical_crossentropy, metrics=['accuracy'])"
   ]
  },
  {
   "cell_type": "markdown",
   "metadata": {
    "id": "8eMiHlC3TkLj"
   },
   "source": [
    "**Training**"
   ]
  },
  {
   "cell_type": "code",
   "execution_count": 46,
   "metadata": {
    "colab": {
     "base_uri": "https://localhost:8080/",
     "height": 34
    },
    "id": "t94CVXZFOOTE",
    "outputId": "155341db-af8c-4415-ab86-4dda068500f7"
   },
   "outputs": [
    {
     "name": "stdout",
     "output_type": "stream",
     "text": [
      "WARNING:tensorflow:`period` argument is deprecated. Please use `save_freq` to specify the frequency in number of batches seen.\n"
     ]
    }
   ],
   "source": [
    "checkpoint = ModelCheckpoint(path_train, monitor='val_accuracy', verbose=1, save_best_only=True, save_weights_only=False, mode='auto',period=1)\n",
    "early = EarlyStopping(monitor='val_accuracy', min_delta=0, patience=20, verbose=1, mode='auto')"
   ]
  },
  {
   "cell_type": "code",
   "execution_count": 47,
   "metadata": {
    "colab": {
     "base_uri": "https://localhost:8080/",
     "height": 1000
    },
    "id": "sB19ilBkJ2r7",
    "outputId": "6c7187ae-98ff-49c1-a6e7-a45fc3a8319c"
   },
   "outputs": [
    {
     "name": "stdout",
     "output_type": "stream",
     "text": [
      "Epoch 1/200\n",
      "\n",
      "Epoch 00001: val_accuracy improved from -inf to 0.11380, saving model to gdrive/My Drive/Colab Notebooks/InceptionV2_ADAM_NoRegularization_2.h5\n",
      "500/500 - 26s - loss: 4.1484 - accuracy: 0.0681 - val_loss: 3.8211 - val_accuracy: 0.1138\n",
      "Epoch 2/200\n",
      "\n",
      "Epoch 00002: val_accuracy improved from 0.11380 to 0.18230, saving model to gdrive/My Drive/Colab Notebooks/InceptionV2_ADAM_NoRegularization_2.h5\n",
      "500/500 - 25s - loss: 3.6484 - accuracy: 0.1437 - val_loss: 3.4489 - val_accuracy: 0.1823\n",
      "Epoch 3/200\n",
      "\n",
      "Epoch 00003: val_accuracy improved from 0.18230 to 0.20060, saving model to gdrive/My Drive/Colab Notebooks/InceptionV2_ADAM_NoRegularization_2.h5\n",
      "500/500 - 26s - loss: 3.3578 - accuracy: 0.1926 - val_loss: 3.2981 - val_accuracy: 0.2006\n",
      "Epoch 4/200\n",
      "\n",
      "Epoch 00004: val_accuracy improved from 0.20060 to 0.21700, saving model to gdrive/My Drive/Colab Notebooks/InceptionV2_ADAM_NoRegularization_2.h5\n",
      "500/500 - 26s - loss: 3.1755 - accuracy: 0.2242 - val_loss: 3.2445 - val_accuracy: 0.2170\n",
      "Epoch 5/200\n",
      "\n",
      "Epoch 00005: val_accuracy improved from 0.21700 to 0.26190, saving model to gdrive/My Drive/Colab Notebooks/InceptionV2_ADAM_NoRegularization_2.h5\n",
      "500/500 - 26s - loss: 3.0340 - accuracy: 0.2531 - val_loss: 3.0185 - val_accuracy: 0.2619\n",
      "Epoch 6/200\n",
      "\n",
      "Epoch 00006: val_accuracy improved from 0.26190 to 0.29070, saving model to gdrive/My Drive/Colab Notebooks/InceptionV2_ADAM_NoRegularization_2.h5\n",
      "500/500 - 26s - loss: 2.9253 - accuracy: 0.2743 - val_loss: 2.8584 - val_accuracy: 0.2907\n",
      "Epoch 7/200\n",
      "\n",
      "Epoch 00007: val_accuracy improved from 0.29070 to 0.29630, saving model to gdrive/My Drive/Colab Notebooks/InceptionV2_ADAM_NoRegularization_2.h5\n",
      "500/500 - 26s - loss: 2.8212 - accuracy: 0.2946 - val_loss: 2.8452 - val_accuracy: 0.2963\n",
      "Epoch 8/200\n",
      "\n",
      "Epoch 00008: val_accuracy improved from 0.29630 to 0.30420, saving model to gdrive/My Drive/Colab Notebooks/InceptionV2_ADAM_NoRegularization_2.h5\n",
      "500/500 - 26s - loss: 2.7223 - accuracy: 0.3122 - val_loss: 2.8119 - val_accuracy: 0.3042\n",
      "Epoch 9/200\n",
      "\n",
      "Epoch 00009: val_accuracy improved from 0.30420 to 0.33140, saving model to gdrive/My Drive/Colab Notebooks/InceptionV2_ADAM_NoRegularization_2.h5\n",
      "500/500 - 26s - loss: 2.6352 - accuracy: 0.3316 - val_loss: 2.6651 - val_accuracy: 0.3314\n",
      "Epoch 10/200\n",
      "\n",
      "Epoch 00010: val_accuracy improved from 0.33140 to 0.33830, saving model to gdrive/My Drive/Colab Notebooks/InceptionV2_ADAM_NoRegularization_2.h5\n",
      "500/500 - 26s - loss: 2.5618 - accuracy: 0.3445 - val_loss: 2.6346 - val_accuracy: 0.3383\n",
      "Epoch 11/200\n",
      "\n",
      "Epoch 00011: val_accuracy did not improve from 0.33830\n",
      "500/500 - 25s - loss: 2.4910 - accuracy: 0.3599 - val_loss: 2.6455 - val_accuracy: 0.3370\n",
      "Epoch 12/200\n",
      "\n",
      "Epoch 00012: val_accuracy improved from 0.33830 to 0.35600, saving model to gdrive/My Drive/Colab Notebooks/InceptionV2_ADAM_NoRegularization_2.h5\n",
      "500/500 - 26s - loss: 2.4320 - accuracy: 0.3718 - val_loss: 2.5598 - val_accuracy: 0.3560\n",
      "Epoch 13/200\n",
      "\n",
      "Epoch 00013: val_accuracy improved from 0.35600 to 0.37960, saving model to gdrive/My Drive/Colab Notebooks/InceptionV2_ADAM_NoRegularization_2.h5\n",
      "500/500 - 26s - loss: 2.3760 - accuracy: 0.3835 - val_loss: 2.4227 - val_accuracy: 0.3796\n",
      "Epoch 14/200\n",
      "\n",
      "Epoch 00014: val_accuracy did not improve from 0.37960\n",
      "500/500 - 25s - loss: 2.3319 - accuracy: 0.3914 - val_loss: 2.4852 - val_accuracy: 0.3736\n",
      "Epoch 15/200\n",
      "\n",
      "Epoch 00015: val_accuracy improved from 0.37960 to 0.39640, saving model to gdrive/My Drive/Colab Notebooks/InceptionV2_ADAM_NoRegularization_2.h5\n",
      "500/500 - 26s - loss: 2.2775 - accuracy: 0.4043 - val_loss: 2.3732 - val_accuracy: 0.3964\n",
      "Epoch 16/200\n",
      "\n",
      "Epoch 00016: val_accuracy did not improve from 0.39640\n",
      "500/500 - 26s - loss: 2.2361 - accuracy: 0.4118 - val_loss: 2.4186 - val_accuracy: 0.3857\n",
      "Epoch 17/200\n",
      "\n",
      "Epoch 00017: val_accuracy did not improve from 0.39640\n",
      "500/500 - 25s - loss: 2.1878 - accuracy: 0.4243 - val_loss: 2.3775 - val_accuracy: 0.3912\n",
      "Epoch 18/200\n",
      "\n",
      "Epoch 00018: val_accuracy improved from 0.39640 to 0.40750, saving model to gdrive/My Drive/Colab Notebooks/InceptionV2_ADAM_NoRegularization_2.h5\n",
      "500/500 - 26s - loss: 2.1602 - accuracy: 0.4295 - val_loss: 2.3128 - val_accuracy: 0.4075\n",
      "Epoch 19/200\n",
      "\n",
      "Epoch 00019: val_accuracy did not improve from 0.40750\n",
      "500/500 - 25s - loss: 2.1203 - accuracy: 0.4369 - val_loss: 2.3263 - val_accuracy: 0.4043\n",
      "Epoch 20/200\n",
      "\n",
      "Epoch 00020: val_accuracy did not improve from 0.40750\n",
      "500/500 - 25s - loss: 2.0732 - accuracy: 0.4483 - val_loss: 2.3736 - val_accuracy: 0.4011\n",
      "Epoch 21/200\n",
      "\n",
      "Epoch 00021: val_accuracy improved from 0.40750 to 0.41520, saving model to gdrive/My Drive/Colab Notebooks/InceptionV2_ADAM_NoRegularization_2.h5\n",
      "500/500 - 26s - loss: 2.0451 - accuracy: 0.4568 - val_loss: 2.2774 - val_accuracy: 0.4152\n",
      "Epoch 22/200\n",
      "\n",
      "Epoch 00022: val_accuracy improved from 0.41520 to 0.43250, saving model to gdrive/My Drive/Colab Notebooks/InceptionV2_ADAM_NoRegularization_2.h5\n",
      "500/500 - 26s - loss: 2.0121 - accuracy: 0.4631 - val_loss: 2.2236 - val_accuracy: 0.4325\n",
      "Epoch 23/200\n",
      "\n",
      "Epoch 00023: val_accuracy improved from 0.43250 to 0.44380, saving model to gdrive/My Drive/Colab Notebooks/InceptionV2_ADAM_NoRegularization_2.h5\n",
      "500/500 - 26s - loss: 1.9735 - accuracy: 0.4713 - val_loss: 2.1694 - val_accuracy: 0.4438\n",
      "Epoch 24/200\n",
      "\n",
      "Epoch 00024: val_accuracy did not improve from 0.44380\n",
      "500/500 - 25s - loss: 1.9402 - accuracy: 0.4785 - val_loss: 2.2330 - val_accuracy: 0.4311\n",
      "Epoch 25/200\n",
      "\n",
      "Epoch 00025: val_accuracy did not improve from 0.44380\n",
      "500/500 - 25s - loss: 1.9078 - accuracy: 0.4873 - val_loss: 2.2213 - val_accuracy: 0.4330\n",
      "Epoch 26/200\n",
      "\n",
      "Epoch 00026: val_accuracy did not improve from 0.44380\n",
      "500/500 - 25s - loss: 1.8826 - accuracy: 0.4931 - val_loss: 2.1928 - val_accuracy: 0.4388\n",
      "Epoch 27/200\n",
      "\n",
      "Epoch 00027: val_accuracy did not improve from 0.44380\n",
      "500/500 - 25s - loss: 1.8543 - accuracy: 0.4991 - val_loss: 2.2161 - val_accuracy: 0.4378\n",
      "Epoch 28/200\n",
      "\n",
      "Epoch 00028: val_accuracy improved from 0.44380 to 0.45970, saving model to gdrive/My Drive/Colab Notebooks/InceptionV2_ADAM_NoRegularization_2.h5\n",
      "500/500 - 26s - loss: 1.8242 - accuracy: 0.5084 - val_loss: 2.0997 - val_accuracy: 0.4597\n",
      "Epoch 29/200\n",
      "\n",
      "Epoch 00029: val_accuracy did not improve from 0.45970\n",
      "500/500 - 25s - loss: 1.8003 - accuracy: 0.5100 - val_loss: 2.1518 - val_accuracy: 0.4440\n",
      "Epoch 30/200\n",
      "\n",
      "Epoch 00030: val_accuracy did not improve from 0.45970\n",
      "500/500 - 25s - loss: 1.7677 - accuracy: 0.5210 - val_loss: 2.1399 - val_accuracy: 0.4495\n",
      "Epoch 31/200\n",
      "\n",
      "Epoch 00031: val_accuracy did not improve from 0.45970\n",
      "500/500 - 25s - loss: 1.7411 - accuracy: 0.5258 - val_loss: 2.1392 - val_accuracy: 0.4530\n",
      "Epoch 32/200\n",
      "\n",
      "Epoch 00032: val_accuracy did not improve from 0.45970\n",
      "500/500 - 25s - loss: 1.7269 - accuracy: 0.5299 - val_loss: 2.1335 - val_accuracy: 0.4546\n",
      "Epoch 33/200\n",
      "\n",
      "Epoch 00033: val_accuracy did not improve from 0.45970\n",
      "500/500 - 25s - loss: 1.6960 - accuracy: 0.5360 - val_loss: 2.2653 - val_accuracy: 0.4336\n",
      "Epoch 34/200\n",
      "\n",
      "Epoch 00034: val_accuracy improved from 0.45970 to 0.46970, saving model to gdrive/My Drive/Colab Notebooks/InceptionV2_ADAM_NoRegularization_2.h5\n",
      "500/500 - 26s - loss: 1.6644 - accuracy: 0.5416 - val_loss: 2.1111 - val_accuracy: 0.4697\n",
      "Epoch 35/200\n",
      "\n",
      "Epoch 00035: val_accuracy improved from 0.46970 to 0.47740, saving model to gdrive/My Drive/Colab Notebooks/InceptionV2_ADAM_NoRegularization_2.h5\n",
      "500/500 - 26s - loss: 1.6430 - accuracy: 0.5472 - val_loss: 2.0316 - val_accuracy: 0.4774\n",
      "Epoch 36/200\n",
      "\n",
      "Epoch 00036: val_accuracy did not improve from 0.47740\n",
      "500/500 - 25s - loss: 1.6212 - accuracy: 0.5540 - val_loss: 2.0712 - val_accuracy: 0.4670\n",
      "Epoch 37/200\n",
      "\n",
      "Epoch 00037: val_accuracy did not improve from 0.47740\n",
      "500/500 - 25s - loss: 1.6041 - accuracy: 0.5560 - val_loss: 2.1622 - val_accuracy: 0.4527\n",
      "Epoch 38/200\n",
      "\n",
      "Epoch 00038: val_accuracy did not improve from 0.47740\n",
      "500/500 - 25s - loss: 1.5711 - accuracy: 0.5654 - val_loss: 2.0817 - val_accuracy: 0.4662\n",
      "Epoch 39/200\n",
      "\n",
      "Epoch 00039: val_accuracy did not improve from 0.47740\n",
      "500/500 - 25s - loss: 1.5544 - accuracy: 0.5687 - val_loss: 2.1371 - val_accuracy: 0.4678\n",
      "Epoch 40/200\n",
      "\n",
      "Epoch 00040: val_accuracy improved from 0.47740 to 0.48180, saving model to gdrive/My Drive/Colab Notebooks/InceptionV2_ADAM_NoRegularization_2.h5\n",
      "500/500 - 26s - loss: 1.5276 - accuracy: 0.5732 - val_loss: 2.0702 - val_accuracy: 0.4818\n",
      "Epoch 41/200\n",
      "\n",
      "Epoch 00041: val_accuracy improved from 0.48180 to 0.49510, saving model to gdrive/My Drive/Colab Notebooks/InceptionV2_ADAM_NoRegularization_2.h5\n",
      "500/500 - 26s - loss: 1.5089 - accuracy: 0.5789 - val_loss: 1.9938 - val_accuracy: 0.4951\n",
      "Epoch 42/200\n",
      "\n",
      "Epoch 00042: val_accuracy did not improve from 0.49510\n",
      "500/500 - 26s - loss: 1.4899 - accuracy: 0.5837 - val_loss: 2.0196 - val_accuracy: 0.4867\n",
      "Epoch 43/200\n",
      "\n",
      "Epoch 00043: val_accuracy did not improve from 0.49510\n",
      "500/500 - 25s - loss: 1.4682 - accuracy: 0.5895 - val_loss: 2.0478 - val_accuracy: 0.4876\n",
      "Epoch 44/200\n",
      "\n",
      "Epoch 00044: val_accuracy did not improve from 0.49510\n",
      "500/500 - 25s - loss: 1.4404 - accuracy: 0.5971 - val_loss: 2.0707 - val_accuracy: 0.4913\n",
      "Epoch 45/200\n",
      "\n",
      "Epoch 00045: val_accuracy improved from 0.49510 to 0.49590, saving model to gdrive/My Drive/Colab Notebooks/InceptionV2_ADAM_NoRegularization_2.h5\n",
      "500/500 - 26s - loss: 1.4229 - accuracy: 0.6012 - val_loss: 2.0172 - val_accuracy: 0.4959\n",
      "Epoch 46/200\n",
      "\n",
      "Epoch 00046: val_accuracy did not improve from 0.49590\n",
      "500/500 - 25s - loss: 1.4023 - accuracy: 0.6054 - val_loss: 2.1404 - val_accuracy: 0.4800\n",
      "Epoch 47/200\n",
      "\n",
      "Epoch 00047: val_accuracy did not improve from 0.49590\n",
      "500/500 - 25s - loss: 1.3832 - accuracy: 0.6107 - val_loss: 2.2049 - val_accuracy: 0.4771\n",
      "Epoch 48/200\n",
      "\n",
      "Epoch 00048: val_accuracy did not improve from 0.49590\n",
      "500/500 - 25s - loss: 1.3641 - accuracy: 0.6129 - val_loss: 2.1048 - val_accuracy: 0.4813\n",
      "Epoch 49/200\n",
      "\n",
      "Epoch 00049: val_accuracy did not improve from 0.49590\n",
      "500/500 - 25s - loss: 1.3407 - accuracy: 0.6204 - val_loss: 2.0281 - val_accuracy: 0.4913\n",
      "Epoch 50/200\n",
      "\n",
      "Epoch 00050: val_accuracy did not improve from 0.49590\n",
      "500/500 - 25s - loss: 1.3272 - accuracy: 0.6225 - val_loss: 2.0355 - val_accuracy: 0.4951\n",
      "Epoch 51/200\n",
      "\n",
      "Epoch 00051: val_accuracy improved from 0.49590 to 0.50230, saving model to gdrive/My Drive/Colab Notebooks/InceptionV2_ADAM_NoRegularization_2.h5\n",
      "500/500 - 26s - loss: 1.3068 - accuracy: 0.6298 - val_loss: 2.0037 - val_accuracy: 0.5023\n",
      "Epoch 52/200\n",
      "\n",
      "Epoch 00052: val_accuracy improved from 0.50230 to 0.50750, saving model to gdrive/My Drive/Colab Notebooks/InceptionV2_ADAM_NoRegularization_2.h5\n",
      "500/500 - 26s - loss: 1.2876 - accuracy: 0.6338 - val_loss: 1.9497 - val_accuracy: 0.5075\n",
      "Epoch 53/200\n",
      "\n",
      "Epoch 00053: val_accuracy did not improve from 0.50750\n",
      "500/500 - 25s - loss: 1.2734 - accuracy: 0.6360 - val_loss: 2.0413 - val_accuracy: 0.4990\n",
      "Epoch 54/200\n",
      "\n",
      "Epoch 00054: val_accuracy did not improve from 0.50750\n",
      "500/500 - 25s - loss: 1.2444 - accuracy: 0.6466 - val_loss: 2.0453 - val_accuracy: 0.5006\n",
      "Epoch 55/200\n",
      "\n",
      "Epoch 00055: val_accuracy did not improve from 0.50750\n",
      "500/500 - 25s - loss: 1.2324 - accuracy: 0.6467 - val_loss: 2.1135 - val_accuracy: 0.4897\n",
      "Epoch 56/200\n",
      "\n",
      "Epoch 00056: val_accuracy did not improve from 0.50750\n",
      "500/500 - 25s - loss: 1.2146 - accuracy: 0.6502 - val_loss: 2.0690 - val_accuracy: 0.4949\n",
      "Epoch 57/200\n",
      "\n",
      "Epoch 00057: val_accuracy did not improve from 0.50750\n",
      "500/500 - 25s - loss: 1.2043 - accuracy: 0.6540 - val_loss: 2.0475 - val_accuracy: 0.5042\n",
      "Epoch 58/200\n",
      "\n",
      "Epoch 00058: val_accuracy did not improve from 0.50750\n",
      "500/500 - 25s - loss: 1.1780 - accuracy: 0.6614 - val_loss: 2.0903 - val_accuracy: 0.5033\n",
      "Epoch 59/200\n",
      "\n",
      "Epoch 00059: val_accuracy did not improve from 0.50750\n",
      "500/500 - 25s - loss: 1.1603 - accuracy: 0.6638 - val_loss: 2.0934 - val_accuracy: 0.4966\n",
      "Epoch 60/200\n",
      "\n",
      "Epoch 00060: val_accuracy improved from 0.50750 to 0.50980, saving model to gdrive/My Drive/Colab Notebooks/InceptionV2_ADAM_NoRegularization_2.h5\n",
      "500/500 - 26s - loss: 1.1476 - accuracy: 0.6677 - val_loss: 2.0287 - val_accuracy: 0.5098\n",
      "Epoch 61/200\n",
      "\n",
      "Epoch 00061: val_accuracy did not improve from 0.50980\n",
      "500/500 - 25s - loss: 1.1334 - accuracy: 0.6735 - val_loss: 2.0820 - val_accuracy: 0.5013\n",
      "Epoch 62/200\n",
      "\n",
      "Epoch 00062: val_accuracy did not improve from 0.50980\n",
      "500/500 - 25s - loss: 1.1123 - accuracy: 0.6746 - val_loss: 2.1437 - val_accuracy: 0.4969\n",
      "Epoch 63/200\n",
      "\n",
      "Epoch 00063: val_accuracy did not improve from 0.50980\n",
      "500/500 - 25s - loss: 1.0992 - accuracy: 0.6788 - val_loss: 2.0505 - val_accuracy: 0.5056\n",
      "Epoch 64/200\n",
      "\n",
      "Epoch 00064: val_accuracy improved from 0.50980 to 0.51470, saving model to gdrive/My Drive/Colab Notebooks/InceptionV2_ADAM_NoRegularization_2.h5\n",
      "500/500 - 26s - loss: 1.0846 - accuracy: 0.6845 - val_loss: 2.0610 - val_accuracy: 0.5147\n",
      "Epoch 65/200\n",
      "\n",
      "Epoch 00065: val_accuracy did not improve from 0.51470\n",
      "500/500 - 25s - loss: 1.0726 - accuracy: 0.6862 - val_loss: 2.0271 - val_accuracy: 0.5108\n",
      "Epoch 66/200\n",
      "\n",
      "Epoch 00066: val_accuracy did not improve from 0.51470\n",
      "500/500 - 25s - loss: 1.0570 - accuracy: 0.6926 - val_loss: 2.0950 - val_accuracy: 0.5103\n",
      "Epoch 67/200\n",
      "\n",
      "Epoch 00067: val_accuracy improved from 0.51470 to 0.52020, saving model to gdrive/My Drive/Colab Notebooks/InceptionV2_ADAM_NoRegularization_2.h5\n",
      "500/500 - 26s - loss: 1.0410 - accuracy: 0.6959 - val_loss: 2.0108 - val_accuracy: 0.5202\n",
      "Epoch 68/200\n",
      "\n",
      "Epoch 00068: val_accuracy did not improve from 0.52020\n",
      "500/500 - 25s - loss: 1.0258 - accuracy: 0.6968 - val_loss: 2.0806 - val_accuracy: 0.5161\n",
      "Epoch 69/200\n",
      "\n",
      "Epoch 00069: val_accuracy did not improve from 0.52020\n",
      "500/500 - 25s - loss: 1.0111 - accuracy: 0.7031 - val_loss: 2.1214 - val_accuracy: 0.5078\n",
      "Epoch 70/200\n",
      "\n",
      "Epoch 00070: val_accuracy did not improve from 0.52020\n",
      "500/500 - 25s - loss: 0.9966 - accuracy: 0.7072 - val_loss: 2.2096 - val_accuracy: 0.4957\n",
      "Epoch 71/200\n",
      "\n",
      "Epoch 00071: val_accuracy did not improve from 0.52020\n",
      "500/500 - 25s - loss: 0.9871 - accuracy: 0.7081 - val_loss: 2.2220 - val_accuracy: 0.4960\n",
      "Epoch 72/200\n",
      "\n",
      "Epoch 00072: val_accuracy did not improve from 0.52020\n",
      "500/500 - 25s - loss: 0.9705 - accuracy: 0.7125 - val_loss: 2.0942 - val_accuracy: 0.5105\n",
      "Epoch 73/200\n",
      "\n",
      "Epoch 00073: val_accuracy did not improve from 0.52020\n",
      "500/500 - 25s - loss: 0.9587 - accuracy: 0.7174 - val_loss: 2.1755 - val_accuracy: 0.5115\n",
      "Epoch 74/200\n",
      "\n",
      "Epoch 00074: val_accuracy did not improve from 0.52020\n",
      "500/500 - 25s - loss: 0.9360 - accuracy: 0.7213 - val_loss: 2.1436 - val_accuracy: 0.5165\n",
      "Epoch 75/200\n",
      "\n",
      "Epoch 00075: val_accuracy improved from 0.52020 to 0.52440, saving model to gdrive/My Drive/Colab Notebooks/InceptionV2_ADAM_NoRegularization_2.h5\n",
      "500/500 - 26s - loss: 0.9268 - accuracy: 0.7257 - val_loss: 2.0993 - val_accuracy: 0.5244\n",
      "Epoch 76/200\n",
      "\n",
      "Epoch 00076: val_accuracy did not improve from 0.52440\n",
      "500/500 - 25s - loss: 0.9150 - accuracy: 0.7274 - val_loss: 2.2885 - val_accuracy: 0.4976\n",
      "Epoch 77/200\n",
      "\n",
      "Epoch 00077: val_accuracy did not improve from 0.52440\n",
      "500/500 - 25s - loss: 0.9018 - accuracy: 0.7312 - val_loss: 2.2079 - val_accuracy: 0.5093\n",
      "Epoch 78/200\n",
      "\n",
      "Epoch 00078: val_accuracy did not improve from 0.52440\n",
      "500/500 - 25s - loss: 0.8811 - accuracy: 0.7364 - val_loss: 2.2263 - val_accuracy: 0.5150\n",
      "Epoch 79/200\n",
      "\n",
      "Epoch 00079: val_accuracy did not improve from 0.52440\n",
      "500/500 - 25s - loss: 0.8765 - accuracy: 0.7398 - val_loss: 2.1940 - val_accuracy: 0.5109\n",
      "Epoch 80/200\n",
      "\n",
      "Epoch 00080: val_accuracy did not improve from 0.52440\n",
      "500/500 - 25s - loss: 0.8578 - accuracy: 0.7438 - val_loss: 2.1934 - val_accuracy: 0.5187\n",
      "Epoch 81/200\n",
      "\n",
      "Epoch 00081: val_accuracy did not improve from 0.52440\n",
      "500/500 - 25s - loss: 0.8468 - accuracy: 0.7443 - val_loss: 2.2618 - val_accuracy: 0.5046\n",
      "Epoch 82/200\n",
      "\n",
      "Epoch 00082: val_accuracy did not improve from 0.52440\n",
      "500/500 - 25s - loss: 0.8337 - accuracy: 0.7502 - val_loss: 2.1220 - val_accuracy: 0.5217\n",
      "Epoch 83/200\n",
      "\n",
      "Epoch 00083: val_accuracy did not improve from 0.52440\n",
      "500/500 - 25s - loss: 0.8224 - accuracy: 0.7514 - val_loss: 2.1967 - val_accuracy: 0.5158\n",
      "Epoch 84/200\n",
      "\n",
      "Epoch 00084: val_accuracy did not improve from 0.52440\n",
      "500/500 - 25s - loss: 0.8140 - accuracy: 0.7555 - val_loss: 2.2152 - val_accuracy: 0.5108\n",
      "Epoch 85/200\n",
      "\n",
      "Epoch 00085: val_accuracy did not improve from 0.52440\n",
      "500/500 - 25s - loss: 0.7980 - accuracy: 0.7590 - val_loss: 2.2518 - val_accuracy: 0.5130\n",
      "Epoch 86/200\n",
      "\n",
      "Epoch 00086: val_accuracy did not improve from 0.52440\n",
      "500/500 - 25s - loss: 0.7865 - accuracy: 0.7614 - val_loss: 2.2134 - val_accuracy: 0.5193\n",
      "Epoch 87/200\n",
      "\n",
      "Epoch 00087: val_accuracy did not improve from 0.52440\n",
      "500/500 - 25s - loss: 0.7748 - accuracy: 0.7638 - val_loss: 2.3360 - val_accuracy: 0.5076\n",
      "Epoch 88/200\n",
      "\n",
      "Epoch 00088: val_accuracy did not improve from 0.52440\n",
      "500/500 - 25s - loss: 0.7636 - accuracy: 0.7669 - val_loss: 2.3651 - val_accuracy: 0.5066\n",
      "Epoch 89/200\n",
      "\n",
      "Epoch 00089: val_accuracy did not improve from 0.52440\n",
      "500/500 - 25s - loss: 0.7564 - accuracy: 0.7694 - val_loss: 2.3841 - val_accuracy: 0.5109\n",
      "Epoch 90/200\n",
      "\n",
      "Epoch 00090: val_accuracy did not improve from 0.52440\n",
      "500/500 - 25s - loss: 0.7400 - accuracy: 0.7724 - val_loss: 2.3342 - val_accuracy: 0.5042\n",
      "Epoch 91/200\n",
      "\n",
      "Epoch 00091: val_accuracy did not improve from 0.52440\n",
      "500/500 - 25s - loss: 0.7341 - accuracy: 0.7749 - val_loss: 2.3354 - val_accuracy: 0.5166\n",
      "Epoch 92/200\n",
      "\n",
      "Epoch 00092: val_accuracy did not improve from 0.52440\n",
      "500/500 - 25s - loss: 0.7220 - accuracy: 0.7788 - val_loss: 2.3428 - val_accuracy: 0.5118\n",
      "Epoch 93/200\n",
      "\n",
      "Epoch 00093: val_accuracy did not improve from 0.52440\n",
      "500/500 - 25s - loss: 0.7106 - accuracy: 0.7831 - val_loss: 2.4004 - val_accuracy: 0.5111\n",
      "Epoch 94/200\n",
      "\n",
      "Epoch 00094: val_accuracy did not improve from 0.52440\n",
      "500/500 - 25s - loss: 0.6928 - accuracy: 0.7863 - val_loss: 2.3807 - val_accuracy: 0.5149\n",
      "Epoch 95/200\n",
      "\n",
      "Epoch 00095: val_accuracy did not improve from 0.52440\n",
      "500/500 - 25s - loss: 0.6884 - accuracy: 0.7862 - val_loss: 2.3557 - val_accuracy: 0.5190\n",
      "Epoch 00095: early stopping\n"
     ]
    }
   ],
   "source": [
    "history = model.fit(datagen.flow(x_train_norm, y_train_norm,\n",
    "                                        batch_size=batch_size),\n",
    "                        steps_per_epoch=x_train_norm.shape[0]// batch_size,\n",
    "                        epochs=epochs,\n",
    "                        validation_data=(x_test_norm,y_test_norm),\n",
    "                        callbacks=[checkpoint, early],verbose=2)"
   ]
  },
  {
   "cell_type": "markdown",
   "metadata": {
    "id": "uGR9b7B8I1ti"
   },
   "source": [
    "*Plotting training accuracy and loss*"
   ]
  },
  {
   "cell_type": "code",
   "execution_count": 48,
   "metadata": {
    "colab": {
     "base_uri": "https://localhost:8080/",
     "height": 421
    },
    "id": "bZD9TJspI9M_",
    "outputId": "9962cd08-83bc-4c61-8120-7d300218791b"
   },
   "outputs": [
    {
     "data": {
      "text/plain": [
       "<matplotlib.legend.Legend at 0x7fed8e03ef60>"
      ]
     },
     "execution_count": 48,
     "metadata": {
      "tags": []
     },
     "output_type": "execute_result"
    },
    {
     "data": {
      "image/png": "[encoded data removed]",
      "text/plain": [
       "<Figure size 1440x432 with 2 Axes>"
      ]
     },
     "metadata": {
      "needs_background": "light",
      "tags": []
     },
     "output_type": "display_data"
    }
   ],
   "source": [
    "fig, axs = plt.subplots(1, 2, figsize=(20, 6))\n",
    "axs[0].plot(history.history['accuracy'])\n",
    "axs[0].plot(history.history['val_accuracy'])\n",
    "axs[0].set_title('Model Accuracy')\n",
    "axs[0].set(ylabel ='accuracy')\n",
    "axs[0].set(xlabel ='epoch')\n",
    "axs[0].legend(['train', 'test'], loc='upper left')\n",
    "\n",
    "axs[1].plot(history.history['loss'])\n",
    "axs[1].plot(history.history['val_loss'])\n",
    "axs[1].set_title('Model Loss')\n",
    "axs[1].set(ylabel='loss')\n",
    "axs[1].set(xlabel='epoch')\n",
    "axs[1].legend(['train', 'test'], loc='upper left')"
   ]
  },
  {
   "cell_type": "markdown",
   "metadata": {
    "id": "BsSMmgrzUXBk"
   },
   "source": [
    "**Prediction**"
   ]
  },
  {
   "cell_type": "code",
   "execution_count": 53,
   "metadata": {
    "id": "Zw9ax_fHUbNz"
   },
   "outputs": [],
   "source": [
    "model.load_weights(path_best)\n",
    "y_pred = np.argmax(model.predict(x_test_norm), axis=-1)"
   ]
  },
  {
   "cell_type": "code",
   "execution_count": 54,
   "metadata": {
    "colab": {
     "base_uri": "https://localhost:8080/",
     "height": 67
    },
    "id": "7hwodZxnmt8N",
    "outputId": "bc830233-bb4d-4d22-e558-591918c4c776"
   },
   "outputs": [
    {
     "name": "stdout",
     "output_type": "stream",
     "text": [
      "Precision:  0.5453338480838057\n",
      "Recall:  0.5214\n",
      "Accuracy:  0.5214\n"
     ]
    }
   ],
   "source": [
    "precision = precision_score(y_test, y_pred, average='weighted')\n",
    "print(\"Precision: \", precision)\n",
    "recall = recall_score(y_test, y_pred, average='weighted')\n",
    "print(\"Recall: \", recall)\n",
    "accuracy = accuracy_score(y_test, y_pred)\n",
    "print(\"Accuracy: \", accuracy)"
   ]
  }
 ],
 "metadata": {
  "accelerator": "GPU",
  "colab": {
   "collapsed_sections": [],
   "name": "InceptionV2_ADAM_NoRegularization.ipynb",
   "provenance": []
  },
  "kernelspec": {
   "display_name": "Python 3",
   "language": "python",
   "name": "python3"
  },
  "language_info": {
   "codemirror_mode": {
    "name": "ipython",
    "version": 3
   },
   "file_extension": ".py",
   "mimetype": "text/x-python",
   "name": "python",
   "nbconvert_exporter": "python",
   "pygments_lexer": "ipython3",
   "version": "3.7.6"
  }
 },
 "nbformat": 4,
 "nbformat_minor": 1
}
