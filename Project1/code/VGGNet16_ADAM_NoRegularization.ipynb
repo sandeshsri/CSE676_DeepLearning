{
 "cells": [
  {
   "cell_type": "code",
   "execution_count": 1,
   "metadata": {
    "id": "Q2Kfxt726PWs"
   },
   "outputs": [],
   "source": [
    "import numpy as np\n",
    "from keras.models import Sequential\n",
    "from keras.datasets import cifar100\n",
    "from keras.utils import to_categorical\n",
    "from keras.models import Sequential\n",
    "from keras.layers import Conv2D, MaxPool2D, Flatten, Dense, Activation\n",
    "from keras.optimizers import Adam\n",
    "import keras\n",
    "from keras.preprocessing.image import ImageDataGenerator\n",
    "from keras.callbacks import ModelCheckpoint, EarlyStopping\n",
    "from sklearn.metrics import accuracy_score, precision_score, recall_score\n",
    "import matplotlib.pyplot as plt"
   ]
  },
  {
   "cell_type": "code",
   "execution_count": 2,
   "metadata": {
    "colab": {
     "base_uri": "https://localhost:8080/",
     "height": 34
    },
    "id": "NYkVYnY67czA",
    "outputId": "52cfb927-f543-4332-f0be-8c2641504031"
   },
   "outputs": [
    {
     "name": "stdout",
     "output_type": "stream",
     "text": [
      "Mounted at /content/gdrive\n"
     ]
    }
   ],
   "source": [
    "from google.colab import drive\n",
    "drive.mount('/content/gdrive', force_remount=True)"
   ]
  },
  {
   "cell_type": "code",
   "execution_count": 3,
   "metadata": {
    "id": "XBXZlryaPROx"
   },
   "outputs": [],
   "source": [
    "NUMBER_OF_CLASSES = 100\n",
    "epochs = 200\n",
    "batch_size = 100\n",
    "path_best = \"gdrive/My Drive/Colab Notebooks/VGGNet16_ADAM_NoRegularization.h5\"\n",
    "# path_best = \"../weights/VGGNet16_ADAM_NoRegularization.h5\"\n",
    "path_train = \"gdrive/My Drive/Colab Notebooks/VGGNet16_ADAM_NoRegularization_2.h5\" "
   ]
  },
  {
   "cell_type": "code",
   "execution_count": 4,
   "metadata": {
    "colab": {
     "base_uri": "https://localhost:8080/",
     "height": 50
    },
    "id": "6OSeM4U57me7",
    "outputId": "8cfdc73d-bbeb-470b-d4b0-fc9e5df0a598"
   },
   "outputs": [
    {
     "name": "stdout",
     "output_type": "stream",
     "text": [
      "Downloading data from https://www.cs.toronto.edu/~kriz/cifar-100-python.tar.gz\n",
      "169009152/169001437 [==============================] - 6s 0us/step\n"
     ]
    }
   ],
   "source": [
    "(x_train,y_train), (x_test, y_test) = cifar100.load_data()\n",
    "\n",
    "y_train_norm = to_categorical(y_train, NUMBER_OF_CLASSES)\n",
    "y_test_norm = to_categorical(y_test, NUMBER_OF_CLASSES)\n",
    "\n",
    "y_test = y_test.flatten()\n",
    "\n",
    "x_train = x_train.astype('float32')/255\n",
    "x_test = x_test.astype('float32')/255\n",
    "\n",
    "mean = np.mean(x_train, axis=(0,1,2,3))\n",
    "std = np.std(x_train, axis=(0,1,2,3))\n",
    "\n",
    "x_train_norm = (x_train-mean)/(std+1e-7)\n",
    "x_test_norm = (x_test-mean)/(std+1e-7)"
   ]
  },
  {
   "cell_type": "code",
   "execution_count": 5,
   "metadata": {
    "id": "CFWBUH-0PYM0"
   },
   "outputs": [],
   "source": [
    "datagen = ImageDataGenerator(\n",
    "    featurewise_center=False,\n",
    "    samplewise_center=False,\n",
    "    featurewise_std_normalization=False,\n",
    "    samplewise_std_normalization=False,\n",
    "    zca_whitening=False,\n",
    "    zca_epsilon=1e-06,\n",
    "    rotation_range=10,\n",
    "    width_shift_range=0.1,\n",
    "    height_shift_range=0.1,\n",
    "    horizontal_flip=True,\n",
    "    vertical_flip=False)\n",
    "\n",
    "datagen.fit(x_train_norm)"
   ]
  },
  {
   "cell_type": "code",
   "execution_count": 6,
   "metadata": {
    "id": "RjzYt9u77sTy"
   },
   "outputs": [],
   "source": [
    "def create_VGG16Model():\n",
    "    model = Sequential()\n",
    "    \n",
    "    model.add(Conv2D(input_shape=(32,32,3), filters=64, kernel_size=(3,3), padding=\"same\"))\n",
    "    model.add(Activation('relu'))\n",
    "    model.add(Conv2D(filters=64, kernel_size=(3,3), padding=\"same\"))\n",
    "    model.add(Activation('relu'))\n",
    "    model.add(MaxPool2D(pool_size=(2,2), strides=(2,2)))\n",
    "\n",
    "    model.add(Conv2D(filters=128, kernel_size=(3,3), padding=\"same\"))\n",
    "    model.add(Activation('relu'))\n",
    "    model.add(Conv2D(filters=128, kernel_size=(3,3), padding=\"same\"))\n",
    "    model.add(Activation('relu'))\n",
    "    model.add(MaxPool2D(pool_size=(2,2), strides=(2,2)))\n",
    "\n",
    "    model.add(Conv2D(filters=256, kernel_size=(3,3), padding=\"same\"))\n",
    "    model.add(Activation('relu'))\n",
    "    model.add(Conv2D(filters=256, kernel_size=(3,3), padding=\"same\"))\n",
    "    model.add(Activation('relu'))\n",
    "    model.add(Conv2D(filters=256, kernel_size=(3,3), padding=\"same\"))\n",
    "    model.add(Activation('relu'))\n",
    "    model.add(MaxPool2D(pool_size=(2,2), strides=(2,2)))\n",
    "\n",
    "    model.add(Conv2D(filters=512, kernel_size=(3,3), padding=\"same\"))\n",
    "    model.add(Activation('relu'))\n",
    "    model.add(Conv2D(filters=512, kernel_size=(3,3), padding=\"same\"))\n",
    "    model.add(Activation('relu'))\n",
    "    model.add(Conv2D(filters=512, kernel_size=(3,3), padding=\"same\"))\n",
    "    model.add(Activation('relu'))\n",
    "    model.add(MaxPool2D(pool_size=(2,2), strides=(2,2)))\n",
    "\n",
    "    model.add(Conv2D(filters=512, kernel_size=(3,3), padding=\"same\"))\n",
    "    model.add(Activation('relu'))\n",
    "    model.add(Conv2D(filters=512, kernel_size=(3,3), padding=\"same\"))\n",
    "    model.add(Activation('relu'))\n",
    "    model.add(Conv2D(filters=512, kernel_size=(3,3), padding=\"same\"))\n",
    "    model.add(Activation('relu'))\n",
    "    model.add(MaxPool2D(pool_size=(2,2), strides=(2,2)))\n",
    "\n",
    "    model.add(Flatten())\n",
    "\n",
    "    model.add(Dense(4096))\n",
    "    model.add(Activation('relu'))\n",
    "    model.add(Dense(4096))\n",
    "    model.add(Activation('relu'))\n",
    "    model.add(Dense(NUMBER_OF_CLASSES))\n",
    "    model.add(Activation('softmax'))\n",
    "    return model"
   ]
  },
  {
   "cell_type": "code",
   "execution_count": 7,
   "metadata": {
    "colab": {
     "base_uri": "https://localhost:8080/",
     "height": 1000
    },
    "id": "YBCWuynkGmZN",
    "outputId": "b2bcf8b2-19c7-4c63-94a0-24ee256ea8fa"
   },
   "outputs": [
    {
     "name": "stdout",
     "output_type": "stream",
     "text": [
      "Model: \"sequential\"\n",
      "_________________________________________________________________\n",
      "Layer (type)                 Output Shape              Param #   \n",
      "=================================================================\n",
      "conv2d (Conv2D)              (None, 32, 32, 64)        1792      \n",
      "_________________________________________________________________\n",
      "activation (Activation)      (None, 32, 32, 64)        0         \n",
      "_________________________________________________________________\n",
      "conv2d_1 (Conv2D)            (None, 32, 32, 64)        36928     \n",
      "_________________________________________________________________\n",
      "activation_1 (Activation)    (None, 32, 32, 64)        0         \n",
      "_________________________________________________________________\n",
      "max_pooling2d (MaxPooling2D) (None, 16, 16, 64)        0         \n",
      "_________________________________________________________________\n",
      "conv2d_2 (Conv2D)            (None, 16, 16, 128)       73856     \n",
      "_________________________________________________________________\n",
      "activation_2 (Activation)    (None, 16, 16, 128)       0         \n",
      "_________________________________________________________________\n",
      "conv2d_3 (Conv2D)            (None, 16, 16, 128)       147584    \n",
      "_________________________________________________________________\n",
      "activation_3 (Activation)    (None, 16, 16, 128)       0         \n",
      "_________________________________________________________________\n",
      "max_pooling2d_1 (MaxPooling2 (None, 8, 8, 128)         0         \n",
      "_________________________________________________________________\n",
      "conv2d_4 (Conv2D)            (None, 8, 8, 256)         295168    \n",
      "_________________________________________________________________\n",
      "activation_4 (Activation)    (None, 8, 8, 256)         0         \n",
      "_________________________________________________________________\n",
      "conv2d_5 (Conv2D)            (None, 8, 8, 256)         590080    \n",
      "_________________________________________________________________\n",
      "activation_5 (Activation)    (None, 8, 8, 256)         0         \n",
      "_________________________________________________________________\n",
      "conv2d_6 (Conv2D)            (None, 8, 8, 256)         590080    \n",
      "_________________________________________________________________\n",
      "activation_6 (Activation)    (None, 8, 8, 256)         0         \n",
      "_________________________________________________________________\n",
      "max_pooling2d_2 (MaxPooling2 (None, 4, 4, 256)         0         \n",
      "_________________________________________________________________\n",
      "conv2d_7 (Conv2D)            (None, 4, 4, 512)         1180160   \n",
      "_________________________________________________________________\n",
      "activation_7 (Activation)    (None, 4, 4, 512)         0         \n",
      "_________________________________________________________________\n",
      "conv2d_8 (Conv2D)            (None, 4, 4, 512)         2359808   \n",
      "_________________________________________________________________\n",
      "activation_8 (Activation)    (None, 4, 4, 512)         0         \n",
      "_________________________________________________________________\n",
      "conv2d_9 (Conv2D)            (None, 4, 4, 512)         2359808   \n",
      "_________________________________________________________________\n",
      "activation_9 (Activation)    (None, 4, 4, 512)         0         \n",
      "_________________________________________________________________\n",
      "max_pooling2d_3 (MaxPooling2 (None, 2, 2, 512)         0         \n",
      "_________________________________________________________________\n",
      "conv2d_10 (Conv2D)           (None, 2, 2, 512)         2359808   \n",
      "_________________________________________________________________\n",
      "activation_10 (Activation)   (None, 2, 2, 512)         0         \n",
      "_________________________________________________________________\n",
      "conv2d_11 (Conv2D)           (None, 2, 2, 512)         2359808   \n",
      "_________________________________________________________________\n",
      "activation_11 (Activation)   (None, 2, 2, 512)         0         \n",
      "_________________________________________________________________\n",
      "conv2d_12 (Conv2D)           (None, 2, 2, 512)         2359808   \n",
      "_________________________________________________________________\n",
      "activation_12 (Activation)   (None, 2, 2, 512)         0         \n",
      "_________________________________________________________________\n",
      "max_pooling2d_4 (MaxPooling2 (None, 1, 1, 512)         0         \n",
      "_________________________________________________________________\n",
      "flatten (Flatten)            (None, 512)               0         \n",
      "_________________________________________________________________\n",
      "dense (Dense)                (None, 4096)              2101248   \n",
      "_________________________________________________________________\n",
      "activation_13 (Activation)   (None, 4096)              0         \n",
      "_________________________________________________________________\n",
      "dense_1 (Dense)              (None, 4096)              16781312  \n",
      "_________________________________________________________________\n",
      "activation_14 (Activation)   (None, 4096)              0         \n",
      "_________________________________________________________________\n",
      "dense_2 (Dense)              (None, 100)               409700    \n",
      "_________________________________________________________________\n",
      "activation_15 (Activation)   (None, 100)               0         \n",
      "=================================================================\n",
      "Total params: 34,006,948\n",
      "Trainable params: 34,006,948\n",
      "Non-trainable params: 0\n",
      "_________________________________________________________________\n"
     ]
    }
   ],
   "source": [
    "model = create_VGG16Model()\n",
    "model.summary()"
   ]
  },
  {
   "cell_type": "code",
   "execution_count": 8,
   "metadata": {
    "id": "WcAf2mgXDvLy"
   },
   "outputs": [],
   "source": [
    "model.compile(optimizer=Adam(learning_rate=0.0001), loss=keras.losses.categorical_crossentropy, metrics=['accuracy'])"
   ]
  },
  {
   "cell_type": "markdown",
   "metadata": {
    "id": "7V1suYwGPmvm"
   },
   "source": [
    "**Training**"
   ]
  },
  {
   "cell_type": "code",
   "execution_count": 9,
   "metadata": {
    "colab": {
     "base_uri": "https://localhost:8080/",
     "height": 34
    },
    "id": "t94CVXZFOOTE",
    "outputId": "80b8b8de-07e2-40f6-ad0a-6aec942d1680"
   },
   "outputs": [
    {
     "name": "stdout",
     "output_type": "stream",
     "text": [
      "WARNING:tensorflow:`period` argument is deprecated. Please use `save_freq` to specify the frequency in number of batches seen.\n"
     ]
    }
   ],
   "source": [
    "checkpoint = ModelCheckpoint(path_train, monitor='val_accuracy', verbose=1, save_best_only=True, save_weights_only=False, mode='auto',period=1)\n",
    "early = EarlyStopping(monitor='val_accuracy', min_delta=0, patience=20, verbose=1, mode='auto')"
   ]
  },
  {
   "cell_type": "code",
   "execution_count": 10,
   "metadata": {
    "colab": {
     "base_uri": "https://localhost:8080/",
     "height": 1000
    },
    "id": "sB19ilBkJ2r7",
    "outputId": "98178ec0-173e-4b7f-dabb-6384222d993d"
   },
   "outputs": [
    {
     "name": "stdout",
     "output_type": "stream",
     "text": [
      "Epoch 1/200\n",
      "WARNING:tensorflow:Callbacks method `on_train_batch_end` is slow compared to the batch time (batch time: 0.0177s vs `on_train_batch_end` time: 0.0314s). Check your callbacks.\n",
      "\n",
      "Epoch 00001: val_accuracy improved from -inf to 0.03330, saving model to gdrive/My Drive/Colab Notebooks/VGGNet16_ADAM_NoRegularization_2.h5\n",
      "500/500 - 38s - loss: 4.3465 - accuracy: 0.0232 - val_loss: 4.1781 - val_accuracy: 0.0333\n",
      "Epoch 2/200\n",
      "\n",
      "Epoch 00002: val_accuracy improved from 0.03330 to 0.06160, saving model to gdrive/My Drive/Colab Notebooks/VGGNet16_ADAM_NoRegularization_2.h5\n",
      "500/500 - 35s - loss: 4.0614 - accuracy: 0.0484 - val_loss: 3.9577 - val_accuracy: 0.0616\n",
      "Epoch 3/200\n",
      "\n",
      "Epoch 00003: val_accuracy improved from 0.06160 to 0.09980, saving model to gdrive/My Drive/Colab Notebooks/VGGNet16_ADAM_NoRegularization_2.h5\n",
      "500/500 - 36s - loss: 3.8195 - accuracy: 0.0820 - val_loss: 3.6906 - val_accuracy: 0.0998\n",
      "Epoch 4/200\n",
      "\n",
      "Epoch 00004: val_accuracy improved from 0.09980 to 0.13190, saving model to gdrive/My Drive/Colab Notebooks/VGGNet16_ADAM_NoRegularization_2.h5\n",
      "500/500 - 35s - loss: 3.6385 - accuracy: 0.1106 - val_loss: 3.5245 - val_accuracy: 0.1319\n",
      "Epoch 5/200\n",
      "\n",
      "Epoch 00005: val_accuracy improved from 0.13190 to 0.17030, saving model to gdrive/My Drive/Colab Notebooks/VGGNet16_ADAM_NoRegularization_2.h5\n",
      "500/500 - 35s - loss: 3.4570 - accuracy: 0.1446 - val_loss: 3.3477 - val_accuracy: 0.1703\n",
      "Epoch 6/200\n",
      "\n",
      "Epoch 00006: val_accuracy improved from 0.17030 to 0.19090, saving model to gdrive/My Drive/Colab Notebooks/VGGNet16_ADAM_NoRegularization_2.h5\n",
      "500/500 - 35s - loss: 3.3142 - accuracy: 0.1700 - val_loss: 3.2360 - val_accuracy: 0.1909\n",
      "Epoch 7/200\n",
      "\n",
      "Epoch 00007: val_accuracy improved from 0.19090 to 0.21950, saving model to gdrive/My Drive/Colab Notebooks/VGGNet16_ADAM_NoRegularization_2.h5\n",
      "500/500 - 35s - loss: 3.1702 - accuracy: 0.1971 - val_loss: 3.0852 - val_accuracy: 0.2195\n",
      "Epoch 8/200\n",
      "\n",
      "Epoch 00008: val_accuracy improved from 0.21950 to 0.23000, saving model to gdrive/My Drive/Colab Notebooks/VGGNet16_ADAM_NoRegularization_2.h5\n",
      "500/500 - 35s - loss: 3.0342 - accuracy: 0.2261 - val_loss: 3.0543 - val_accuracy: 0.2300\n",
      "Epoch 9/200\n",
      "\n",
      "Epoch 00009: val_accuracy improved from 0.23000 to 0.25460, saving model to gdrive/My Drive/Colab Notebooks/VGGNet16_ADAM_NoRegularization_2.h5\n",
      "500/500 - 35s - loss: 2.9071 - accuracy: 0.2543 - val_loss: 2.9768 - val_accuracy: 0.2546\n",
      "Epoch 10/200\n",
      "\n",
      "Epoch 00010: val_accuracy improved from 0.25460 to 0.28970, saving model to gdrive/My Drive/Colab Notebooks/VGGNet16_ADAM_NoRegularization_2.h5\n",
      "500/500 - 35s - loss: 2.7964 - accuracy: 0.2787 - val_loss: 2.7462 - val_accuracy: 0.2897\n",
      "Epoch 11/200\n",
      "\n",
      "Epoch 00011: val_accuracy improved from 0.28970 to 0.30900, saving model to gdrive/My Drive/Colab Notebooks/VGGNet16_ADAM_NoRegularization_2.h5\n",
      "500/500 - 35s - loss: 2.6733 - accuracy: 0.3030 - val_loss: 2.6688 - val_accuracy: 0.3090\n",
      "Epoch 12/200\n",
      "\n",
      "Epoch 00012: val_accuracy improved from 0.30900 to 0.31870, saving model to gdrive/My Drive/Colab Notebooks/VGGNet16_ADAM_NoRegularization_2.h5\n",
      "500/500 - 35s - loss: 2.5432 - accuracy: 0.3313 - val_loss: 2.6313 - val_accuracy: 0.3187\n",
      "Epoch 13/200\n",
      "\n",
      "Epoch 00013: val_accuracy improved from 0.31870 to 0.32670, saving model to gdrive/My Drive/Colab Notebooks/VGGNet16_ADAM_NoRegularization_2.h5\n",
      "500/500 - 35s - loss: 2.4276 - accuracy: 0.3593 - val_loss: 2.6539 - val_accuracy: 0.3267\n",
      "Epoch 14/200\n",
      "\n",
      "Epoch 00014: val_accuracy improved from 0.32670 to 0.37990, saving model to gdrive/My Drive/Colab Notebooks/VGGNet16_ADAM_NoRegularization_2.h5\n",
      "500/500 - 35s - loss: 2.3147 - accuracy: 0.3822 - val_loss: 2.3675 - val_accuracy: 0.3799\n",
      "Epoch 15/200\n",
      "\n",
      "Epoch 00015: val_accuracy improved from 0.37990 to 0.38240, saving model to gdrive/My Drive/Colab Notebooks/VGGNet16_ADAM_NoRegularization_2.h5\n",
      "500/500 - 35s - loss: 2.2176 - accuracy: 0.4045 - val_loss: 2.3640 - val_accuracy: 0.3824\n",
      "Epoch 16/200\n",
      "\n",
      "Epoch 00016: val_accuracy improved from 0.38240 to 0.39970, saving model to gdrive/My Drive/Colab Notebooks/VGGNet16_ADAM_NoRegularization_2.h5\n",
      "500/500 - 35s - loss: 2.1247 - accuracy: 0.4283 - val_loss: 2.3411 - val_accuracy: 0.3997\n",
      "Epoch 17/200\n",
      "\n",
      "Epoch 00017: val_accuracy improved from 0.39970 to 0.40860, saving model to gdrive/My Drive/Colab Notebooks/VGGNet16_ADAM_NoRegularization_2.h5\n",
      "500/500 - 35s - loss: 2.0396 - accuracy: 0.4484 - val_loss: 2.3126 - val_accuracy: 0.4086\n",
      "Epoch 18/200\n",
      "\n",
      "Epoch 00018: val_accuracy improved from 0.40860 to 0.43390, saving model to gdrive/My Drive/Colab Notebooks/VGGNet16_ADAM_NoRegularization_2.h5\n",
      "500/500 - 35s - loss: 1.9748 - accuracy: 0.4626 - val_loss: 2.1925 - val_accuracy: 0.4339\n",
      "Epoch 19/200\n",
      "\n",
      "Epoch 00019: val_accuracy did not improve from 0.43390\n",
      "500/500 - 32s - loss: 1.8873 - accuracy: 0.4851 - val_loss: 2.2231 - val_accuracy: 0.4295\n",
      "Epoch 20/200\n",
      "\n",
      "Epoch 00020: val_accuracy improved from 0.43390 to 0.45380, saving model to gdrive/My Drive/Colab Notebooks/VGGNet16_ADAM_NoRegularization_2.h5\n",
      "500/500 - 34s - loss: 1.8222 - accuracy: 0.5024 - val_loss: 2.1567 - val_accuracy: 0.4538\n",
      "Epoch 21/200\n",
      "\n",
      "Epoch 00021: val_accuracy did not improve from 0.45380\n",
      "500/500 - 32s - loss: 1.7622 - accuracy: 0.5150 - val_loss: 2.1356 - val_accuracy: 0.4526\n",
      "Epoch 22/200\n",
      "\n",
      "Epoch 00022: val_accuracy did not improve from 0.45380\n",
      "500/500 - 31s - loss: 1.6936 - accuracy: 0.5303 - val_loss: 2.2501 - val_accuracy: 0.4388\n",
      "Epoch 23/200\n",
      "\n",
      "Epoch 00023: val_accuracy improved from 0.45380 to 0.46930, saving model to gdrive/My Drive/Colab Notebooks/VGGNet16_ADAM_NoRegularization_2.h5\n",
      "500/500 - 34s - loss: 1.6356 - accuracy: 0.5494 - val_loss: 2.1075 - val_accuracy: 0.4693\n",
      "Epoch 24/200\n",
      "\n",
      "Epoch 00024: val_accuracy did not improve from 0.46930\n",
      "500/500 - 32s - loss: 1.5706 - accuracy: 0.5615 - val_loss: 2.1425 - val_accuracy: 0.4625\n",
      "Epoch 25/200\n",
      "\n",
      "Epoch 00025: val_accuracy improved from 0.46930 to 0.47460, saving model to gdrive/My Drive/Colab Notebooks/VGGNet16_ADAM_NoRegularization_2.h5\n",
      "500/500 - 34s - loss: 1.5185 - accuracy: 0.5752 - val_loss: 2.1180 - val_accuracy: 0.4746\n",
      "Epoch 26/200\n",
      "\n",
      "Epoch 00026: val_accuracy improved from 0.47460 to 0.48670, saving model to gdrive/My Drive/Colab Notebooks/VGGNet16_ADAM_NoRegularization_2.h5\n",
      "500/500 - 35s - loss: 1.4610 - accuracy: 0.5900 - val_loss: 2.0920 - val_accuracy: 0.4867\n",
      "Epoch 27/200\n",
      "\n",
      "Epoch 00027: val_accuracy did not improve from 0.48670\n",
      "500/500 - 32s - loss: 1.4060 - accuracy: 0.6052 - val_loss: 2.1161 - val_accuracy: 0.4839\n",
      "Epoch 28/200\n",
      "\n",
      "Epoch 00028: val_accuracy improved from 0.48670 to 0.49200, saving model to gdrive/My Drive/Colab Notebooks/VGGNet16_ADAM_NoRegularization_2.h5\n",
      "500/500 - 34s - loss: 1.3554 - accuracy: 0.6175 - val_loss: 2.1110 - val_accuracy: 0.4920\n",
      "Epoch 29/200\n",
      "\n",
      "Epoch 00029: val_accuracy improved from 0.49200 to 0.50060, saving model to gdrive/My Drive/Colab Notebooks/VGGNet16_ADAM_NoRegularization_2.h5\n",
      "500/500 - 35s - loss: 1.3178 - accuracy: 0.6276 - val_loss: 2.0946 - val_accuracy: 0.5006\n",
      "Epoch 30/200\n",
      "\n",
      "Epoch 00030: val_accuracy did not improve from 0.50060\n",
      "500/500 - 32s - loss: 1.2757 - accuracy: 0.6405 - val_loss: 2.0998 - val_accuracy: 0.4912\n",
      "Epoch 31/200\n",
      "\n",
      "Epoch 00031: val_accuracy improved from 0.50060 to 0.50430, saving model to gdrive/My Drive/Colab Notebooks/VGGNet16_ADAM_NoRegularization_2.h5\n",
      "500/500 - 34s - loss: 1.2251 - accuracy: 0.6501 - val_loss: 2.0999 - val_accuracy: 0.5043\n",
      "Epoch 32/200\n",
      "\n",
      "Epoch 00032: val_accuracy did not improve from 0.50430\n",
      "500/500 - 32s - loss: 1.1780 - accuracy: 0.6652 - val_loss: 2.2017 - val_accuracy: 0.4883\n",
      "Epoch 33/200\n",
      "\n",
      "Epoch 00033: val_accuracy did not improve from 0.50430\n",
      "500/500 - 31s - loss: 1.1456 - accuracy: 0.6736 - val_loss: 2.0952 - val_accuracy: 0.4996\n",
      "Epoch 34/200\n",
      "\n",
      "Epoch 00034: val_accuracy did not improve from 0.50430\n",
      "500/500 - 31s - loss: 1.0997 - accuracy: 0.6842 - val_loss: 2.1777 - val_accuracy: 0.4996\n",
      "Epoch 35/200\n",
      "\n",
      "Epoch 00035: val_accuracy did not improve from 0.50430\n",
      "500/500 - 31s - loss: 1.0674 - accuracy: 0.6922 - val_loss: 2.1828 - val_accuracy: 0.5040\n",
      "Epoch 36/200\n",
      "\n",
      "Epoch 00036: val_accuracy improved from 0.50430 to 0.51890, saving model to gdrive/My Drive/Colab Notebooks/VGGNet16_ADAM_NoRegularization_2.h5\n",
      "500/500 - 35s - loss: 1.0231 - accuracy: 0.7054 - val_loss: 2.1248 - val_accuracy: 0.5189\n",
      "Epoch 37/200\n",
      "\n",
      "Epoch 00037: val_accuracy did not improve from 0.51890\n",
      "500/500 - 32s - loss: 0.9909 - accuracy: 0.7128 - val_loss: 2.1327 - val_accuracy: 0.5171\n",
      "Epoch 38/200\n",
      "\n",
      "Epoch 00038: val_accuracy did not improve from 0.51890\n",
      "500/500 - 31s - loss: 0.9556 - accuracy: 0.7215 - val_loss: 2.1249 - val_accuracy: 0.5178\n",
      "Epoch 39/200\n",
      "\n",
      "Epoch 00039: val_accuracy improved from 0.51890 to 0.52720, saving model to gdrive/My Drive/Colab Notebooks/VGGNet16_ADAM_NoRegularization_2.h5\n",
      "500/500 - 34s - loss: 0.9274 - accuracy: 0.7292 - val_loss: 2.1847 - val_accuracy: 0.5272\n",
      "Epoch 40/200\n",
      "\n",
      "Epoch 00040: val_accuracy did not improve from 0.52720\n",
      "500/500 - 32s - loss: 0.8857 - accuracy: 0.7419 - val_loss: 2.3167 - val_accuracy: 0.5054\n",
      "Epoch 41/200\n",
      "\n",
      "Epoch 00041: val_accuracy improved from 0.52720 to 0.52850, saving model to gdrive/My Drive/Colab Notebooks/VGGNet16_ADAM_NoRegularization_2.h5\n",
      "500/500 - 34s - loss: 0.8617 - accuracy: 0.7497 - val_loss: 2.2292 - val_accuracy: 0.5285\n",
      "Epoch 42/200\n",
      "\n",
      "Epoch 00042: val_accuracy did not improve from 0.52850\n",
      "500/500 - 32s - loss: 0.8290 - accuracy: 0.7570 - val_loss: 2.3289 - val_accuracy: 0.5123\n",
      "Epoch 43/200\n",
      "\n",
      "Epoch 00043: val_accuracy did not improve from 0.52850\n",
      "500/500 - 31s - loss: 0.7980 - accuracy: 0.7668 - val_loss: 2.3193 - val_accuracy: 0.5123\n",
      "Epoch 44/200\n",
      "\n",
      "Epoch 00044: val_accuracy did not improve from 0.52850\n",
      "500/500 - 31s - loss: 0.7791 - accuracy: 0.7711 - val_loss: 2.2850 - val_accuracy: 0.5155\n",
      "Epoch 45/200\n",
      "\n",
      "Epoch 00045: val_accuracy did not improve from 0.52850\n",
      "500/500 - 31s - loss: 0.7500 - accuracy: 0.7798 - val_loss: 2.3933 - val_accuracy: 0.5142\n",
      "Epoch 46/200\n",
      "\n",
      "Epoch 00046: val_accuracy did not improve from 0.52850\n",
      "500/500 - 31s - loss: 0.7244 - accuracy: 0.7855 - val_loss: 2.3716 - val_accuracy: 0.5200\n",
      "Epoch 47/200\n",
      "\n",
      "Epoch 00047: val_accuracy did not improve from 0.52850\n",
      "500/500 - 31s - loss: 0.6969 - accuracy: 0.7932 - val_loss: 2.3895 - val_accuracy: 0.5221\n",
      "Epoch 48/200\n",
      "\n",
      "Epoch 00048: val_accuracy did not improve from 0.52850\n",
      "500/500 - 31s - loss: 0.6762 - accuracy: 0.8016 - val_loss: 2.3494 - val_accuracy: 0.5280\n",
      "Epoch 49/200\n",
      "\n",
      "Epoch 00049: val_accuracy did not improve from 0.52850\n",
      "500/500 - 31s - loss: 0.6593 - accuracy: 0.8044 - val_loss: 2.3531 - val_accuracy: 0.5268\n",
      "Epoch 50/200\n",
      "\n",
      "Epoch 00050: val_accuracy did not improve from 0.52850\n",
      "500/500 - 31s - loss: 0.6256 - accuracy: 0.8136 - val_loss: 2.4620 - val_accuracy: 0.5232\n",
      "Epoch 51/200\n",
      "\n",
      "Epoch 00051: val_accuracy did not improve from 0.52850\n",
      "500/500 - 32s - loss: 0.6120 - accuracy: 0.8196 - val_loss: 2.4278 - val_accuracy: 0.5143\n",
      "Epoch 52/200\n",
      "\n",
      "Epoch 00052: val_accuracy did not improve from 0.52850\n",
      "500/500 - 32s - loss: 0.5908 - accuracy: 0.8242 - val_loss: 2.6152 - val_accuracy: 0.5088\n",
      "Epoch 53/200\n",
      "\n",
      "Epoch 00053: val_accuracy did not improve from 0.52850\n",
      "500/500 - 31s - loss: 0.5727 - accuracy: 0.8299 - val_loss: 2.4421 - val_accuracy: 0.5190\n",
      "Epoch 54/200\n",
      "\n",
      "Epoch 00054: val_accuracy did not improve from 0.52850\n",
      "500/500 - 31s - loss: 0.5551 - accuracy: 0.8346 - val_loss: 2.4794 - val_accuracy: 0.5229\n",
      "Epoch 55/200\n",
      "\n",
      "Epoch 00055: val_accuracy did not improve from 0.52850\n",
      "500/500 - 32s - loss: 0.5400 - accuracy: 0.8390 - val_loss: 2.4733 - val_accuracy: 0.5283\n",
      "Epoch 56/200\n",
      "\n",
      "Epoch 00056: val_accuracy did not improve from 0.52850\n",
      "500/500 - 32s - loss: 0.5125 - accuracy: 0.8464 - val_loss: 2.6207 - val_accuracy: 0.5147\n",
      "Epoch 57/200\n",
      "\n",
      "Epoch 00057: val_accuracy did not improve from 0.52850\n",
      "500/500 - 32s - loss: 0.5095 - accuracy: 0.8481 - val_loss: 2.5687 - val_accuracy: 0.5268\n",
      "Epoch 58/200\n",
      "\n",
      "Epoch 00058: val_accuracy did not improve from 0.52850\n",
      "500/500 - 32s - loss: 0.4859 - accuracy: 0.8549 - val_loss: 2.5971 - val_accuracy: 0.5285\n",
      "Epoch 59/200\n",
      "\n",
      "Epoch 00059: val_accuracy improved from 0.52850 to 0.53250, saving model to gdrive/My Drive/Colab Notebooks/VGGNet16_ADAM_NoRegularization_2.h5\n",
      "500/500 - 35s - loss: 0.4708 - accuracy: 0.8591 - val_loss: 2.5987 - val_accuracy: 0.5325\n",
      "Epoch 60/200\n",
      "\n",
      "Epoch 00060: val_accuracy improved from 0.53250 to 0.53730, saving model to gdrive/My Drive/Colab Notebooks/VGGNet16_ADAM_NoRegularization_2.h5\n",
      "500/500 - 35s - loss: 0.4646 - accuracy: 0.8610 - val_loss: 2.6403 - val_accuracy: 0.5373\n",
      "Epoch 61/200\n",
      "\n",
      "Epoch 00061: val_accuracy did not improve from 0.53730\n",
      "500/500 - 32s - loss: 0.4420 - accuracy: 0.8661 - val_loss: 2.7126 - val_accuracy: 0.5207\n",
      "Epoch 62/200\n",
      "\n",
      "Epoch 00062: val_accuracy did not improve from 0.53730\n",
      "500/500 - 32s - loss: 0.4272 - accuracy: 0.8706 - val_loss: 2.6550 - val_accuracy: 0.5248\n",
      "Epoch 63/200\n",
      "\n",
      "Epoch 00063: val_accuracy did not improve from 0.53730\n",
      "500/500 - 32s - loss: 0.4166 - accuracy: 0.8734 - val_loss: 2.7178 - val_accuracy: 0.5260\n",
      "Epoch 64/200\n",
      "\n",
      "Epoch 00064: val_accuracy did not improve from 0.53730\n",
      "500/500 - 32s - loss: 0.4119 - accuracy: 0.8761 - val_loss: 2.6563 - val_accuracy: 0.5186\n",
      "Epoch 65/200\n",
      "\n",
      "Epoch 00065: val_accuracy improved from 0.53730 to 0.53830, saving model to gdrive/My Drive/Colab Notebooks/VGGNet16_ADAM_NoRegularization_2.h5\n",
      "500/500 - 36s - loss: 0.4026 - accuracy: 0.8782 - val_loss: 2.6684 - val_accuracy: 0.5383\n",
      "Epoch 66/200\n",
      "\n",
      "Epoch 00066: val_accuracy did not improve from 0.53830\n",
      "500/500 - 32s - loss: 0.3865 - accuracy: 0.8831 - val_loss: 2.6668 - val_accuracy: 0.5288\n",
      "Epoch 67/200\n",
      "\n",
      "Epoch 00067: val_accuracy did not improve from 0.53830\n",
      "500/500 - 32s - loss: 0.3845 - accuracy: 0.8832 - val_loss: 2.8770 - val_accuracy: 0.5169\n",
      "Epoch 68/200\n",
      "\n",
      "Epoch 00068: val_accuracy did not improve from 0.53830\n",
      "500/500 - 32s - loss: 0.3696 - accuracy: 0.8877 - val_loss: 2.7680 - val_accuracy: 0.5316\n",
      "Epoch 69/200\n",
      "\n",
      "Epoch 00069: val_accuracy did not improve from 0.53830\n",
      "500/500 - 32s - loss: 0.3710 - accuracy: 0.8872 - val_loss: 2.7204 - val_accuracy: 0.5315\n",
      "Epoch 70/200\n",
      "\n",
      "Epoch 00070: val_accuracy did not improve from 0.53830\n",
      "500/500 - 32s - loss: 0.3510 - accuracy: 0.8939 - val_loss: 2.8283 - val_accuracy: 0.5288\n",
      "Epoch 71/200\n",
      "\n",
      "Epoch 00071: val_accuracy did not improve from 0.53830\n",
      "500/500 - 32s - loss: 0.3423 - accuracy: 0.8964 - val_loss: 2.8360 - val_accuracy: 0.5229\n",
      "Epoch 72/200\n",
      "\n",
      "Epoch 00072: val_accuracy did not improve from 0.53830\n",
      "500/500 - 32s - loss: 0.3376 - accuracy: 0.8973 - val_loss: 2.8741 - val_accuracy: 0.5213\n",
      "Epoch 73/200\n",
      "\n",
      "Epoch 00073: val_accuracy improved from 0.53830 to 0.54330, saving model to gdrive/My Drive/Colab Notebooks/VGGNet16_ADAM_NoRegularization_2.h5\n",
      "500/500 - 35s - loss: 0.3285 - accuracy: 0.9014 - val_loss: 2.7062 - val_accuracy: 0.5433\n",
      "Epoch 74/200\n",
      "\n",
      "Epoch 00074: val_accuracy did not improve from 0.54330\n",
      "500/500 - 32s - loss: 0.3118 - accuracy: 0.9062 - val_loss: 2.8175 - val_accuracy: 0.5303\n",
      "Epoch 75/200\n",
      "\n",
      "Epoch 00075: val_accuracy did not improve from 0.54330\n",
      "500/500 - 32s - loss: 0.3121 - accuracy: 0.9065 - val_loss: 2.8862 - val_accuracy: 0.5264\n",
      "Epoch 76/200\n",
      "\n",
      "Epoch 00076: val_accuracy did not improve from 0.54330\n",
      "500/500 - 32s - loss: 0.2966 - accuracy: 0.9109 - val_loss: 2.8358 - val_accuracy: 0.5314\n",
      "Epoch 77/200\n",
      "\n",
      "Epoch 00077: val_accuracy did not improve from 0.54330\n",
      "500/500 - 32s - loss: 0.2944 - accuracy: 0.9112 - val_loss: 2.8511 - val_accuracy: 0.5371\n",
      "Epoch 78/200\n",
      "\n",
      "Epoch 00078: val_accuracy did not improve from 0.54330\n",
      "500/500 - 32s - loss: 0.2859 - accuracy: 0.9125 - val_loss: 2.9112 - val_accuracy: 0.5306\n",
      "Epoch 79/200\n",
      "\n",
      "Epoch 00079: val_accuracy did not improve from 0.54330\n",
      "500/500 - 33s - loss: 0.2787 - accuracy: 0.9162 - val_loss: 3.0223 - val_accuracy: 0.5293\n",
      "Epoch 80/200\n",
      "\n",
      "Epoch 00080: val_accuracy did not improve from 0.54330\n",
      "500/500 - 33s - loss: 0.2863 - accuracy: 0.9131 - val_loss: 2.7976 - val_accuracy: 0.5293\n",
      "Epoch 81/200\n",
      "\n",
      "Epoch 00081: val_accuracy did not improve from 0.54330\n",
      "500/500 - 32s - loss: 0.2757 - accuracy: 0.9170 - val_loss: 3.0243 - val_accuracy: 0.5241\n",
      "Epoch 82/200\n",
      "\n",
      "Epoch 00082: val_accuracy did not improve from 0.54330\n",
      "500/500 - 32s - loss: 0.2674 - accuracy: 0.9187 - val_loss: 2.9789 - val_accuracy: 0.5299\n",
      "Epoch 83/200\n",
      "\n",
      "Epoch 00083: val_accuracy did not improve from 0.54330\n",
      "500/500 - 32s - loss: 0.2592 - accuracy: 0.9220 - val_loss: 2.8555 - val_accuracy: 0.5408\n",
      "Epoch 84/200\n",
      "\n",
      "Epoch 00084: val_accuracy did not improve from 0.54330\n",
      "500/500 - 32s - loss: 0.2654 - accuracy: 0.9200 - val_loss: 3.1164 - val_accuracy: 0.5178\n",
      "Epoch 85/200\n",
      "\n",
      "Epoch 00085: val_accuracy did not improve from 0.54330\n",
      "500/500 - 32s - loss: 0.2448 - accuracy: 0.9258 - val_loss: 2.9493 - val_accuracy: 0.5349\n",
      "Epoch 86/200\n",
      "\n",
      "Epoch 00086: val_accuracy did not improve from 0.54330\n",
      "500/500 - 33s - loss: 0.2477 - accuracy: 0.9252 - val_loss: 3.0066 - val_accuracy: 0.5398\n",
      "Epoch 87/200\n",
      "\n",
      "Epoch 00087: val_accuracy did not improve from 0.54330\n",
      "500/500 - 33s - loss: 0.2468 - accuracy: 0.9256 - val_loss: 2.8625 - val_accuracy: 0.5404\n",
      "Epoch 88/200\n",
      "\n",
      "Epoch 00088: val_accuracy did not improve from 0.54330\n",
      "500/500 - 33s - loss: 0.2311 - accuracy: 0.9300 - val_loss: 3.0001 - val_accuracy: 0.5258\n",
      "Epoch 89/200\n",
      "\n",
      "Epoch 00089: val_accuracy did not improve from 0.54330\n",
      "500/500 - 33s - loss: 0.2339 - accuracy: 0.9295 - val_loss: 3.0001 - val_accuracy: 0.5332\n",
      "Epoch 90/200\n",
      "\n",
      "Epoch 00090: val_accuracy did not improve from 0.54330\n",
      "500/500 - 33s - loss: 0.2302 - accuracy: 0.9307 - val_loss: 3.0086 - val_accuracy: 0.5360\n",
      "Epoch 91/200\n",
      "\n",
      "Epoch 00091: val_accuracy did not improve from 0.54330\n",
      "500/500 - 32s - loss: 0.2216 - accuracy: 0.9337 - val_loss: 3.0756 - val_accuracy: 0.5317\n",
      "Epoch 92/200\n",
      "\n",
      "Epoch 00092: val_accuracy did not improve from 0.54330\n",
      "500/500 - 33s - loss: 0.2249 - accuracy: 0.9323 - val_loss: 2.9891 - val_accuracy: 0.5367\n",
      "Epoch 93/200\n",
      "\n",
      "Epoch 00093: val_accuracy did not improve from 0.54330\n",
      "500/500 - 32s - loss: 0.2198 - accuracy: 0.9342 - val_loss: 3.0235 - val_accuracy: 0.5417\n",
      "Epoch 00093: early stopping\n"
     ]
    }
   ],
   "source": [
    "history = model.fit(datagen.flow(x_train_norm, y_train_norm,\n",
    "                                        batch_size=batch_size),\n",
    "                        steps_per_epoch=x_train_norm.shape[0]// batch_size,\n",
    "                        epochs=epochs,\n",
    "                        validation_data=(x_test_norm,y_test_norm),\n",
    "                        callbacks=[checkpoint, early],verbose=2)"
   ]
  },
  {
   "cell_type": "markdown",
   "metadata": {
    "id": "t7IJPhrBSCce"
   },
   "source": [
    "*Plotting training accuracy and loss*"
   ]
  },
  {
   "cell_type": "code",
   "execution_count": 11,
   "metadata": {
    "colab": {
     "base_uri": "https://localhost:8080/",
     "height": 421
    },
    "id": "uy0BlJ2xSDRk",
    "outputId": "04190b9b-b252-450e-8381-cf7a7e38fc81"
   },
   "outputs": [
    {
     "data": {
      "text/plain": [
       "<matplotlib.legend.Legend at 0x7f4c7c107630>"
      ]
     },
     "execution_count": 11,
     "metadata": {
      "tags": []
     },
     "output_type": "execute_result"
    },
    {
     "data": {
      "image/png": "[encoded data removed]",
      "text/plain": [
       "<Figure size 1440x432 with 2 Axes>"
      ]
     },
     "metadata": {
      "needs_background": "light",
      "tags": []
     },
     "output_type": "display_data"
    }
   ],
   "source": [
    "fig, axs = plt.subplots(1, 2, figsize=(20, 6))\n",
    "axs[0].plot(history.history['accuracy'])\n",
    "axs[0].plot(history.history['val_accuracy'])\n",
    "axs[0].set_title('Model Accuracy')\n",
    "axs[0].set(ylabel ='accuracy')\n",
    "axs[0].set(xlabel ='epoch')\n",
    "axs[0].legend(['train', 'test'], loc='upper left')\n",
    "\n",
    "axs[1].plot(history.history['loss'])\n",
    "axs[1].plot(history.history['val_loss'])\n",
    "axs[1].set_title('Model Loss')\n",
    "axs[1].set(ylabel='loss')\n",
    "axs[1].set(xlabel='epoch')\n",
    "axs[1].legend(['train', 'test'], loc='upper left')"
   ]
  },
  {
   "cell_type": "markdown",
   "metadata": {
    "id": "rg9aEqi9QD8L"
   },
   "source": [
    "**Prediction**"
   ]
  },
  {
   "cell_type": "code",
   "execution_count": 21,
   "metadata": {
    "id": "EyYn1B29QLKD"
   },
   "outputs": [],
   "source": [
    "model.load_weights(path_best) \n",
    "\n",
    "y_pred = np.argmax(model.predict(x_test_norm), axis=-1)"
   ]
  },
  {
   "cell_type": "code",
   "execution_count": 22,
   "metadata": {
    "colab": {
     "base_uri": "https://localhost:8080/",
     "height": 67
    },
    "id": "mRz3pEsPQRX8",
    "outputId": "f8ccb0a3-05e6-446d-9b30-c9ce03eadd1d"
   },
   "outputs": [
    {
     "name": "stdout",
     "output_type": "stream",
     "text": [
      "Precision:  0.5611436827275874\n",
      "Recall:  0.5433\n",
      "Accuracy:  0.5433\n"
     ]
    }
   ],
   "source": [
    "precision = precision_score(y_test, y_pred, average='weighted')\n",
    "print(\"Precision: \", precision)\n",
    "recall = recall_score(y_test, y_pred, average='weighted')\n",
    "print(\"Recall: \", recall)\n",
    "accuracy = accuracy_score(y_test, y_pred)\n",
    "print(\"Accuracy: \", accuracy)"
   ]
  }
 ],
 "metadata": {
  "accelerator": "GPU",
  "colab": {
   "collapsed_sections": [],
   "name": "VGGNet16_ADAM_NoRegularization.ipynb",
   "provenance": []
  },
  "kernelspec": {
   "display_name": "Python 3",
   "language": "python",
   "name": "python3"
  },
  "language_info": {
   "codemirror_mode": {
    "name": "ipython",
    "version": 3
   },
   "file_extension": ".py",
   "mimetype": "text/x-python",
   "name": "python",
   "nbconvert_exporter": "python",
   "pygments_lexer": "ipython3",
   "version": "3.7.6"
  }
 },
 "nbformat": 4,
 "nbformat_minor": 1
}
